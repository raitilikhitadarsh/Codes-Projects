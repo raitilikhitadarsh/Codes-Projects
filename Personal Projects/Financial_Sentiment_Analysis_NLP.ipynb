{
 "cells": [
  {
   "cell_type": "markdown",
   "metadata": {
    "id": "lC6R4QaV0Ci0"
   },
   "source": [
    "# Sentiment Analysis of Financial News Using NLTK"
   ]
  },
  {
   "cell_type": "markdown",
   "metadata": {
    "id": "Iq7zwt8VJh1Z"
   },
   "source": [
    "We have to predict the sentiment of fiancial news using nltk"
   ]
  },
  {
   "cell_type": "markdown",
   "metadata": {
    "id": "Y6-xhkpm0MqU"
   },
   "source": [
    "#About Dataset\n",
    "\n",
    "This dataset contains 3 csv file\n",
    "\n",
    "cnbc headline   (3080, 3)\n",
    "\n",
    "gaurdian headline   (17800, 2)\n",
    "\n",
    "reuters headline   (32770, 3)\n"
   ]
  },
  {
   "cell_type": "markdown",
   "metadata": {
    "id": "sZRF0xat134_"
   },
   "source": [
    "# Columns Provided in the Dataset\n",
    "\n",
    "cnbc headline\n",
    "1. time\n",
    "2. headlines\n",
    "3. Description\n",
    "\n",
    "gaurdian headline\n",
    "1. time\n",
    "2. headline\n",
    "\n",
    "reuters headline\n",
    "1. time\n",
    "2. headline\n",
    "3. description\n"
   ]
  },
  {
   "cell_type": "code",
   "execution_count": 1,
   "metadata": {
    "colab": {
     "base_uri": "https://localhost:8080/"
    },
    "id": "pE3JktaFgX_s",
    "outputId": "0324e30c-7e6d-47f7-b1e5-2b64046ab02c"
   },
   "outputs": [
    {
     "name": "stderr",
     "output_type": "stream",
     "text": [
      "[nltk_data] Downloading package stopwords to\n",
      "[nltk_data]     C:\\Users\\KIIT\\AppData\\Roaming\\nltk_data...\n",
      "[nltk_data]   Package stopwords is already up-to-date!\n",
      "[nltk_data] Downloading package punkt to\n",
      "[nltk_data]     C:\\Users\\KIIT\\AppData\\Roaming\\nltk_data...\n",
      "[nltk_data]   Package punkt is already up-to-date!\n",
      "[nltk_data] Downloading package wordnet to\n",
      "[nltk_data]     C:\\Users\\KIIT\\AppData\\Roaming\\nltk_data...\n",
      "[nltk_data]   Package wordnet is already up-to-date!\n"
     ]
    }
   ],
   "source": [
    "# Import all the required libraries \n",
    "import nltk\n",
    "nltk.download('stopwords')\n",
    "nltk.download('punkt')\n",
    "nltk.download('wordnet')\n",
    "import pandas as pd\n",
    "from nltk.corpus import stopwords\n",
    "from nltk.tokenize import sent_tokenize\n",
    "from nltk.probability import FreqDist\n",
    "from nltk.stem.wordnet import WordNetLemmatizer\n",
    "from nltk.tokenize import word_tokenize\n",
    "import matplotlib.pyplot as plt\n",
    "\n",
    "\n",
    "#import stopwords and text processing libraries\n",
    "\n"
   ]
  },
  {
   "cell_type": "code",
   "execution_count": 2,
   "metadata": {
    "id": "B1qtW2W7gX67"
   },
   "outputs": [],
   "source": [
    "#import machine learning libraries\n",
    "\n",
    "\n",
    "\n"
   ]
  },
  {
   "cell_type": "markdown",
   "metadata": {
    "id": "ijgTOXVu4QvL"
   },
   "source": [
    "# Basic EDA on cnbc_headlines dataset"
   ]
  },
  {
   "cell_type": "code",
   "execution_count": 3,
   "metadata": {
    "id": "EkHTI2fsgX1x"
   },
   "outputs": [],
   "source": [
    "# Read csv file of cnbc headlines using pandas\n",
    "raw_data_cnbc = pd.read_csv(\"C:/Users/KIIT/Desktop/Data Science Exercise/CloudyML/Assignments/2. ML for Data Science/Datasets/Sentiment Analysis/cnbc_headlines.csv\")\n",
    "df_cnbc = raw_data_cnbc.copy()"
   ]
  },
  {
   "cell_type": "code",
   "execution_count": 4,
   "metadata": {
    "colab": {
     "base_uri": "https://localhost:8080/",
     "height": 202
    },
    "id": "Pel3IRW1gX0_",
    "outputId": "22789c43-1702-4ce5-cfc3-7284f5343c72"
   },
   "outputs": [
    {
     "data": {
      "text/html": [
       "<div>\n",
       "<style scoped>\n",
       "    .dataframe tbody tr th:only-of-type {\n",
       "        vertical-align: middle;\n",
       "    }\n",
       "\n",
       "    .dataframe tbody tr th {\n",
       "        vertical-align: top;\n",
       "    }\n",
       "\n",
       "    .dataframe thead th {\n",
       "        text-align: right;\n",
       "    }\n",
       "</style>\n",
       "<table border=\"1\" class=\"dataframe\">\n",
       "  <thead>\n",
       "    <tr style=\"text-align: right;\">\n",
       "      <th></th>\n",
       "      <th>Headlines</th>\n",
       "      <th>Time</th>\n",
       "      <th>Description</th>\n",
       "    </tr>\n",
       "  </thead>\n",
       "  <tbody>\n",
       "    <tr>\n",
       "      <th>0</th>\n",
       "      <td>Jim Cramer: A better way to invest in the Covi...</td>\n",
       "      <td>7:51  PM ET Fri, 17 July 2020</td>\n",
       "      <td>\"Mad Money\" host Jim Cramer recommended buying...</td>\n",
       "    </tr>\n",
       "    <tr>\n",
       "      <th>1</th>\n",
       "      <td>Cramer's lightning round: I would own Teradyne</td>\n",
       "      <td>7:33  PM ET Fri, 17 July 2020</td>\n",
       "      <td>\"Mad Money\" host Jim Cramer rings the lightnin...</td>\n",
       "    </tr>\n",
       "    <tr>\n",
       "      <th>2</th>\n",
       "      <td>NaN</td>\n",
       "      <td>NaN</td>\n",
       "      <td>NaN</td>\n",
       "    </tr>\n",
       "    <tr>\n",
       "      <th>3</th>\n",
       "      <td>Cramer's week ahead: Big week for earnings, ev...</td>\n",
       "      <td>7:25  PM ET Fri, 17 July 2020</td>\n",
       "      <td>\"We'll pay more for the earnings of the non-Co...</td>\n",
       "    </tr>\n",
       "    <tr>\n",
       "      <th>4</th>\n",
       "      <td>IQ Capital CEO Keith Bliss says tech and healt...</td>\n",
       "      <td>4:24  PM ET Fri, 17 July 2020</td>\n",
       "      <td>Keith Bliss, IQ Capital CEO, joins \"Closing Be...</td>\n",
       "    </tr>\n",
       "  </tbody>\n",
       "</table>\n",
       "</div>"
      ],
      "text/plain": [
       "                                           Headlines  \\\n",
       "0  Jim Cramer: A better way to invest in the Covi...   \n",
       "1     Cramer's lightning round: I would own Teradyne   \n",
       "2                                                NaN   \n",
       "3  Cramer's week ahead: Big week for earnings, ev...   \n",
       "4  IQ Capital CEO Keith Bliss says tech and healt...   \n",
       "\n",
       "                             Time  \\\n",
       "0   7:51  PM ET Fri, 17 July 2020   \n",
       "1   7:33  PM ET Fri, 17 July 2020   \n",
       "2                             NaN   \n",
       "3   7:25  PM ET Fri, 17 July 2020   \n",
       "4   4:24  PM ET Fri, 17 July 2020   \n",
       "\n",
       "                                         Description  \n",
       "0  \"Mad Money\" host Jim Cramer recommended buying...  \n",
       "1  \"Mad Money\" host Jim Cramer rings the lightnin...  \n",
       "2                                                NaN  \n",
       "3  \"We'll pay more for the earnings of the non-Co...  \n",
       "4  Keith Bliss, IQ Capital CEO, joins \"Closing Be...  "
      ]
     },
     "execution_count": 4,
     "metadata": {},
     "output_type": "execute_result"
    }
   ],
   "source": [
    "df_cnbc.head()"
   ]
  },
  {
   "cell_type": "code",
   "execution_count": 5,
   "metadata": {
    "colab": {
     "base_uri": "https://localhost:8080/"
    },
    "id": "7MY607w2gXxS",
    "outputId": "95607ac5-e89c-4896-e5d1-4268a4d80e25"
   },
   "outputs": [
    {
     "data": {
      "text/plain": [
       "(3080, 3)"
      ]
     },
     "execution_count": 5,
     "metadata": {},
     "output_type": "execute_result"
    }
   ],
   "source": [
    "# check the shape of cnbc headline dataset\n",
    "df_cnbc.shape"
   ]
  },
  {
   "cell_type": "code",
   "execution_count": 6,
   "metadata": {
    "colab": {
     "base_uri": "https://localhost:8080/"
    },
    "id": "fGyvfk-ZgXwN",
    "outputId": "35c626ac-2781-4549-d4c2-22a9ebf0b2eb"
   },
   "outputs": [
    {
     "data": {
      "text/plain": [
       "Index(['Headlines', 'Time', 'Description'], dtype='object')"
      ]
     },
     "execution_count": 6,
     "metadata": {},
     "output_type": "execute_result"
    }
   ],
   "source": [
    "# Check all the columns in the cnbc headline dataset\n",
    "df_cnbc.columns"
   ]
  },
  {
   "cell_type": "code",
   "execution_count": 7,
   "metadata": {
    "colab": {
     "base_uri": "https://localhost:8080/"
    },
    "id": "kFiwMd7BgXr4",
    "outputId": "146f358f-19be-4ddc-dc15-3290beb69f5f"
   },
   "outputs": [
    {
     "name": "stdout",
     "output_type": "stream",
     "text": [
      "<class 'pandas.core.frame.DataFrame'>\n",
      "RangeIndex: 3080 entries, 0 to 3079\n",
      "Data columns (total 3 columns):\n",
      " #   Column       Non-Null Count  Dtype \n",
      "---  ------       --------------  ----- \n",
      " 0   Headlines    2800 non-null   object\n",
      " 1   Time         2800 non-null   object\n",
      " 2   Description  2800 non-null   object\n",
      "dtypes: object(3)\n",
      "memory usage: 72.3+ KB\n"
     ]
    }
   ],
   "source": [
    "# Check which columns are having categorical, numerical or boolean values\n",
    "df_cnbc.info()"
   ]
  },
  {
   "cell_type": "code",
   "execution_count": 8,
   "metadata": {
    "colab": {
     "base_uri": "https://localhost:8080/"
    },
    "id": "oST2tsU9gXrE",
    "outputId": "6f38baa8-1b58-4779-be42-039a2c4e17fc"
   },
   "outputs": [
    {
     "data": {
      "text/plain": [
       "Headlines      280\n",
       "Time           280\n",
       "Description    280\n",
       "dtype: int64"
      ]
     },
     "execution_count": 8,
     "metadata": {},
     "output_type": "execute_result"
    }
   ],
   "source": [
    "# Check for missing values in all the columnns of cnbc headline dataset\n",
    "df_cnbc.isnull().sum()"
   ]
  },
  {
   "cell_type": "markdown",
   "metadata": {
    "id": "YRLZs_Jg8T3r"
   },
   "source": [
    "There is 280 missing values in headlines, description and time"
   ]
  },
  {
   "cell_type": "code",
   "execution_count": 9,
   "metadata": {
    "id": "PdlYoGUfgXnE"
   },
   "outputs": [],
   "source": [
    " # drop nan values in cnbc headline dataset\n",
    "df_cnbc = df_cnbc.dropna()"
   ]
  },
  {
   "cell_type": "code",
   "execution_count": 10,
   "metadata": {
    "colab": {
     "base_uri": "https://localhost:8080/",
     "height": 414
    },
    "id": "cD2J5VmmgXid",
    "outputId": "f2c61222-e741-4732-a2b4-3267b10f70df"
   },
   "outputs": [
    {
     "data": {
      "text/html": [
       "<div>\n",
       "<style scoped>\n",
       "    .dataframe tbody tr th:only-of-type {\n",
       "        vertical-align: middle;\n",
       "    }\n",
       "\n",
       "    .dataframe tbody tr th {\n",
       "        vertical-align: top;\n",
       "    }\n",
       "\n",
       "    .dataframe thead th {\n",
       "        text-align: right;\n",
       "    }\n",
       "</style>\n",
       "<table border=\"1\" class=\"dataframe\">\n",
       "  <thead>\n",
       "    <tr style=\"text-align: right;\">\n",
       "      <th></th>\n",
       "      <th>Headlines</th>\n",
       "      <th>Time</th>\n",
       "      <th>Description</th>\n",
       "    </tr>\n",
       "  </thead>\n",
       "  <tbody>\n",
       "    <tr>\n",
       "      <th>0</th>\n",
       "      <td>Jim Cramer: A better way to invest in the Covi...</td>\n",
       "      <td>7:51  PM ET Fri, 17 July 2020</td>\n",
       "      <td>\"Mad Money\" host Jim Cramer recommended buying...</td>\n",
       "    </tr>\n",
       "    <tr>\n",
       "      <th>1</th>\n",
       "      <td>Cramer's lightning round: I would own Teradyne</td>\n",
       "      <td>7:33  PM ET Fri, 17 July 2020</td>\n",
       "      <td>\"Mad Money\" host Jim Cramer rings the lightnin...</td>\n",
       "    </tr>\n",
       "    <tr>\n",
       "      <th>3</th>\n",
       "      <td>Cramer's week ahead: Big week for earnings, ev...</td>\n",
       "      <td>7:25  PM ET Fri, 17 July 2020</td>\n",
       "      <td>\"We'll pay more for the earnings of the non-Co...</td>\n",
       "    </tr>\n",
       "    <tr>\n",
       "      <th>4</th>\n",
       "      <td>IQ Capital CEO Keith Bliss says tech and healt...</td>\n",
       "      <td>4:24  PM ET Fri, 17 July 2020</td>\n",
       "      <td>Keith Bliss, IQ Capital CEO, joins \"Closing Be...</td>\n",
       "    </tr>\n",
       "    <tr>\n",
       "      <th>5</th>\n",
       "      <td>Wall Street delivered the 'kind of pullback I'...</td>\n",
       "      <td>7:36  PM ET Thu, 16 July 2020</td>\n",
       "      <td>\"Look for the stocks of high-quality companies...</td>\n",
       "    </tr>\n",
       "    <tr>\n",
       "      <th>...</th>\n",
       "      <td>...</td>\n",
       "      <td>...</td>\n",
       "      <td>...</td>\n",
       "    </tr>\n",
       "    <tr>\n",
       "      <th>3075</th>\n",
       "      <td>Markets lack Christmas cheer</td>\n",
       "      <td>10:15  AM ET Tue, 26 Dec 2017</td>\n",
       "      <td>According to Kensho, here's how markets have f...</td>\n",
       "    </tr>\n",
       "    <tr>\n",
       "      <th>3076</th>\n",
       "      <td>Cramer Remix: The biggest mistake you can make...</td>\n",
       "      <td>11:12  AM ET Thu, 20 Sept 2018</td>\n",
       "      <td>Jim Cramer revealed his top rule when it comes...</td>\n",
       "    </tr>\n",
       "    <tr>\n",
       "      <th>3077</th>\n",
       "      <td>Cramer says owning too many stocks and too lit...</td>\n",
       "      <td>7:07  PM ET Fri, 22 Dec 2017</td>\n",
       "      <td>Jim Cramer broke down why owning fewer stocks ...</td>\n",
       "    </tr>\n",
       "    <tr>\n",
       "      <th>3078</th>\n",
       "      <td>Cramer: I helped investors through the 2010 fl...</td>\n",
       "      <td>7:07  PM ET Fri, 22 Dec 2017</td>\n",
       "      <td>Jim Cramer built on his \"nobody ever made a di...</td>\n",
       "    </tr>\n",
       "    <tr>\n",
       "      <th>3079</th>\n",
       "      <td>Cramer: Never buy a stock all at once — you'll...</td>\n",
       "      <td>6:52  PM ET Fri, 22 Dec 2017</td>\n",
       "      <td>Jim Cramer doubled down on his key investing r...</td>\n",
       "    </tr>\n",
       "  </tbody>\n",
       "</table>\n",
       "<p>2800 rows × 3 columns</p>\n",
       "</div>"
      ],
      "text/plain": [
       "                                              Headlines  \\\n",
       "0     Jim Cramer: A better way to invest in the Covi...   \n",
       "1        Cramer's lightning round: I would own Teradyne   \n",
       "3     Cramer's week ahead: Big week for earnings, ev...   \n",
       "4     IQ Capital CEO Keith Bliss says tech and healt...   \n",
       "5     Wall Street delivered the 'kind of pullback I'...   \n",
       "...                                                 ...   \n",
       "3075                       Markets lack Christmas cheer   \n",
       "3076  Cramer Remix: The biggest mistake you can make...   \n",
       "3077  Cramer says owning too many stocks and too lit...   \n",
       "3078  Cramer: I helped investors through the 2010 fl...   \n",
       "3079  Cramer: Never buy a stock all at once — you'll...   \n",
       "\n",
       "                                Time  \\\n",
       "0      7:51  PM ET Fri, 17 July 2020   \n",
       "1      7:33  PM ET Fri, 17 July 2020   \n",
       "3      7:25  PM ET Fri, 17 July 2020   \n",
       "4      4:24  PM ET Fri, 17 July 2020   \n",
       "5      7:36  PM ET Thu, 16 July 2020   \n",
       "...                              ...   \n",
       "3075   10:15  AM ET Tue, 26 Dec 2017   \n",
       "3076  11:12  AM ET Thu, 20 Sept 2018   \n",
       "3077    7:07  PM ET Fri, 22 Dec 2017   \n",
       "3078    7:07  PM ET Fri, 22 Dec 2017   \n",
       "3079    6:52  PM ET Fri, 22 Dec 2017   \n",
       "\n",
       "                                            Description  \n",
       "0     \"Mad Money\" host Jim Cramer recommended buying...  \n",
       "1     \"Mad Money\" host Jim Cramer rings the lightnin...  \n",
       "3     \"We'll pay more for the earnings of the non-Co...  \n",
       "4     Keith Bliss, IQ Capital CEO, joins \"Closing Be...  \n",
       "5     \"Look for the stocks of high-quality companies...  \n",
       "...                                                 ...  \n",
       "3075  According to Kensho, here's how markets have f...  \n",
       "3076  Jim Cramer revealed his top rule when it comes...  \n",
       "3077  Jim Cramer broke down why owning fewer stocks ...  \n",
       "3078  Jim Cramer built on his \"nobody ever made a di...  \n",
       "3079  Jim Cramer doubled down on his key investing r...  \n",
       "\n",
       "[2800 rows x 3 columns]"
      ]
     },
     "execution_count": 10,
     "metadata": {},
     "output_type": "execute_result"
    }
   ],
   "source": [
    "# drop the duplicate rows in the dataset keep the first one\n",
    "df_cnbc = df_cnbc.drop_duplicates(keep='first')\n",
    "df_cnbc"
   ]
  },
  {
   "cell_type": "code",
   "execution_count": 11,
   "metadata": {
    "colab": {
     "base_uri": "https://localhost:8080/"
    },
    "id": "WD5tcCcagXhU",
    "outputId": "2355a67f-5967-4d18-9d33-42f9e78cab9b"
   },
   "outputs": [
    {
     "data": {
      "text/plain": [
       "(2800, 3)"
      ]
     },
     "execution_count": 11,
     "metadata": {},
     "output_type": "execute_result"
    }
   ],
   "source": [
    "# check the shape of cnbc headline dataset\n",
    "df_cnbc.shape"
   ]
  },
  {
   "cell_type": "markdown",
   "metadata": {
    "id": "JZFVAsUf53Vv"
   },
   "source": [
    "# Basic EDA on Gaurdian headlines dataset"
   ]
  },
  {
   "cell_type": "code",
   "execution_count": 12,
   "metadata": {
    "id": "st0vypi5gXTz"
   },
   "outputs": [],
   "source": [
    "# Read csv file of gaurdian headlines using pandas\n",
    "raw_data_gd = pd.read_csv('C:/Users/KIIT/Desktop/Data Science Exercise/CloudyML/Assignments/2. ML for Data Science/Datasets/Sentiment Analysis/guardian_headlines.csv')\n",
    "df_gd = raw_data_gd.copy()"
   ]
  },
  {
   "cell_type": "code",
   "execution_count": 13,
   "metadata": {
    "colab": {
     "base_uri": "https://localhost:8080/",
     "height": 202
    },
    "id": "O15tPmH1gXS5",
    "outputId": "565c251d-ef27-4758-8bcd-77f4d73b3ec3"
   },
   "outputs": [
    {
     "data": {
      "text/html": [
       "<div>\n",
       "<style scoped>\n",
       "    .dataframe tbody tr th:only-of-type {\n",
       "        vertical-align: middle;\n",
       "    }\n",
       "\n",
       "    .dataframe tbody tr th {\n",
       "        vertical-align: top;\n",
       "    }\n",
       "\n",
       "    .dataframe thead th {\n",
       "        text-align: right;\n",
       "    }\n",
       "</style>\n",
       "<table border=\"1\" class=\"dataframe\">\n",
       "  <thead>\n",
       "    <tr style=\"text-align: right;\">\n",
       "      <th></th>\n",
       "      <th>Time</th>\n",
       "      <th>Headlines</th>\n",
       "    </tr>\n",
       "  </thead>\n",
       "  <tbody>\n",
       "    <tr>\n",
       "      <th>0</th>\n",
       "      <td>18-Jul-20</td>\n",
       "      <td>Johnson is asking Santa for a Christmas recovery</td>\n",
       "    </tr>\n",
       "    <tr>\n",
       "      <th>1</th>\n",
       "      <td>18-Jul-20</td>\n",
       "      <td>‘I now fear the worst’: four grim tales of wor...</td>\n",
       "    </tr>\n",
       "    <tr>\n",
       "      <th>2</th>\n",
       "      <td>18-Jul-20</td>\n",
       "      <td>Five key areas Sunak must tackle to serve up e...</td>\n",
       "    </tr>\n",
       "    <tr>\n",
       "      <th>3</th>\n",
       "      <td>18-Jul-20</td>\n",
       "      <td>Covid-19 leaves firms ‘fatally ill-prepared’ f...</td>\n",
       "    </tr>\n",
       "    <tr>\n",
       "      <th>4</th>\n",
       "      <td>18-Jul-20</td>\n",
       "      <td>The Week in Patriarchy  \\n\\n\\n  Bacardi's 'lad...</td>\n",
       "    </tr>\n",
       "  </tbody>\n",
       "</table>\n",
       "</div>"
      ],
      "text/plain": [
       "        Time                                          Headlines\n",
       "0  18-Jul-20   Johnson is asking Santa for a Christmas recovery\n",
       "1  18-Jul-20  ‘I now fear the worst’: four grim tales of wor...\n",
       "2  18-Jul-20  Five key areas Sunak must tackle to serve up e...\n",
       "3  18-Jul-20  Covid-19 leaves firms ‘fatally ill-prepared’ f...\n",
       "4  18-Jul-20  The Week in Patriarchy  \\n\\n\\n  Bacardi's 'lad..."
      ]
     },
     "execution_count": 13,
     "metadata": {},
     "output_type": "execute_result"
    }
   ],
   "source": [
    "df_gd.head()"
   ]
  },
  {
   "cell_type": "code",
   "execution_count": 14,
   "metadata": {
    "colab": {
     "base_uri": "https://localhost:8080/"
    },
    "id": "09OSuHhRgXNf",
    "outputId": "a485e842-e80a-4ac1-c9a4-e6ca644c3c6c"
   },
   "outputs": [
    {
     "data": {
      "text/plain": [
       "(17800, 2)"
      ]
     },
     "execution_count": 14,
     "metadata": {},
     "output_type": "execute_result"
    }
   ],
   "source": [
    "#check the shape of gaurdian headline dataset\n",
    "df_gd.shape"
   ]
  },
  {
   "cell_type": "code",
   "execution_count": 15,
   "metadata": {
    "colab": {
     "base_uri": "https://localhost:8080/"
    },
    "id": "7gKFN26whZnD",
    "outputId": "eaf4eede-9485-47d5-b5cb-e451b3113f43"
   },
   "outputs": [
    {
     "data": {
      "text/plain": [
       "Index(['Time', 'Headlines'], dtype='object')"
      ]
     },
     "execution_count": 15,
     "metadata": {},
     "output_type": "execute_result"
    }
   ],
   "source": [
    "#check columns of gaurdian headline\n",
    "df_gd.columns"
   ]
  },
  {
   "cell_type": "code",
   "execution_count": 16,
   "metadata": {
    "colab": {
     "base_uri": "https://localhost:8080/"
    },
    "id": "5fplFio3hZmG",
    "outputId": "203f8075-6c24-4cc0-9c97-64de380ef72d"
   },
   "outputs": [
    {
     "name": "stdout",
     "output_type": "stream",
     "text": [
      "<class 'pandas.core.frame.DataFrame'>\n",
      "RangeIndex: 17800 entries, 0 to 17799\n",
      "Data columns (total 2 columns):\n",
      " #   Column     Non-Null Count  Dtype \n",
      "---  ------     --------------  ----- \n",
      " 0   Time       17800 non-null  object\n",
      " 1   Headlines  17800 non-null  object\n",
      "dtypes: object(2)\n",
      "memory usage: 278.2+ KB\n"
     ]
    }
   ],
   "source": [
    "# Check which columns are having categorical, numerical or boolean values\n",
    "df_gd.info()"
   ]
  },
  {
   "cell_type": "code",
   "execution_count": 17,
   "metadata": {
    "colab": {
     "base_uri": "https://localhost:8080/"
    },
    "id": "qaWAwEazhZh8",
    "outputId": "db5b6254-3aac-4c68-dbfb-d9088d5f6975"
   },
   "outputs": [
    {
     "data": {
      "text/plain": [
       "Time         0\n",
       "Headlines    0\n",
       "dtype: int64"
      ]
     },
     "execution_count": 17,
     "metadata": {},
     "output_type": "execute_result"
    }
   ],
   "source": [
    "# check null values in gaurdian headlines dataset\n",
    "df_gd.isnull().sum()"
   ]
  },
  {
   "cell_type": "code",
   "execution_count": 18,
   "metadata": {
    "colab": {
     "base_uri": "https://localhost:8080/",
     "height": 414
    },
    "id": "NBtOooYChZg9",
    "outputId": "64d9aed6-ab1c-46f5-d86d-0d2fcbf757ee"
   },
   "outputs": [
    {
     "name": "stdout",
     "output_type": "stream",
     "text": [
      "(17800, 2)\n",
      "(17800, 2)\n"
     ]
    }
   ],
   "source": [
    "# drop duplicate rows in headlines and keep the first one\n",
    "print(df_gd.shape)\n",
    "df_gd = df_gd.drop_duplicates()\n",
    "print(df_gd.shape)"
   ]
  },
  {
   "cell_type": "markdown",
   "metadata": {
    "id": "3iwjVwnv6-v3"
   },
   "source": [
    "# Basic EDA on reuters headlines"
   ]
  },
  {
   "cell_type": "code",
   "execution_count": 19,
   "metadata": {
    "id": "asNDch3WhZXh"
   },
   "outputs": [],
   "source": [
    "# Read csv file of reuters headlines using using pandas\n",
    "raw_data_r = pd.read_csv('C:/Users/KIIT/Desktop/Data Science Exercise/CloudyML/Assignments/2. ML for Data Science/Datasets/Sentiment Analysis/reuters_headlines.csv')\n",
    "df_r = raw_data_r.copy()"
   ]
  },
  {
   "cell_type": "code",
   "execution_count": 20,
   "metadata": {
    "colab": {
     "base_uri": "https://localhost:8080/",
     "height": 202
    },
    "id": "n-FuGab8hZS0",
    "outputId": "61fbc9af-cc62-4f68-bf99-3d071af01425"
   },
   "outputs": [
    {
     "data": {
      "text/html": [
       "<div>\n",
       "<style scoped>\n",
       "    .dataframe tbody tr th:only-of-type {\n",
       "        vertical-align: middle;\n",
       "    }\n",
       "\n",
       "    .dataframe tbody tr th {\n",
       "        vertical-align: top;\n",
       "    }\n",
       "\n",
       "    .dataframe thead th {\n",
       "        text-align: right;\n",
       "    }\n",
       "</style>\n",
       "<table border=\"1\" class=\"dataframe\">\n",
       "  <thead>\n",
       "    <tr style=\"text-align: right;\">\n",
       "      <th></th>\n",
       "      <th>Headlines</th>\n",
       "      <th>Time</th>\n",
       "      <th>Description</th>\n",
       "    </tr>\n",
       "  </thead>\n",
       "  <tbody>\n",
       "    <tr>\n",
       "      <th>0</th>\n",
       "      <td>TikTok considers London and other locations fo...</td>\n",
       "      <td>Jul 18 2020</td>\n",
       "      <td>TikTok has been in discussions with the UK gov...</td>\n",
       "    </tr>\n",
       "    <tr>\n",
       "      <th>1</th>\n",
       "      <td>Disney cuts ad spending on Facebook amid growi...</td>\n",
       "      <td>Jul 18 2020</td>\n",
       "      <td>Walt Disney  has become the latest company to ...</td>\n",
       "    </tr>\n",
       "    <tr>\n",
       "      <th>2</th>\n",
       "      <td>Trail of missing Wirecard executive leads to B...</td>\n",
       "      <td>Jul 18 2020</td>\n",
       "      <td>Former Wirecard  chief operating officer Jan M...</td>\n",
       "    </tr>\n",
       "    <tr>\n",
       "      <th>3</th>\n",
       "      <td>Twitter says attackers downloaded data from up...</td>\n",
       "      <td>Jul 18 2020</td>\n",
       "      <td>Twitter Inc said on Saturday that hackers were...</td>\n",
       "    </tr>\n",
       "    <tr>\n",
       "      <th>4</th>\n",
       "      <td>U.S. Republicans seek liability protections as...</td>\n",
       "      <td>Jul 17 2020</td>\n",
       "      <td>A battle in the U.S. Congress over a new coron...</td>\n",
       "    </tr>\n",
       "  </tbody>\n",
       "</table>\n",
       "</div>"
      ],
      "text/plain": [
       "                                           Headlines         Time  \\\n",
       "0  TikTok considers London and other locations fo...  Jul 18 2020   \n",
       "1  Disney cuts ad spending on Facebook amid growi...  Jul 18 2020   \n",
       "2  Trail of missing Wirecard executive leads to B...  Jul 18 2020   \n",
       "3  Twitter says attackers downloaded data from up...  Jul 18 2020   \n",
       "4  U.S. Republicans seek liability protections as...  Jul 17 2020   \n",
       "\n",
       "                                         Description  \n",
       "0  TikTok has been in discussions with the UK gov...  \n",
       "1  Walt Disney  has become the latest company to ...  \n",
       "2  Former Wirecard  chief operating officer Jan M...  \n",
       "3  Twitter Inc said on Saturday that hackers were...  \n",
       "4  A battle in the U.S. Congress over a new coron...  "
      ]
     },
     "execution_count": 20,
     "metadata": {},
     "output_type": "execute_result"
    }
   ],
   "source": [
    "df_r.head()"
   ]
  },
  {
   "cell_type": "code",
   "execution_count": 21,
   "metadata": {
    "colab": {
     "base_uri": "https://localhost:8080/"
    },
    "id": "aRIhdEPyhZR3",
    "outputId": "a2592db9-0d2c-45e6-9f36-926a14eb5602"
   },
   "outputs": [
    {
     "data": {
      "text/plain": [
       "(32770, 3)"
      ]
     },
     "execution_count": 21,
     "metadata": {},
     "output_type": "execute_result"
    }
   ],
   "source": [
    "#check the shape of reuters headlines dataset\n",
    "df_r.shape"
   ]
  },
  {
   "cell_type": "code",
   "execution_count": 22,
   "metadata": {
    "colab": {
     "base_uri": "https://localhost:8080/"
    },
    "id": "zn6OnjCwhZN8",
    "outputId": "7965f9fb-0c75-4356-9ad0-4d8fe1727c3d"
   },
   "outputs": [
    {
     "data": {
      "text/plain": [
       "Index(['Headlines', 'Time', 'Description'], dtype='object')"
      ]
     },
     "execution_count": 22,
     "metadata": {},
     "output_type": "execute_result"
    }
   ],
   "source": [
    "#check the columns of reuters headline dataset\n",
    "df_r.columns"
   ]
  },
  {
   "cell_type": "code",
   "execution_count": 23,
   "metadata": {
    "colab": {
     "base_uri": "https://localhost:8080/"
    },
    "id": "go-UtVDjhZM1",
    "outputId": "f423cfcf-3bdf-471c-fb4d-1424787d9c79"
   },
   "outputs": [
    {
     "name": "stdout",
     "output_type": "stream",
     "text": [
      "<class 'pandas.core.frame.DataFrame'>\n",
      "RangeIndex: 32770 entries, 0 to 32769\n",
      "Data columns (total 3 columns):\n",
      " #   Column       Non-Null Count  Dtype \n",
      "---  ------       --------------  ----- \n",
      " 0   Headlines    32770 non-null  object\n",
      " 1   Time         32770 non-null  object\n",
      " 2   Description  32770 non-null  object\n",
      "dtypes: object(3)\n",
      "memory usage: 768.2+ KB\n"
     ]
    }
   ],
   "source": [
    "# Check which columns are having categorical, numerical or boolean values\n",
    "df_r.info()"
   ]
  },
  {
   "cell_type": "code",
   "execution_count": 24,
   "metadata": {
    "colab": {
     "base_uri": "https://localhost:8080/"
    },
    "id": "7d7HOHV7hZJM",
    "outputId": "b60f3758-a698-45ad-ec28-c22e424997f3"
   },
   "outputs": [
    {
     "data": {
      "text/plain": [
       "Headlines      0\n",
       "Time           0\n",
       "Description    0\n",
       "dtype: int64"
      ]
     },
     "execution_count": 24,
     "metadata": {},
     "output_type": "execute_result"
    }
   ],
   "source": [
    "# Check for missing values in all the columnns of reuters headlines dataset\n",
    "df_r.isnull().sum()"
   ]
  },
  {
   "cell_type": "code",
   "execution_count": 25,
   "metadata": {
    "colab": {
     "base_uri": "https://localhost:8080/",
     "height": 414
    },
    "id": "Zvbdb747hZHz",
    "outputId": "d9926a4c-1074-4c12-e41e-7607561c38fd"
   },
   "outputs": [
    {
     "name": "stdout",
     "output_type": "stream",
     "text": [
      "(32770, 3)\n",
      "(32715, 3)\n"
     ]
    }
   ],
   "source": [
    "#drop the duplicate rows in reuters headlines dataset and keep the first one\n",
    "print(df_r.shape)\n",
    "df_r = df_r.drop_duplicates()\n",
    "print(df_r.shape)"
   ]
  },
  {
   "cell_type": "markdown",
   "metadata": {
    "id": "2uvArOVne6jB"
   },
   "source": [
    "#Making some functions that we will need  ahead"
   ]
  },
  {
   "cell_type": "markdown",
   "metadata": {
    "id": "94zINn2npv1V"
   },
   "source": [
    "Preprocessing "
   ]
  },
  {
   "cell_type": "markdown",
   "metadata": {
    "id": "nV7crjnBpyX9"
   },
   "source": [
    "1. **Lowercase** - It is necessary to convert the text to lower case as it is case sensitive.\n",
    "\n",
    "2. **remove punctuations** -  The punctuations present in the text do not add value to the data. The punctuation, when attached to any word, will create a problem in differentiating with other words. so we have to get rid of them.\n",
    "\n",
    "3. **remove stopwords** -  Stopwords include: I, he, she, and, but, was were, being, have, etc, which do not add meaning to the data. So these words must be removed which helps to reduce the features from our data. These are removed after tokenizing the text.\n",
    "\n",
    "4. **stemming** -  A technique that takes the word to its root form. It just removes suffixes from the words. The stemmed word might not be part of the dictionary, i.e it will not necessarily give meaning.\n",
    "\n",
    "5. **lemmatizing** -  Takes the word to its root form called Lemma. It helps to bring words to their dictionary form. It is applied to nouns by default. It is more accurate as it uses more informed analysis to create groups of words with similar meanings based on the context, so it is complex and takes more time. This is used where we need to retain the contextual information.\n",
    "\n",
    "\n",
    "https://www.pluralsight.com/guides/importance-of-text-pre-processing"
   ]
  },
  {
   "cell_type": "code",
   "execution_count": 26,
   "metadata": {
    "id": "djtZVA_IhY9b"
   },
   "outputs": [],
   "source": [
    "# create a function for preprocessing \n",
    "from nltk.stem import PorterStemmer\n",
    "def SentimentPreprocessing(x):\n",
    "    \n",
    "  #convert all to lowercase\n",
    "    x = x.lower()\n",
    "    \n",
    "  #remove puntuations\n",
    "    tokenizer = nltk.RegexpTokenizer(r\"\\w+\")\n",
    "    x = tokenizer.tokenize(x)\n",
    "    x = ' '.join([i for i in x])\n",
    "\n",
    "  #remove stopword\n",
    "    stop_words = set(stopwords.words('english'))\n",
    "  \n",
    "    x = word_tokenize(x)\n",
    "  \n",
    "    x = [w for w in x if not w in stop_words]\n",
    "    x = ' '.join([i for i in x])\n",
    "  \n",
    "  #stemming\n",
    "    ps = PorterStemmer()\n",
    "    x = ps.stem(x)\n",
    "\n",
    "  #lemmitizing\n",
    "    x = nltk.word_tokenize(x)\n",
    "    lemmatizer = WordNetLemmatizer()\n",
    "    x = ' '.join([lemmatizer.lemmatize(i) for i in x])\n",
    "    return x\n",
    "\n",
    "\n",
    "  "
   ]
  },
  {
   "cell_type": "markdown",
   "metadata": {
    "id": "pjlDZ7Peu7t1"
   },
   "source": [
    "# Sentiment Intensity Analyzer"
   ]
  },
  {
   "cell_type": "code",
   "execution_count": 27,
   "metadata": {
    "colab": {
     "base_uri": "https://localhost:8080/"
    },
    "id": "HUxqpmosB6vy",
    "outputId": "77151daa-a298-4a80-eaa6-f5dc11a340f1"
   },
   "outputs": [
    {
     "name": "stderr",
     "output_type": "stream",
     "text": [
      "[nltk_data] Downloading package vader_lexicon to\n",
      "[nltk_data]     C:\\Users\\KIIT\\AppData\\Roaming\\nltk_data...\n",
      "[nltk_data]   Package vader_lexicon is already up-to-date!\n"
     ]
    }
   ],
   "source": [
    "# import sentiment intensity analyzer\n",
    "import nltk\n",
    "nltk.download('vader_lexicon')\n",
    "from nltk.sentiment.vader import SentimentIntensityAnalyzer\n",
    "\n",
    "\n",
    "\n",
    "# create sentiment intensity analyzer object\n",
    "sia = SentimentIntensityAnalyzer()\n"
   ]
  },
  {
   "cell_type": "code",
   "execution_count": 28,
   "metadata": {
    "id": "GscOEWSjGfa2"
   },
   "outputs": [],
   "source": [
    "#function to  decide sentiment as positive, negative and neutral\n",
    "def SentimentDecision(x):\n",
    "    a = sia.polarity_scores(x)\n",
    "    if a['compound'] >= 0.05 :\n",
    "        return \"Positive\"\n",
    " \n",
    "    elif a['compound'] <= - 0.05 :\n",
    "        return \"Negative\"\n",
    " \n",
    "    else :\n",
    "        return \"Neutral\""
   ]
  },
  {
   "cell_type": "markdown",
   "metadata": {
    "id": "RVa-zf7xfRjc"
   },
   "source": [
    "# Now working with description on datasets"
   ]
  },
  {
   "cell_type": "code",
   "execution_count": 29,
   "metadata": {
    "id": "NFS1pS0Zws6Z"
   },
   "outputs": [
    {
     "data": {
      "text/html": [
       "<div>\n",
       "<style scoped>\n",
       "    .dataframe tbody tr th:only-of-type {\n",
       "        vertical-align: middle;\n",
       "    }\n",
       "\n",
       "    .dataframe tbody tr th {\n",
       "        vertical-align: top;\n",
       "    }\n",
       "\n",
       "    .dataframe thead th {\n",
       "        text-align: right;\n",
       "    }\n",
       "</style>\n",
       "<table border=\"1\" class=\"dataframe\">\n",
       "  <thead>\n",
       "    <tr style=\"text-align: right;\">\n",
       "      <th></th>\n",
       "      <th>Headlines</th>\n",
       "      <th>Time</th>\n",
       "      <th>Description</th>\n",
       "    </tr>\n",
       "  </thead>\n",
       "  <tbody>\n",
       "    <tr>\n",
       "      <th>0</th>\n",
       "      <td>Jim Cramer: A better way to invest in the Covi...</td>\n",
       "      <td>7:51  PM ET Fri, 17 July 2020</td>\n",
       "      <td>\"Mad Money\" host Jim Cramer recommended buying...</td>\n",
       "    </tr>\n",
       "    <tr>\n",
       "      <th>1</th>\n",
       "      <td>Cramer's lightning round: I would own Teradyne</td>\n",
       "      <td>7:33  PM ET Fri, 17 July 2020</td>\n",
       "      <td>\"Mad Money\" host Jim Cramer rings the lightnin...</td>\n",
       "    </tr>\n",
       "    <tr>\n",
       "      <th>2</th>\n",
       "      <td>Cramer's week ahead: Big week for earnings, ev...</td>\n",
       "      <td>7:25  PM ET Fri, 17 July 2020</td>\n",
       "      <td>\"We'll pay more for the earnings of the non-Co...</td>\n",
       "    </tr>\n",
       "    <tr>\n",
       "      <th>3</th>\n",
       "      <td>IQ Capital CEO Keith Bliss says tech and healt...</td>\n",
       "      <td>4:24  PM ET Fri, 17 July 2020</td>\n",
       "      <td>Keith Bliss, IQ Capital CEO, joins \"Closing Be...</td>\n",
       "    </tr>\n",
       "    <tr>\n",
       "      <th>4</th>\n",
       "      <td>Wall Street delivered the 'kind of pullback I'...</td>\n",
       "      <td>7:36  PM ET Thu, 16 July 2020</td>\n",
       "      <td>\"Look for the stocks of high-quality companies...</td>\n",
       "    </tr>\n",
       "    <tr>\n",
       "      <th>...</th>\n",
       "      <td>...</td>\n",
       "      <td>...</td>\n",
       "      <td>...</td>\n",
       "    </tr>\n",
       "    <tr>\n",
       "      <th>35510</th>\n",
       "      <td>Malaysia says never hired British data firm at...</td>\n",
       "      <td>Mar 20 2018</td>\n",
       "      <td>The Malaysian government and the ruling party ...</td>\n",
       "    </tr>\n",
       "    <tr>\n",
       "      <th>35511</th>\n",
       "      <td>Prosecutors search Volkswagen headquarters in ...</td>\n",
       "      <td>Mar 20 2018</td>\n",
       "      <td>German prosecutors said on Tuesday they had se...</td>\n",
       "    </tr>\n",
       "    <tr>\n",
       "      <th>35512</th>\n",
       "      <td>McDonald's sets greenhouse gas reduction targets</td>\n",
       "      <td>Mar 20 2018</td>\n",
       "      <td>McDonald's Corp on Tuesday announced an approv...</td>\n",
       "    </tr>\n",
       "    <tr>\n",
       "      <th>35513</th>\n",
       "      <td>Pratt &amp; Whitney to deliver spare A320neo engin...</td>\n",
       "      <td>Mar 20 2018</td>\n",
       "      <td>Pratt &amp; Whitney will soon begin deliveries of ...</td>\n",
       "    </tr>\n",
       "    <tr>\n",
       "      <th>35514</th>\n",
       "      <td>UK will always consider ways to improve data l...</td>\n",
       "      <td>Mar 20 2018</td>\n",
       "      <td>Britain will consider any suggestions to give ...</td>\n",
       "    </tr>\n",
       "  </tbody>\n",
       "</table>\n",
       "<p>35515 rows × 3 columns</p>\n",
       "</div>"
      ],
      "text/plain": [
       "                                               Headlines  \\\n",
       "0      Jim Cramer: A better way to invest in the Covi...   \n",
       "1         Cramer's lightning round: I would own Teradyne   \n",
       "2      Cramer's week ahead: Big week for earnings, ev...   \n",
       "3      IQ Capital CEO Keith Bliss says tech and healt...   \n",
       "4      Wall Street delivered the 'kind of pullback I'...   \n",
       "...                                                  ...   \n",
       "35510  Malaysia says never hired British data firm at...   \n",
       "35511  Prosecutors search Volkswagen headquarters in ...   \n",
       "35512   McDonald's sets greenhouse gas reduction targets   \n",
       "35513  Pratt & Whitney to deliver spare A320neo engin...   \n",
       "35514  UK will always consider ways to improve data l...   \n",
       "\n",
       "                                 Time  \\\n",
       "0       7:51  PM ET Fri, 17 July 2020   \n",
       "1       7:33  PM ET Fri, 17 July 2020   \n",
       "2       7:25  PM ET Fri, 17 July 2020   \n",
       "3       4:24  PM ET Fri, 17 July 2020   \n",
       "4       7:36  PM ET Thu, 16 July 2020   \n",
       "...                               ...   \n",
       "35510                     Mar 20 2018   \n",
       "35511                     Mar 20 2018   \n",
       "35512                     Mar 20 2018   \n",
       "35513                     Mar 20 2018   \n",
       "35514                     Mar 20 2018   \n",
       "\n",
       "                                             Description  \n",
       "0      \"Mad Money\" host Jim Cramer recommended buying...  \n",
       "1      \"Mad Money\" host Jim Cramer rings the lightnin...  \n",
       "2      \"We'll pay more for the earnings of the non-Co...  \n",
       "3      Keith Bliss, IQ Capital CEO, joins \"Closing Be...  \n",
       "4      \"Look for the stocks of high-quality companies...  \n",
       "...                                                  ...  \n",
       "35510  The Malaysian government and the ruling party ...  \n",
       "35511  German prosecutors said on Tuesday they had se...  \n",
       "35512  McDonald's Corp on Tuesday announced an approv...  \n",
       "35513  Pratt & Whitney will soon begin deliveries of ...  \n",
       "35514  Britain will consider any suggestions to give ...  \n",
       "\n",
       "[35515 rows x 3 columns]"
      ]
     },
     "execution_count": 29,
     "metadata": {},
     "output_type": "execute_result"
    }
   ],
   "source": [
    "# concatenate cnbc headlines dataset and reuters headline dataset\n",
    "dfcr = pd.concat([df_cnbc, df_r], axis = 0)\n",
    "dfcr = dfcr.reset_index()\n",
    "dfcr = dfcr.drop('index', axis = 1)\n",
    "dfcr"
   ]
  },
  {
   "cell_type": "code",
   "execution_count": 30,
   "metadata": {
    "colab": {
     "base_uri": "https://localhost:8080/"
    },
    "id": "eDgz1y9Cwzfm",
    "outputId": "f5a8a761-7f1b-4997-dee9-f4cb89f98268"
   },
   "outputs": [
    {
     "data": {
      "text/plain": [
       "(35515, 3)"
      ]
     },
     "execution_count": 30,
     "metadata": {},
     "output_type": "execute_result"
    }
   ],
   "source": [
    "#check the shape of this new dataset\n",
    "dfcr.shape"
   ]
  },
  {
   "cell_type": "code",
   "execution_count": 31,
   "metadata": {
    "id": "u0v43468m4d0"
   },
   "outputs": [],
   "source": [
    "#make a copy of new dataset \n",
    "df = dfcr.copy() "
   ]
  },
  {
   "cell_type": "code",
   "execution_count": 32,
   "metadata": {
    "colab": {
     "base_uri": "https://localhost:8080/",
     "height": 662
    },
    "id": "KMejFN4HhY44",
    "outputId": "59c6d813-245a-41f4-e2d9-b30f6921e669"
   },
   "outputs": [],
   "source": [
    "# apply preprocessing to the description of new dataset\n",
    "df['Description'] = df['Description'].apply(lambda x: SentimentPreprocessing(x))\n"
   ]
  },
  {
   "cell_type": "code",
   "execution_count": 33,
   "metadata": {},
   "outputs": [
    {
     "data": {
      "text/html": [
       "<div>\n",
       "<style scoped>\n",
       "    .dataframe tbody tr th:only-of-type {\n",
       "        vertical-align: middle;\n",
       "    }\n",
       "\n",
       "    .dataframe tbody tr th {\n",
       "        vertical-align: top;\n",
       "    }\n",
       "\n",
       "    .dataframe thead th {\n",
       "        text-align: right;\n",
       "    }\n",
       "</style>\n",
       "<table border=\"1\" class=\"dataframe\">\n",
       "  <thead>\n",
       "    <tr style=\"text-align: right;\">\n",
       "      <th></th>\n",
       "      <th>Headlines</th>\n",
       "      <th>Time</th>\n",
       "      <th>Description</th>\n",
       "    </tr>\n",
       "  </thead>\n",
       "  <tbody>\n",
       "    <tr>\n",
       "      <th>0</th>\n",
       "      <td>Jim Cramer: A better way to invest in the Covi...</td>\n",
       "      <td>7:51  PM ET Fri, 17 July 2020</td>\n",
       "      <td>mad money host jim cramer recommended buying f...</td>\n",
       "    </tr>\n",
       "    <tr>\n",
       "      <th>1</th>\n",
       "      <td>Cramer's lightning round: I would own Teradyne</td>\n",
       "      <td>7:33  PM ET Fri, 17 July 2020</td>\n",
       "      <td>mad money host jim cramer ring lightning round...</td>\n",
       "    </tr>\n",
       "    <tr>\n",
       "      <th>2</th>\n",
       "      <td>Cramer's week ahead: Big week for earnings, ev...</td>\n",
       "      <td>7:25  PM ET Fri, 17 July 2020</td>\n",
       "      <td>pay earnings non covid company lancet publishe...</td>\n",
       "    </tr>\n",
       "    <tr>\n",
       "      <th>3</th>\n",
       "      <td>IQ Capital CEO Keith Bliss says tech and healt...</td>\n",
       "      <td>4:24  PM ET Fri, 17 July 2020</td>\n",
       "      <td>keith bliss iq capital ceo join closing bell t...</td>\n",
       "    </tr>\n",
       "    <tr>\n",
       "      <th>4</th>\n",
       "      <td>Wall Street delivered the 'kind of pullback I'...</td>\n",
       "      <td>7:36  PM ET Thu, 16 July 2020</td>\n",
       "      <td>look stock high quality company going lower ev...</td>\n",
       "    </tr>\n",
       "    <tr>\n",
       "      <th>...</th>\n",
       "      <td>...</td>\n",
       "      <td>...</td>\n",
       "      <td>...</td>\n",
       "    </tr>\n",
       "    <tr>\n",
       "      <th>35510</th>\n",
       "      <td>Malaysia says never hired British data firm at...</td>\n",
       "      <td>Mar 20 2018</td>\n",
       "      <td>malaysian government ruling party tuesday deni...</td>\n",
       "    </tr>\n",
       "    <tr>\n",
       "      <th>35511</th>\n",
       "      <td>Prosecutors search Volkswagen headquarters in ...</td>\n",
       "      <td>Mar 20 2018</td>\n",
       "      <td>german prosecutor said tuesday searched volksw...</td>\n",
       "    </tr>\n",
       "    <tr>\n",
       "      <th>35512</th>\n",
       "      <td>McDonald's sets greenhouse gas reduction targets</td>\n",
       "      <td>Mar 20 2018</td>\n",
       "      <td>mcdonald corp tuesday announced approved scien...</td>\n",
       "    </tr>\n",
       "    <tr>\n",
       "      <th>35513</th>\n",
       "      <td>Pratt &amp; Whitney to deliver spare A320neo engin...</td>\n",
       "      <td>Mar 20 2018</td>\n",
       "      <td>pratt whitney soon begin delivery spare engine...</td>\n",
       "    </tr>\n",
       "    <tr>\n",
       "      <th>35514</th>\n",
       "      <td>UK will always consider ways to improve data l...</td>\n",
       "      <td>Mar 20 2018</td>\n",
       "      <td>britain consider suggestion give body charge u...</td>\n",
       "    </tr>\n",
       "  </tbody>\n",
       "</table>\n",
       "<p>35515 rows × 3 columns</p>\n",
       "</div>"
      ],
      "text/plain": [
       "                                               Headlines  \\\n",
       "0      Jim Cramer: A better way to invest in the Covi...   \n",
       "1         Cramer's lightning round: I would own Teradyne   \n",
       "2      Cramer's week ahead: Big week for earnings, ev...   \n",
       "3      IQ Capital CEO Keith Bliss says tech and healt...   \n",
       "4      Wall Street delivered the 'kind of pullback I'...   \n",
       "...                                                  ...   \n",
       "35510  Malaysia says never hired British data firm at...   \n",
       "35511  Prosecutors search Volkswagen headquarters in ...   \n",
       "35512   McDonald's sets greenhouse gas reduction targets   \n",
       "35513  Pratt & Whitney to deliver spare A320neo engin...   \n",
       "35514  UK will always consider ways to improve data l...   \n",
       "\n",
       "                                 Time  \\\n",
       "0       7:51  PM ET Fri, 17 July 2020   \n",
       "1       7:33  PM ET Fri, 17 July 2020   \n",
       "2       7:25  PM ET Fri, 17 July 2020   \n",
       "3       4:24  PM ET Fri, 17 July 2020   \n",
       "4       7:36  PM ET Thu, 16 July 2020   \n",
       "...                               ...   \n",
       "35510                     Mar 20 2018   \n",
       "35511                     Mar 20 2018   \n",
       "35512                     Mar 20 2018   \n",
       "35513                     Mar 20 2018   \n",
       "35514                     Mar 20 2018   \n",
       "\n",
       "                                             Description  \n",
       "0      mad money host jim cramer recommended buying f...  \n",
       "1      mad money host jim cramer ring lightning round...  \n",
       "2      pay earnings non covid company lancet publishe...  \n",
       "3      keith bliss iq capital ceo join closing bell t...  \n",
       "4      look stock high quality company going lower ev...  \n",
       "...                                                  ...  \n",
       "35510  malaysian government ruling party tuesday deni...  \n",
       "35511  german prosecutor said tuesday searched volksw...  \n",
       "35512  mcdonald corp tuesday announced approved scien...  \n",
       "35513  pratt whitney soon begin delivery spare engine...  \n",
       "35514  britain consider suggestion give body charge u...  \n",
       "\n",
       "[35515 rows x 3 columns]"
      ]
     },
     "execution_count": 33,
     "metadata": {},
     "output_type": "execute_result"
    }
   ],
   "source": [
    "df"
   ]
  },
  {
   "cell_type": "code",
   "execution_count": 34,
   "metadata": {
    "colab": {
     "base_uri": "https://localhost:8080/",
     "height": 414
    },
    "id": "l97AoQKkhYzb",
    "outputId": "984cc92c-5215-44d0-881e-a6947d580b96"
   },
   "outputs": [],
   "source": [
    "# analyze polarity score of values in description and  add new column of it in dataset\n",
    "df['polarity score'] = df['Description'].apply(lambda x:SentimentDecision(x))"
   ]
  },
  {
   "cell_type": "code",
   "execution_count": 35,
   "metadata": {
    "colab": {
     "base_uri": "https://localhost:8080/",
     "height": 414
    },
    "id": "c9Aq-sQ7hYu_",
    "outputId": "6f50dd1a-ba4c-4708-82ea-ed7a75459a89"
   },
   "outputs": [
    {
     "data": {
      "text/html": [
       "<div>\n",
       "<style scoped>\n",
       "    .dataframe tbody tr th:only-of-type {\n",
       "        vertical-align: middle;\n",
       "    }\n",
       "\n",
       "    .dataframe tbody tr th {\n",
       "        vertical-align: top;\n",
       "    }\n",
       "\n",
       "    .dataframe thead th {\n",
       "        text-align: right;\n",
       "    }\n",
       "</style>\n",
       "<table border=\"1\" class=\"dataframe\">\n",
       "  <thead>\n",
       "    <tr style=\"text-align: right;\">\n",
       "      <th></th>\n",
       "      <th>Headlines</th>\n",
       "      <th>Time</th>\n",
       "      <th>Description</th>\n",
       "      <th>polarity score</th>\n",
       "    </tr>\n",
       "  </thead>\n",
       "  <tbody>\n",
       "    <tr>\n",
       "      <th>0</th>\n",
       "      <td>Jim Cramer: A better way to invest in the Covi...</td>\n",
       "      <td>7:51  PM ET Fri, 17 July 2020</td>\n",
       "      <td>mad money host jim cramer recommended buying f...</td>\n",
       "      <td>Positive</td>\n",
       "    </tr>\n",
       "    <tr>\n",
       "      <th>1</th>\n",
       "      <td>Cramer's lightning round: I would own Teradyne</td>\n",
       "      <td>7:33  PM ET Fri, 17 July 2020</td>\n",
       "      <td>mad money host jim cramer ring lightning round...</td>\n",
       "      <td>Negative</td>\n",
       "    </tr>\n",
       "    <tr>\n",
       "      <th>2</th>\n",
       "      <td>Cramer's week ahead: Big week for earnings, ev...</td>\n",
       "      <td>7:25  PM ET Fri, 17 July 2020</td>\n",
       "      <td>pay earnings non covid company lancet publishe...</td>\n",
       "      <td>Positive</td>\n",
       "    </tr>\n",
       "    <tr>\n",
       "      <th>3</th>\n",
       "      <td>IQ Capital CEO Keith Bliss says tech and healt...</td>\n",
       "      <td>4:24  PM ET Fri, 17 July 2020</td>\n",
       "      <td>keith bliss iq capital ceo join closing bell t...</td>\n",
       "      <td>Positive</td>\n",
       "    </tr>\n",
       "    <tr>\n",
       "      <th>4</th>\n",
       "      <td>Wall Street delivered the 'kind of pullback I'...</td>\n",
       "      <td>7:36  PM ET Thu, 16 July 2020</td>\n",
       "      <td>look stock high quality company going lower ev...</td>\n",
       "      <td>Negative</td>\n",
       "    </tr>\n",
       "    <tr>\n",
       "      <th>...</th>\n",
       "      <td>...</td>\n",
       "      <td>...</td>\n",
       "      <td>...</td>\n",
       "      <td>...</td>\n",
       "    </tr>\n",
       "    <tr>\n",
       "      <th>35510</th>\n",
       "      <td>Malaysia says never hired British data firm at...</td>\n",
       "      <td>Mar 20 2018</td>\n",
       "      <td>malaysian government ruling party tuesday deni...</td>\n",
       "      <td>Negative</td>\n",
       "    </tr>\n",
       "    <tr>\n",
       "      <th>35511</th>\n",
       "      <td>Prosecutors search Volkswagen headquarters in ...</td>\n",
       "      <td>Mar 20 2018</td>\n",
       "      <td>german prosecutor said tuesday searched volksw...</td>\n",
       "      <td>Positive</td>\n",
       "    </tr>\n",
       "    <tr>\n",
       "      <th>35512</th>\n",
       "      <td>McDonald's sets greenhouse gas reduction targets</td>\n",
       "      <td>Mar 20 2018</td>\n",
       "      <td>mcdonald corp tuesday announced approved scien...</td>\n",
       "      <td>Negative</td>\n",
       "    </tr>\n",
       "    <tr>\n",
       "      <th>35513</th>\n",
       "      <td>Pratt &amp; Whitney to deliver spare A320neo engin...</td>\n",
       "      <td>Mar 20 2018</td>\n",
       "      <td>pratt whitney soon begin delivery spare engine...</td>\n",
       "      <td>Negative</td>\n",
       "    </tr>\n",
       "    <tr>\n",
       "      <th>35514</th>\n",
       "      <td>UK will always consider ways to improve data l...</td>\n",
       "      <td>Mar 20 2018</td>\n",
       "      <td>britain consider suggestion give body charge u...</td>\n",
       "      <td>Positive</td>\n",
       "    </tr>\n",
       "  </tbody>\n",
       "</table>\n",
       "<p>35515 rows × 4 columns</p>\n",
       "</div>"
      ],
      "text/plain": [
       "                                               Headlines  \\\n",
       "0      Jim Cramer: A better way to invest in the Covi...   \n",
       "1         Cramer's lightning round: I would own Teradyne   \n",
       "2      Cramer's week ahead: Big week for earnings, ev...   \n",
       "3      IQ Capital CEO Keith Bliss says tech and healt...   \n",
       "4      Wall Street delivered the 'kind of pullback I'...   \n",
       "...                                                  ...   \n",
       "35510  Malaysia says never hired British data firm at...   \n",
       "35511  Prosecutors search Volkswagen headquarters in ...   \n",
       "35512   McDonald's sets greenhouse gas reduction targets   \n",
       "35513  Pratt & Whitney to deliver spare A320neo engin...   \n",
       "35514  UK will always consider ways to improve data l...   \n",
       "\n",
       "                                 Time  \\\n",
       "0       7:51  PM ET Fri, 17 July 2020   \n",
       "1       7:33  PM ET Fri, 17 July 2020   \n",
       "2       7:25  PM ET Fri, 17 July 2020   \n",
       "3       4:24  PM ET Fri, 17 July 2020   \n",
       "4       7:36  PM ET Thu, 16 July 2020   \n",
       "...                               ...   \n",
       "35510                     Mar 20 2018   \n",
       "35511                     Mar 20 2018   \n",
       "35512                     Mar 20 2018   \n",
       "35513                     Mar 20 2018   \n",
       "35514                     Mar 20 2018   \n",
       "\n",
       "                                             Description polarity score  \n",
       "0      mad money host jim cramer recommended buying f...       Positive  \n",
       "1      mad money host jim cramer ring lightning round...       Negative  \n",
       "2      pay earnings non covid company lancet publishe...       Positive  \n",
       "3      keith bliss iq capital ceo join closing bell t...       Positive  \n",
       "4      look stock high quality company going lower ev...       Negative  \n",
       "...                                                  ...            ...  \n",
       "35510  malaysian government ruling party tuesday deni...       Negative  \n",
       "35511  german prosecutor said tuesday searched volksw...       Positive  \n",
       "35512  mcdonald corp tuesday announced approved scien...       Negative  \n",
       "35513  pratt whitney soon begin delivery spare engine...       Negative  \n",
       "35514  britain consider suggestion give body charge u...       Positive  \n",
       "\n",
       "[35515 rows x 4 columns]"
      ]
     },
     "execution_count": 35,
     "metadata": {},
     "output_type": "execute_result"
    }
   ],
   "source": [
    "# apply the function  which decides sentiment to  polarity score column\n",
    "df"
   ]
  },
  {
   "cell_type": "code",
   "execution_count": 36,
   "metadata": {
    "colab": {
     "base_uri": "https://localhost:8080/",
     "height": 297
    },
    "id": "BMaNV0ayeBoI",
    "outputId": "34766863-6362-45a5-c27d-a7baf76e6223",
    "scrolled": true
   },
   "outputs": [
    {
     "data": {
      "image/png": "[encoded data removed]",
      "text/plain": [
       "<Figure size 432x288 with 1 Axes>"
      ]
     },
     "metadata": {},
     "output_type": "display_data"
    }
   ],
   "source": [
    "# plot a count plot on description score column\n",
    "import seaborn as sns\n",
    "sns.set()\n",
    "sns.countplot(x = df['polarity score'])\n",
    "plt.show()"
   ]
  },
  {
   "cell_type": "code",
   "execution_count": 37,
   "metadata": {},
   "outputs": [
    {
     "data": {
      "text/plain": [
       "Index(['Positive', 'Negative', 'Neutral'], dtype='object')"
      ]
     },
     "execution_count": 37,
     "metadata": {},
     "output_type": "execute_result"
    }
   ],
   "source": [
    "df['polarity score'].value_counts().index"
   ]
  },
  {
   "cell_type": "markdown",
   "metadata": {
    "id": "r5q_doOjIQu-"
   },
   "source": [
    "In the description \n",
    "\n",
    "there are approx\n",
    "\n",
    "14000 positive statment\n",
    "\n",
    "12000 negative statment\n",
    "\n",
    "8000 neutral statment"
   ]
  },
  {
   "cell_type": "code",
   "execution_count": 38,
   "metadata": {
    "colab": {
     "base_uri": "https://localhost:8080/",
     "height": 542
    },
    "id": "ptvoU5apeN4N",
    "outputId": "32e707ce-18f6-4fdc-a06d-f20e8322d5b3"
   },
   "outputs": [
    {
     "data": {
      "image/png": "[encoded data removed]",
      "text/plain": [
       "<Figure size 432x288 with 1 Axes>"
      ]
     },
     "metadata": {},
     "output_type": "display_data"
    }
   ],
   "source": [
    "# pie chart on description score column\n",
    "palette_color = sns.color_palette('nipy_spectral_r')\n",
    "plt.pie(df['polarity score'].value_counts(), labels=df['polarity score'].value_counts().index, colors=palette_color, autopct='%.0f%%')\n",
    "plt.show()"
   ]
  },
  {
   "cell_type": "markdown",
   "metadata": {
    "id": "5o3Z-0KhHm2w"
   },
   "source": [
    "In the dataset \n",
    "\n",
    "description contains\n",
    "\n",
    "42.6% positive statments\n",
    "\n",
    "34.5% negtive statements\n",
    "\n",
    "22.9% neutral statments"
   ]
  },
  {
   "cell_type": "markdown",
   "metadata": {
    "id": "wgt0f3fKfakl"
   },
   "source": [
    "# Modelling on description "
   ]
  },
  {
   "cell_type": "code",
   "execution_count": 39,
   "metadata": {},
   "outputs": [
    {
     "data": {
      "text/html": [
       "<div>\n",
       "<style scoped>\n",
       "    .dataframe tbody tr th:only-of-type {\n",
       "        vertical-align: middle;\n",
       "    }\n",
       "\n",
       "    .dataframe tbody tr th {\n",
       "        vertical-align: top;\n",
       "    }\n",
       "\n",
       "    .dataframe thead th {\n",
       "        text-align: right;\n",
       "    }\n",
       "</style>\n",
       "<table border=\"1\" class=\"dataframe\">\n",
       "  <thead>\n",
       "    <tr style=\"text-align: right;\">\n",
       "      <th></th>\n",
       "      <th>Headlines</th>\n",
       "      <th>Time</th>\n",
       "      <th>Description</th>\n",
       "      <th>polarity score</th>\n",
       "    </tr>\n",
       "  </thead>\n",
       "  <tbody>\n",
       "    <tr>\n",
       "      <th>0</th>\n",
       "      <td>Jim Cramer: A better way to invest in the Covi...</td>\n",
       "      <td>7:51  PM ET Fri, 17 July 2020</td>\n",
       "      <td>mad money host jim cramer recommended buying f...</td>\n",
       "      <td>Positive</td>\n",
       "    </tr>\n",
       "    <tr>\n",
       "      <th>1</th>\n",
       "      <td>Cramer's lightning round: I would own Teradyne</td>\n",
       "      <td>7:33  PM ET Fri, 17 July 2020</td>\n",
       "      <td>mad money host jim cramer ring lightning round...</td>\n",
       "      <td>Negative</td>\n",
       "    </tr>\n",
       "    <tr>\n",
       "      <th>2</th>\n",
       "      <td>Cramer's week ahead: Big week for earnings, ev...</td>\n",
       "      <td>7:25  PM ET Fri, 17 July 2020</td>\n",
       "      <td>pay earnings non covid company lancet publishe...</td>\n",
       "      <td>Positive</td>\n",
       "    </tr>\n",
       "    <tr>\n",
       "      <th>3</th>\n",
       "      <td>IQ Capital CEO Keith Bliss says tech and healt...</td>\n",
       "      <td>4:24  PM ET Fri, 17 July 2020</td>\n",
       "      <td>keith bliss iq capital ceo join closing bell t...</td>\n",
       "      <td>Positive</td>\n",
       "    </tr>\n",
       "    <tr>\n",
       "      <th>4</th>\n",
       "      <td>Wall Street delivered the 'kind of pullback I'...</td>\n",
       "      <td>7:36  PM ET Thu, 16 July 2020</td>\n",
       "      <td>look stock high quality company going lower ev...</td>\n",
       "      <td>Negative</td>\n",
       "    </tr>\n",
       "    <tr>\n",
       "      <th>...</th>\n",
       "      <td>...</td>\n",
       "      <td>...</td>\n",
       "      <td>...</td>\n",
       "      <td>...</td>\n",
       "    </tr>\n",
       "    <tr>\n",
       "      <th>35510</th>\n",
       "      <td>Malaysia says never hired British data firm at...</td>\n",
       "      <td>Mar 20 2018</td>\n",
       "      <td>malaysian government ruling party tuesday deni...</td>\n",
       "      <td>Negative</td>\n",
       "    </tr>\n",
       "    <tr>\n",
       "      <th>35511</th>\n",
       "      <td>Prosecutors search Volkswagen headquarters in ...</td>\n",
       "      <td>Mar 20 2018</td>\n",
       "      <td>german prosecutor said tuesday searched volksw...</td>\n",
       "      <td>Positive</td>\n",
       "    </tr>\n",
       "    <tr>\n",
       "      <th>35512</th>\n",
       "      <td>McDonald's sets greenhouse gas reduction targets</td>\n",
       "      <td>Mar 20 2018</td>\n",
       "      <td>mcdonald corp tuesday announced approved scien...</td>\n",
       "      <td>Negative</td>\n",
       "    </tr>\n",
       "    <tr>\n",
       "      <th>35513</th>\n",
       "      <td>Pratt &amp; Whitney to deliver spare A320neo engin...</td>\n",
       "      <td>Mar 20 2018</td>\n",
       "      <td>pratt whitney soon begin delivery spare engine...</td>\n",
       "      <td>Negative</td>\n",
       "    </tr>\n",
       "    <tr>\n",
       "      <th>35514</th>\n",
       "      <td>UK will always consider ways to improve data l...</td>\n",
       "      <td>Mar 20 2018</td>\n",
       "      <td>britain consider suggestion give body charge u...</td>\n",
       "      <td>Positive</td>\n",
       "    </tr>\n",
       "  </tbody>\n",
       "</table>\n",
       "<p>35515 rows × 4 columns</p>\n",
       "</div>"
      ],
      "text/plain": [
       "                                               Headlines  \\\n",
       "0      Jim Cramer: A better way to invest in the Covi...   \n",
       "1         Cramer's lightning round: I would own Teradyne   \n",
       "2      Cramer's week ahead: Big week for earnings, ev...   \n",
       "3      IQ Capital CEO Keith Bliss says tech and healt...   \n",
       "4      Wall Street delivered the 'kind of pullback I'...   \n",
       "...                                                  ...   \n",
       "35510  Malaysia says never hired British data firm at...   \n",
       "35511  Prosecutors search Volkswagen headquarters in ...   \n",
       "35512   McDonald's sets greenhouse gas reduction targets   \n",
       "35513  Pratt & Whitney to deliver spare A320neo engin...   \n",
       "35514  UK will always consider ways to improve data l...   \n",
       "\n",
       "                                 Time  \\\n",
       "0       7:51  PM ET Fri, 17 July 2020   \n",
       "1       7:33  PM ET Fri, 17 July 2020   \n",
       "2       7:25  PM ET Fri, 17 July 2020   \n",
       "3       4:24  PM ET Fri, 17 July 2020   \n",
       "4       7:36  PM ET Thu, 16 July 2020   \n",
       "...                               ...   \n",
       "35510                     Mar 20 2018   \n",
       "35511                     Mar 20 2018   \n",
       "35512                     Mar 20 2018   \n",
       "35513                     Mar 20 2018   \n",
       "35514                     Mar 20 2018   \n",
       "\n",
       "                                             Description polarity score  \n",
       "0      mad money host jim cramer recommended buying f...       Positive  \n",
       "1      mad money host jim cramer ring lightning round...       Negative  \n",
       "2      pay earnings non covid company lancet publishe...       Positive  \n",
       "3      keith bliss iq capital ceo join closing bell t...       Positive  \n",
       "4      look stock high quality company going lower ev...       Negative  \n",
       "...                                                  ...            ...  \n",
       "35510  malaysian government ruling party tuesday deni...       Negative  \n",
       "35511  german prosecutor said tuesday searched volksw...       Positive  \n",
       "35512  mcdonald corp tuesday announced approved scien...       Negative  \n",
       "35513  pratt whitney soon begin delivery spare engine...       Negative  \n",
       "35514  britain consider suggestion give body charge u...       Positive  \n",
       "\n",
       "[35515 rows x 4 columns]"
      ]
     },
     "execution_count": 39,
     "metadata": {},
     "output_type": "execute_result"
    }
   ],
   "source": [
    "df"
   ]
  },
  {
   "cell_type": "code",
   "execution_count": 40,
   "metadata": {
    "id": "pOd6wPeUhYd2"
   },
   "outputs": [],
   "source": [
    "# split the dataset  into test and train \n",
    "# 90% train , 10% test and random state 212\n",
    "from sklearn.model_selection import train_test_split\n",
    "X = df['Description']\n",
    "y = df['polarity score']\n",
    "X_train, X_test, y_train, y_test = train_test_split(X,y,train_size = 0.9, random_state = 212)"
   ]
  },
  {
   "cell_type": "markdown",
   "metadata": {
    "id": "hVuDdLFJkFSb"
   },
   "source": [
    "LINEAR SUPPORT VECTOR MACHINE\n"
   ]
  },
  {
   "cell_type": "code",
   "execution_count": 41,
   "metadata": {
    "colab": {
     "base_uri": "https://localhost:8080/"
    },
    "id": "exk6nRwomgAt",
    "outputId": "5de5fd8f-a60c-4317-9c81-2baf81621a40"
   },
   "outputs": [
    {
     "name": "stdout",
     "output_type": "stream",
     "text": [
      "80.71509009009009\n",
      "[[1121   69   88]\n",
      " [  97  293  140]\n",
      " [  88   50 1606]]\n",
      "              precision    recall  f1-score   support\n",
      "\n",
      "    Negative       0.86      0.88      0.87      1278\n",
      "     Neutral       0.71      0.55      0.62       530\n",
      "    Positive       0.88      0.92      0.90      1744\n",
      "\n",
      "    accuracy                           0.85      3552\n",
      "   macro avg       0.82      0.78      0.80      3552\n",
      "weighted avg       0.84      0.85      0.85      3552\n",
      "\n",
      "Wall time: 1.95 s\n"
     ]
    }
   ],
   "source": [
    "%%time\n",
    "# pipeline creation\n",
    "# 1. tfidVectorization\n",
    "# 2. linearSVC model\n",
    "from sklearn.pipeline import Pipeline\n",
    "from sklearn.feature_extraction.text import TfidfVectorizer\n",
    "from sklearn.svm import LinearSVC\n",
    "from sklearn.metrics import classification_report\n",
    "from sklearn.metrics import confusion_matrix\n",
    "\n",
    "\n",
    "pipe = Pipeline([('Vectorizer', TfidfVectorizer()), ('linearsvc', LinearSVC())])\n",
    "\n",
    "# Fit the pipeline to the data\n",
    "pipe.fit(X_train, y_train)\n",
    "# predict on test dataset\n",
    "y_pred = pipe.predict(X_test)\n",
    "# print accuracy score\n",
    "print(pipe.score(y_test,y_pred)*100)\n",
    "#print confusion matrix\n",
    "cm = confusion_matrix(y_test,y_pred)\n",
    "print(cm)\n",
    "#print classification report\n",
    "print(classification_report(y_test,y_pred))"
   ]
  },
  {
   "cell_type": "markdown",
   "metadata": {
    "id": "6Qq4dK32kBpM"
   },
   "source": [
    "LOGISTIC REGRESSION\n"
   ]
  },
  {
   "cell_type": "code",
   "execution_count": 42,
   "metadata": {
    "colab": {
     "base_uri": "https://localhost:8080/"
    },
    "id": "0w0yNn2_mf_s",
    "outputId": "17175fb5-83c7-4204-f358-42007a8f2168",
    "scrolled": true
   },
   "outputs": [
    {
     "name": "stderr",
     "output_type": "stream",
     "text": [
      "D:\\Softwares\\Anaconda\\lib\\site-packages\\sklearn\\linear_model\\_logistic.py:762: ConvergenceWarning: lbfgs failed to converge (status=1):\n",
      "STOP: TOTAL NO. of ITERATIONS REACHED LIMIT.\n",
      "\n",
      "Increase the number of iterations (max_iter) or scale the data as shown in:\n",
      "    https://scikit-learn.org/stable/modules/preprocessing.html\n",
      "Please also refer to the documentation for alternative solver options:\n",
      "    https://scikit-learn.org/stable/modules/linear_model.html#logistic-regression\n",
      "  n_iter_i = _check_optimize_result(\n"
     ]
    },
    {
     "name": "stdout",
     "output_type": "stream",
     "text": [
      "81.95382882882883\n",
      "[[1087   49  142]\n",
      " [  90  227  213]\n",
      " [ 103   30 1611]]\n",
      "              precision    recall  f1-score   support\n",
      "\n",
      "    Negative       0.85      0.85      0.85      1278\n",
      "     Neutral       0.74      0.43      0.54       530\n",
      "    Positive       0.82      0.92      0.87      1744\n",
      "\n",
      "    accuracy                           0.82      3552\n",
      "   macro avg       0.80      0.73      0.75      3552\n",
      "weighted avg       0.82      0.82      0.81      3552\n",
      "\n",
      "Wall time: 5.23 s\n"
     ]
    }
   ],
   "source": [
    "%%time\n",
    "# pipeline creation \n",
    "# 1. CountVectorization\n",
    "# 2. TfidTransformer\n",
    "# 3. Logistic Regression\n",
    "from sklearn.feature_extraction.text import CountVectorizer\n",
    "from sklearn.feature_extraction.text import TfidfTransformer\n",
    "from sklearn.linear_model import LogisticRegression\n",
    "pipe = Pipeline([('countvectorizer', CountVectorizer()), ('transformer', TfidfTransformer()), ('linearsvc', LogisticRegression())])\n",
    "# fit the pipeline to the train data\n",
    "pipe.fit(X_train, y_train)\n",
    "# predict on test dataset\n",
    "y_pred = pipe.predict(X_test)\n",
    "# print accuracy score\n",
    "print(pipe.score(y_test,y_pred)*100)\n",
    "#print confusion matrix\n",
    "cm = confusion_matrix(y_test,y_pred)\n",
    "print(cm)\n",
    "#print classification report\n",
    "print(classification_report(y_test,y_pred))\n",
    " "
   ]
  },
  {
   "cell_type": "markdown",
   "metadata": {
    "id": "XbFrK_pXj-HC"
   },
   "source": [
    "MULTINOMIAL NAIVE BAYES\n"
   ]
  },
  {
   "cell_type": "code",
   "execution_count": 43,
   "metadata": {
    "colab": {
     "base_uri": "https://localhost:8080/"
    },
    "id": "ag3ceKiEmfxR",
    "outputId": "2d14e551-23eb-4ced-d133-e5fd561f7c72"
   },
   "outputs": [
    {
     "name": "stdout",
     "output_type": "stream",
     "text": [
      "78.26576576576578\n",
      "[[ 701    2  575]\n",
      " [  61   14  455]\n",
      " [ 119    1 1624]]\n",
      "              precision    recall  f1-score   support\n",
      "\n",
      "    Negative       0.80      0.55      0.65      1278\n",
      "     Neutral       0.82      0.03      0.05       530\n",
      "    Positive       0.61      0.93      0.74      1744\n",
      "\n",
      "    accuracy                           0.66      3552\n",
      "   macro avg       0.74      0.50      0.48      3552\n",
      "weighted avg       0.71      0.66      0.60      3552\n",
      "\n",
      "Wall time: 1.8 s\n"
     ]
    }
   ],
   "source": [
    "%%time\n",
    "# pipeline creation \n",
    "# 1. CountVectorizer\n",
    "# 2. TfidTransformer\n",
    "# 3. MultinomialNB\n",
    "from sklearn.naive_bayes import MultinomialNB\n",
    "pipe = Pipeline([('countvectorizer', CountVectorizer()), ('transformer', TfidfTransformer()), ('multinb', MultinomialNB())])\n",
    "# fit the pipeline to the train data\n",
    "pipe.fit(X_train, y_train)\n",
    "# predict on test dataset\n",
    "y_pred = pipe.predict(X_test)\n",
    "# print accuracy score\n",
    "print(pipe.score(y_test,y_pred)*100)\n",
    "#print confusion matrix\n",
    "cm = confusion_matrix(y_test,y_pred)\n",
    "print(cm)\n",
    "#print classification report\n",
    "print(classification_report(y_test,y_pred))\n",
    " \n",
    " "
   ]
  },
  {
   "cell_type": "markdown",
   "metadata": {
    "id": "-79YSosbj7HP"
   },
   "source": [
    "BERNOULLI NAIVE BAYES\n"
   ]
  },
  {
   "cell_type": "code",
   "execution_count": 44,
   "metadata": {
    "colab": {
     "base_uri": "https://localhost:8080/"
    },
    "id": "N-ftjtoEmfsP",
    "outputId": "fc46a6c1-da3e-46e4-a2f1-37e562cf708c"
   },
   "outputs": [
    {
     "name": "stdout",
     "output_type": "stream",
     "text": [
      "71.90315315315316\n",
      "[[ 920   78  280]\n",
      " [ 100  184  246]\n",
      " [ 263   93 1388]]\n",
      "              precision    recall  f1-score   support\n",
      "\n",
      "    Negative       0.72      0.72      0.72      1278\n",
      "     Neutral       0.52      0.35      0.42       530\n",
      "    Positive       0.73      0.80      0.76      1744\n",
      "\n",
      "    accuracy                           0.70      3552\n",
      "   macro avg       0.65      0.62      0.63      3552\n",
      "weighted avg       0.69      0.70      0.69      3552\n",
      "\n",
      "Wall time: 1.24 s\n"
     ]
    }
   ],
   "source": [
    "%%time\n",
    "# pipeline creation \n",
    "# 1. CountVectorizer\n",
    "# 2. TfidTransformer\n",
    "# 3. BernoulliNB\n",
    "from sklearn.naive_bayes import BernoulliNB\n",
    "pipe = Pipeline([('countvectorizer', CountVectorizer()), ('transformer', TfidfTransformer()), ('bernoullinb', BernoulliNB())])\n",
    "# fit the pipeline to the train data\n",
    "pipe.fit(X_train, y_train)\n",
    "# predict on test dataset\n",
    "y_pred = pipe.predict(X_test)\n",
    "# print accuracy score\n",
    "print(pipe.score(y_test,y_pred)*100)\n",
    "#print confusion matrix\n",
    "cm = confusion_matrix(y_test,y_pred)\n",
    "print(cm)\n",
    "#print classification report\n",
    "print(classification_report(y_test,y_pred))\n"
   ]
  },
  {
   "cell_type": "markdown",
   "metadata": {
    "id": "DDcEnl9uj3yl"
   },
   "source": [
    "GRADIENT BOOSTING CLASSIFICATION MODEL\n"
   ]
  },
  {
   "cell_type": "code",
   "execution_count": 45,
   "metadata": {
    "colab": {
     "base_uri": "https://localhost:8080/"
    },
    "id": "vTT-HmujmfrR",
    "outputId": "8987cfa9-952f-4c27-cd42-452a26a479bb"
   },
   "outputs": [
    {
     "name": "stdout",
     "output_type": "stream",
     "text": [
      "75.33783783783784\n",
      "[[ 705   16  557]\n",
      " [  20   40  470]\n",
      " [  84   11 1649]]\n",
      "              precision    recall  f1-score   support\n",
      "\n",
      "    Negative       0.87      0.55      0.68      1278\n",
      "     Neutral       0.60      0.08      0.13       530\n",
      "    Positive       0.62      0.95      0.75      1744\n",
      "\n",
      "    accuracy                           0.67      3552\n",
      "   macro avg       0.69      0.52      0.52      3552\n",
      "weighted avg       0.71      0.67      0.63      3552\n",
      "\n",
      "Wall time: 1min 17s\n"
     ]
    }
   ],
   "source": [
    "%%time\n",
    "# pipeline creation \n",
    "# 1. CountVectorizer\n",
    "# 2. TfidTransformer\n",
    "# 3. GradientBoostingClassifier\n",
    "from sklearn.ensemble import GradientBoostingClassifier\n",
    "pipe = Pipeline([('countvectorizer', CountVectorizer()), ('transformer', TfidfTransformer()), ('gbc', GradientBoostingClassifier())])\n",
    "# fit the pipeline to the train data\n",
    "pipe.fit(X_train, y_train)\n",
    "# predict on test dataset\n",
    "y_pred = pipe.predict(X_test)\n",
    "# print accuracy score\n",
    "print(pipe.score(y_test,y_pred)*100)\n",
    "#print confusion matrix\n",
    "cm = confusion_matrix(y_test,y_pred)\n",
    "print(cm)\n",
    "#print classification report\n",
    "print(classification_report(y_test,y_pred))\n"
   ]
  },
  {
   "cell_type": "markdown",
   "metadata": {
    "id": "hwMk-HFAjzP-"
   },
   "source": [
    "XGBOOST CLASSIFICATION MODEL\n"
   ]
  },
  {
   "cell_type": "code",
   "execution_count": 46,
   "metadata": {
    "colab": {
     "base_uri": "https://localhost:8080/"
    },
    "id": "1M8E7hmnmfn1",
    "outputId": "739370a5-ba74-4119-8f09-591adaed55f7"
   },
   "outputs": [
    {
     "name": "stderr",
     "output_type": "stream",
     "text": [
      "D:\\Softwares\\Anaconda\\lib\\site-packages\\xgboost\\sklearn.py:1224: UserWarning: The use of label encoder in XGBClassifier is deprecated and will be removed in a future release. To remove this warning, do the following: 1) Pass option use_label_encoder=False when constructing XGBClassifier object; and 2) Encode your labels (y) as integers starting with 0, i.e. 0, 1, 2, ..., [num_class - 1].\n",
      "  warnings.warn(label_encoder_deprecation_msg, UserWarning)\n"
     ]
    },
    {
     "name": "stdout",
     "output_type": "stream",
     "text": [
      "[16:19:03] WARNING: D:\\bld\\xgboost-split_1645118015404\\work\\src\\learner.cc:1115: Starting in XGBoost 1.3.0, the default evaluation metric used with the objective 'multi:softprob' was changed from 'merror' to 'mlogloss'. Explicitly set eval_metric if you'd like to restore the old behavior.\n",
      "77.33671171171171\n",
      "[[ 963   70  245]\n",
      " [  31  289  210]\n",
      " [ 112   58 1574]]\n",
      "              precision    recall  f1-score   support\n",
      "\n",
      "    Negative       0.87      0.75      0.81      1278\n",
      "     Neutral       0.69      0.55      0.61       530\n",
      "    Positive       0.78      0.90      0.83      1744\n",
      "\n",
      "    accuracy                           0.80      3552\n",
      "   macro avg       0.78      0.73      0.75      3552\n",
      "weighted avg       0.80      0.80      0.79      3552\n",
      "\n",
      "Wall time: 52.3 s\n"
     ]
    }
   ],
   "source": [
    "%%time\n",
    "# pipeline creation \n",
    "# 1. CountVectorizer\n",
    "# 2. TfidTransformer\n",
    "# 3. XGBClassifier\n",
    "from xgboost.sklearn import XGBClassifier\n",
    "pipe = Pipeline([('countvectorizer', CountVectorizer()), ('transformer', TfidfTransformer()), ('xgbclassifier', XGBClassifier())])\n",
    "# fit the pipeline to the train data\n",
    "pipe.fit(X_train, y_train)\n",
    "# predict on test dataset\n",
    "y_pred = pipe.predict(X_test)\n",
    "# print accuracy score\n",
    "print(pipe.score(y_test,y_pred)*100)\n",
    "#print confusion matrix\n",
    "cm = confusion_matrix(y_test,y_pred)\n",
    "print(cm)\n",
    "#print classification report\n",
    "print(classification_report(y_test,y_pred))\n"
   ]
  },
  {
   "cell_type": "markdown",
   "metadata": {
    "id": "8RvWy4tSjwDV"
   },
   "source": [
    "DECISION TREE CLASSIFICATION MODEL\n"
   ]
  },
  {
   "cell_type": "code",
   "execution_count": 47,
   "metadata": {
    "colab": {
     "base_uri": "https://localhost:8080/"
    },
    "id": "63xamISqmfmd",
    "outputId": "f4c8b146-0b8b-49a0-bd3a-b40f67372709"
   },
   "outputs": [
    {
     "name": "stdout",
     "output_type": "stream",
     "text": [
      "72.2972972972973\n",
      "[[ 882  108  288]\n",
      " [  79  358   93]\n",
      " [ 319   97 1328]]\n",
      "              precision    recall  f1-score   support\n",
      "\n",
      "    Negative       0.69      0.69      0.69      1278\n",
      "     Neutral       0.64      0.68      0.66       530\n",
      "    Positive       0.78      0.76      0.77      1744\n",
      "\n",
      "    accuracy                           0.72      3552\n",
      "   macro avg       0.70      0.71      0.70      3552\n",
      "weighted avg       0.72      0.72      0.72      3552\n",
      "\n",
      "Wall time: 24.2 s\n"
     ]
    }
   ],
   "source": [
    "%%time\n",
    "# pipeline creation \n",
    "# 1. CountVectorizer\n",
    "# 2. TfidTransformer\n",
    "# 3. Decision tree classifier\n",
    "from sklearn.tree import DecisionTreeClassifier\n",
    "pipe = Pipeline([('countvectorizer', CountVectorizer()), ('transformer', TfidfTransformer()), ('dtc', DecisionTreeClassifier())])\n",
    "# fit the pipeline to the train data\n",
    "pipe.fit(X_train, y_train)\n",
    "# predict on test dataset\n",
    "y_pred = pipe.predict(X_test)\n",
    "# print accuracy score\n",
    "print(pipe.score(y_test,y_pred)*100)\n",
    "#print confusion matrix\n",
    "cm = confusion_matrix(y_test,y_pred)\n",
    "print(cm)\n",
    "#print classification report\n",
    "print(classification_report(y_test,y_pred))"
   ]
  },
  {
   "cell_type": "markdown",
   "metadata": {
    "id": "LenIHULAjsrv"
   },
   "source": [
    "K- NEAREST NEIGHBOUR CLASSIFIER MODEL\n"
   ]
  },
  {
   "cell_type": "code",
   "execution_count": 48,
   "metadata": {
    "colab": {
     "base_uri": "https://localhost:8080/"
    },
    "id": "UtU2_7-MzQ6N",
    "outputId": "ed7a03b4-1efd-432f-e1d2-aa0e4f2375e8"
   },
   "outputs": [
    {
     "name": "stdout",
     "output_type": "stream",
     "text": [
      "59.909909909909906\n",
      "[[ 792  114  372]\n",
      " [ 164  156  210]\n",
      " [ 432  186 1126]]\n",
      "              precision    recall  f1-score   support\n",
      "\n",
      "    Negative       0.57      0.62      0.59      1278\n",
      "     Neutral       0.34      0.29      0.32       530\n",
      "    Positive       0.66      0.65      0.65      1744\n",
      "\n",
      "    accuracy                           0.58      3552\n",
      "   macro avg       0.52      0.52      0.52      3552\n",
      "weighted avg       0.58      0.58      0.58      3552\n",
      "\n",
      "Wall time: 18.6 s\n"
     ]
    }
   ],
   "source": [
    "%%time\n",
    "# pipeline creation \n",
    "# 1. CountVectorizer\n",
    "# 2. TfidTransformer\n",
    "# 3. KNN classifier\n",
    "from sklearn.neighbors import KNeighborsClassifier\n",
    "pipe = Pipeline([('countvectorizer', CountVectorizer()), ('transformer', TfidfTransformer()), ('knn', KNeighborsClassifier())])\n",
    "# fit the pipeline to the train data\n",
    "pipe.fit(X_train, y_train)\n",
    "# predict on test dataset\n",
    "y_pred = pipe.predict(X_test)\n",
    "# print accuracy score\n",
    "print(pipe.score(y_test,y_pred)*100)\n",
    "#print confusion matrix\n",
    "cm = confusion_matrix(y_test,y_pred)\n",
    "print(cm)\n",
    "#print classification report\n",
    "print(classification_report(y_test,y_pred))"
   ]
  },
  {
   "cell_type": "code",
   "execution_count": 49,
   "metadata": {
    "id": "MlOKo4d2wkm3"
   },
   "outputs": [],
   "source": [
    "# helper function for comparing models matric\n",
    "import warnings\n",
    "warnings.filterwarnings(\"ignore\")\n",
    "def modelmetric(x):\n",
    "    \n",
    "    # the libraries we need\n",
    "    pipe = Pipeline([('countvectorizer', CountVectorizer()), ('transformer', TfidfTransformer()), ('x', x)])\n",
    "    # fit the pipeline to the train data\n",
    "    pipe.fit(X_train, y_train)\n",
    "    # predict on test dataset\n",
    "    y_pred = pipe.predict(X_test)\n",
    "    # print accuracy score\n",
    "    print(x)\n",
    "    print(pipe.score(y_test,y_pred)*100)\n",
    "    #print confusion matrix\n",
    " \n",
    "    #print classification report\n",
    "    print(classification_report(y_test,y_pred))\n",
    "    print(\"---------------------------------------------------------------------------------------\")\n",
    "    # create a dataframe with column matric and metric name as value\n",
    "   \n",
    "   \n",
    "    # then predict on the test set\n",
    "    "
   ]
  },
  {
   "cell_type": "code",
   "execution_count": 50,
   "metadata": {
    "colab": {
     "base_uri": "https://localhost:8080/"
    },
    "id": "4A6ZI1hQwkhO",
    "outputId": "bd76815b-6c62-4ff0-c201-5ef627257d9e"
   },
   "outputs": [
    {
     "name": "stdout",
     "output_type": "stream",
     "text": [
      "LinearSVC()\n",
      "80.71509009009009\n",
      "              precision    recall  f1-score   support\n",
      "\n",
      "    Negative       0.86      0.88      0.87      1278\n",
      "     Neutral       0.71      0.55      0.62       530\n",
      "    Positive       0.88      0.92      0.90      1744\n",
      "\n",
      "    accuracy                           0.85      3552\n",
      "   macro avg       0.82      0.78      0.80      3552\n",
      "weighted avg       0.84      0.85      0.85      3552\n",
      "\n",
      "---------------------------------------------------------------------------------------\n",
      "LogisticRegression()\n",
      "81.95382882882883\n",
      "              precision    recall  f1-score   support\n",
      "\n",
      "    Negative       0.85      0.85      0.85      1278\n",
      "     Neutral       0.74      0.43      0.54       530\n",
      "    Positive       0.82      0.92      0.87      1744\n",
      "\n",
      "    accuracy                           0.82      3552\n",
      "   macro avg       0.80      0.73      0.75      3552\n",
      "weighted avg       0.82      0.82      0.81      3552\n",
      "\n",
      "---------------------------------------------------------------------------------------\n",
      "MultinomialNB()\n",
      "78.26576576576578\n",
      "              precision    recall  f1-score   support\n",
      "\n",
      "    Negative       0.80      0.55      0.65      1278\n",
      "     Neutral       0.82      0.03      0.05       530\n",
      "    Positive       0.61      0.93      0.74      1744\n",
      "\n",
      "    accuracy                           0.66      3552\n",
      "   macro avg       0.74      0.50      0.48      3552\n",
      "weighted avg       0.71      0.66      0.60      3552\n",
      "\n",
      "---------------------------------------------------------------------------------------\n",
      "BernoulliNB()\n",
      "71.90315315315316\n",
      "              precision    recall  f1-score   support\n",
      "\n",
      "    Negative       0.72      0.72      0.72      1278\n",
      "     Neutral       0.52      0.35      0.42       530\n",
      "    Positive       0.73      0.80      0.76      1744\n",
      "\n",
      "    accuracy                           0.70      3552\n",
      "   macro avg       0.65      0.62      0.63      3552\n",
      "weighted avg       0.69      0.70      0.69      3552\n",
      "\n",
      "---------------------------------------------------------------------------------------\n",
      "GradientBoostingClassifier()\n",
      "75.16891891891892\n",
      "              precision    recall  f1-score   support\n",
      "\n",
      "    Negative       0.87      0.55      0.67      1278\n",
      "     Neutral       0.60      0.08      0.13       530\n",
      "    Positive       0.62      0.94      0.75      1744\n",
      "\n",
      "    accuracy                           0.67      3552\n",
      "   macro avg       0.69      0.52      0.52      3552\n",
      "weighted avg       0.70      0.67      0.63      3552\n",
      "\n",
      "---------------------------------------------------------------------------------------\n",
      "[16:22:09] WARNING: D:\\bld\\xgboost-split_1645118015404\\work\\src\\learner.cc:1115: Starting in XGBoost 1.3.0, the default evaluation metric used with the objective 'multi:softprob' was changed from 'merror' to 'mlogloss'. Explicitly set eval_metric if you'd like to restore the old behavior.\n",
      "XGBClassifier(base_score=0.5, booster='gbtree', colsample_bylevel=1,\n",
      "              colsample_bynode=1, colsample_bytree=1, enable_categorical=False,\n",
      "              gamma=0, gpu_id=-1, importance_type=None,\n",
      "              interaction_constraints='', learning_rate=0.300000012,\n",
      "              max_delta_step=0, max_depth=6, min_child_weight=1, missing=nan,\n",
      "              monotone_constraints='()', n_estimators=100, n_jobs=4,\n",
      "              num_parallel_tree=1, objective='multi:softprob', predictor='auto',\n",
      "              random_state=0, reg_alpha=0, reg_lambda=1, scale_pos_weight=None,\n",
      "              subsample=1, tree_method='exact', validate_parameters=1,\n",
      "              verbosity=None)\n",
      "77.33671171171171\n",
      "              precision    recall  f1-score   support\n",
      "\n",
      "    Negative       0.87      0.75      0.81      1278\n",
      "     Neutral       0.69      0.55      0.61       530\n",
      "    Positive       0.78      0.90      0.83      1744\n",
      "\n",
      "    accuracy                           0.80      3552\n",
      "   macro avg       0.78      0.73      0.75      3552\n",
      "weighted avg       0.80      0.80      0.79      3552\n",
      "\n",
      "---------------------------------------------------------------------------------------\n",
      "DecisionTreeClassifier()\n",
      "71.05855855855856\n",
      "              precision    recall  f1-score   support\n",
      "\n",
      "    Negative       0.69      0.68      0.68      1278\n",
      "     Neutral       0.58      0.62      0.60       530\n",
      "    Positive       0.77      0.76      0.77      1744\n",
      "\n",
      "    accuracy                           0.71      3552\n",
      "   macro avg       0.68      0.69      0.68      3552\n",
      "weighted avg       0.71      0.71      0.71      3552\n",
      "\n",
      "---------------------------------------------------------------------------------------\n",
      "KNeighborsClassifier()\n",
      "59.909909909909906\n",
      "              precision    recall  f1-score   support\n",
      "\n",
      "    Negative       0.57      0.62      0.59      1278\n",
      "     Neutral       0.34      0.29      0.32       530\n",
      "    Positive       0.66      0.65      0.65      1744\n",
      "\n",
      "    accuracy                           0.58      3552\n",
      "   macro avg       0.52      0.52      0.52      3552\n",
      "weighted avg       0.58      0.58      0.58      3552\n",
      "\n",
      "---------------------------------------------------------------------------------------\n"
     ]
    }
   ],
   "source": [
    "# list of model objects\n",
    "object_list = [LinearSVC(),\n",
    "               LogisticRegression(),\n",
    "               MultinomialNB(),\n",
    "               BernoulliNB(),\n",
    "               GradientBoostingClassifier(),\n",
    "               XGBClassifier(),\n",
    "               DecisionTreeClassifier(),\n",
    "               KNeighborsClassifier()]\n",
    "# list of model names\n",
    "model_names = ['Linear SVC',\n",
    "              'Logistic Regression',\n",
    "              'Multinomial Naive Bayes',\n",
    "              'Bernoulli Naive Bayes',\n",
    "              'Gradient Boosting Classifier',\n",
    "              'XGB Classifier',\n",
    "              'Decision Tree Classifier',\n",
    "              'K Neighbors Classifier' \n",
    "              ]\n",
    "# print the comparison of models\n",
    "for j in object_list:\n",
    "    modelmetric(j)"
   ]
  },
  {
   "cell_type": "markdown",
   "metadata": {
    "id": "YxNC09uekdZH"
   },
   "source": [
    "# working with test dataset"
   ]
  },
  {
   "cell_type": "code",
   "execution_count": 51,
   "metadata": {
    "colab": {
     "base_uri": "https://localhost:8080/"
    },
    "id": "P_XD4m1Fkh3i",
    "outputId": "bfaa4a5b-f52a-4064-8e5c-66b939deab41"
   },
   "outputs": [
    {
     "data": {
      "text/plain": [
       "array(['Negative', 'Negative', 'Positive', ..., 'Negative', 'Positive',\n",
       "       'Positive'], dtype=object)"
      ]
     },
     "execution_count": 51,
     "metadata": {},
     "output_type": "execute_result"
    }
   ],
   "source": [
    "# Perforn the prediction on the test dataset\n",
    "pipe = Pipeline([('countvectorizer', CountVectorizer()), ('transformer', TfidfTransformer()), ('x', LogisticRegression())])\n",
    "pipe.fit(X_train, y_train)\n",
    "predictions = pipe.predict(X_test)\n",
    "predictions"
   ]
  },
  {
   "cell_type": "code",
   "execution_count": 52,
   "metadata": {
    "id": "U4cHKaw6khr_"
   },
   "outputs": [
    {
     "data": {
      "text/html": [
       "<div>\n",
       "<style scoped>\n",
       "    .dataframe tbody tr th:only-of-type {\n",
       "        vertical-align: middle;\n",
       "    }\n",
       "\n",
       "    .dataframe tbody tr th {\n",
       "        vertical-align: top;\n",
       "    }\n",
       "\n",
       "    .dataframe thead th {\n",
       "        text-align: right;\n",
       "    }\n",
       "</style>\n",
       "<table border=\"1\" class=\"dataframe\">\n",
       "  <thead>\n",
       "    <tr style=\"text-align: right;\">\n",
       "      <th></th>\n",
       "      <th>0</th>\n",
       "    </tr>\n",
       "  </thead>\n",
       "  <tbody>\n",
       "    <tr>\n",
       "      <th>0</th>\n",
       "      <td>Negative</td>\n",
       "    </tr>\n",
       "    <tr>\n",
       "      <th>1</th>\n",
       "      <td>Negative</td>\n",
       "    </tr>\n",
       "    <tr>\n",
       "      <th>2</th>\n",
       "      <td>Positive</td>\n",
       "    </tr>\n",
       "    <tr>\n",
       "      <th>3</th>\n",
       "      <td>Neutral</td>\n",
       "    </tr>\n",
       "    <tr>\n",
       "      <th>4</th>\n",
       "      <td>Positive</td>\n",
       "    </tr>\n",
       "    <tr>\n",
       "      <th>...</th>\n",
       "      <td>...</td>\n",
       "    </tr>\n",
       "    <tr>\n",
       "      <th>3547</th>\n",
       "      <td>Negative</td>\n",
       "    </tr>\n",
       "    <tr>\n",
       "      <th>3548</th>\n",
       "      <td>Positive</td>\n",
       "    </tr>\n",
       "    <tr>\n",
       "      <th>3549</th>\n",
       "      <td>Negative</td>\n",
       "    </tr>\n",
       "    <tr>\n",
       "      <th>3550</th>\n",
       "      <td>Positive</td>\n",
       "    </tr>\n",
       "    <tr>\n",
       "      <th>3551</th>\n",
       "      <td>Positive</td>\n",
       "    </tr>\n",
       "  </tbody>\n",
       "</table>\n",
       "<p>3552 rows × 1 columns</p>\n",
       "</div>"
      ],
      "text/plain": [
       "             0\n",
       "0     Negative\n",
       "1     Negative\n",
       "2     Positive\n",
       "3      Neutral\n",
       "4     Positive\n",
       "...        ...\n",
       "3547  Negative\n",
       "3548  Positive\n",
       "3549  Negative\n",
       "3550  Positive\n",
       "3551  Positive\n",
       "\n",
       "[3552 rows x 1 columns]"
      ]
     },
     "execution_count": 52,
     "metadata": {},
     "output_type": "execute_result"
    }
   ],
   "source": [
    "# creating a dataframe of predicted results \n",
    "predictions = pd.DataFrame(predictions)\n",
    "predictions"
   ]
  },
  {
   "cell_type": "code",
   "execution_count": 53,
   "metadata": {
    "colab": {
     "base_uri": "https://localhost:8080/",
     "height": 202
    },
    "id": "91noUUWikhD5",
    "outputId": "f0787fe5-700e-46e6-8f70-b83d36bfa83f"
   },
   "outputs": [
    {
     "data": {
      "text/html": [
       "<div>\n",
       "<style scoped>\n",
       "    .dataframe tbody tr th:only-of-type {\n",
       "        vertical-align: middle;\n",
       "    }\n",
       "\n",
       "    .dataframe tbody tr th {\n",
       "        vertical-align: top;\n",
       "    }\n",
       "\n",
       "    .dataframe thead th {\n",
       "        text-align: right;\n",
       "    }\n",
       "</style>\n",
       "<table border=\"1\" class=\"dataframe\">\n",
       "  <thead>\n",
       "    <tr style=\"text-align: right;\">\n",
       "      <th></th>\n",
       "      <th>Headlines</th>\n",
       "      <th>Time</th>\n",
       "      <th>Description</th>\n",
       "    </tr>\n",
       "  </thead>\n",
       "  <tbody>\n",
       "    <tr>\n",
       "      <th>0</th>\n",
       "      <td>Jim Cramer: A better way to invest in the Covi...</td>\n",
       "      <td>7:51  PM ET Fri, 17 July 2020</td>\n",
       "      <td>\"Mad Money\" host Jim Cramer recommended buying...</td>\n",
       "    </tr>\n",
       "    <tr>\n",
       "      <th>1</th>\n",
       "      <td>Cramer's lightning round: I would own Teradyne</td>\n",
       "      <td>7:33  PM ET Fri, 17 July 2020</td>\n",
       "      <td>\"Mad Money\" host Jim Cramer rings the lightnin...</td>\n",
       "    </tr>\n",
       "    <tr>\n",
       "      <th>3</th>\n",
       "      <td>Cramer's week ahead: Big week for earnings, ev...</td>\n",
       "      <td>7:25  PM ET Fri, 17 July 2020</td>\n",
       "      <td>\"We'll pay more for the earnings of the non-Co...</td>\n",
       "    </tr>\n",
       "    <tr>\n",
       "      <th>4</th>\n",
       "      <td>IQ Capital CEO Keith Bliss says tech and healt...</td>\n",
       "      <td>4:24  PM ET Fri, 17 July 2020</td>\n",
       "      <td>Keith Bliss, IQ Capital CEO, joins \"Closing Be...</td>\n",
       "    </tr>\n",
       "    <tr>\n",
       "      <th>5</th>\n",
       "      <td>Wall Street delivered the 'kind of pullback I'...</td>\n",
       "      <td>7:36  PM ET Thu, 16 July 2020</td>\n",
       "      <td>\"Look for the stocks of high-quality companies...</td>\n",
       "    </tr>\n",
       "    <tr>\n",
       "      <th>...</th>\n",
       "      <td>...</td>\n",
       "      <td>...</td>\n",
       "      <td>...</td>\n",
       "    </tr>\n",
       "    <tr>\n",
       "      <th>3075</th>\n",
       "      <td>Markets lack Christmas cheer</td>\n",
       "      <td>10:15  AM ET Tue, 26 Dec 2017</td>\n",
       "      <td>According to Kensho, here's how markets have f...</td>\n",
       "    </tr>\n",
       "    <tr>\n",
       "      <th>3076</th>\n",
       "      <td>Cramer Remix: The biggest mistake you can make...</td>\n",
       "      <td>11:12  AM ET Thu, 20 Sept 2018</td>\n",
       "      <td>Jim Cramer revealed his top rule when it comes...</td>\n",
       "    </tr>\n",
       "    <tr>\n",
       "      <th>3077</th>\n",
       "      <td>Cramer says owning too many stocks and too lit...</td>\n",
       "      <td>7:07  PM ET Fri, 22 Dec 2017</td>\n",
       "      <td>Jim Cramer broke down why owning fewer stocks ...</td>\n",
       "    </tr>\n",
       "    <tr>\n",
       "      <th>3078</th>\n",
       "      <td>Cramer: I helped investors through the 2010 fl...</td>\n",
       "      <td>7:07  PM ET Fri, 22 Dec 2017</td>\n",
       "      <td>Jim Cramer built on his \"nobody ever made a di...</td>\n",
       "    </tr>\n",
       "    <tr>\n",
       "      <th>3079</th>\n",
       "      <td>Cramer: Never buy a stock all at once — you'll...</td>\n",
       "      <td>6:52  PM ET Fri, 22 Dec 2017</td>\n",
       "      <td>Jim Cramer doubled down on his key investing r...</td>\n",
       "    </tr>\n",
       "  </tbody>\n",
       "</table>\n",
       "<p>2800 rows × 3 columns</p>\n",
       "</div>"
      ],
      "text/plain": [
       "                                              Headlines  \\\n",
       "0     Jim Cramer: A better way to invest in the Covi...   \n",
       "1        Cramer's lightning round: I would own Teradyne   \n",
       "3     Cramer's week ahead: Big week for earnings, ev...   \n",
       "4     IQ Capital CEO Keith Bliss says tech and healt...   \n",
       "5     Wall Street delivered the 'kind of pullback I'...   \n",
       "...                                                 ...   \n",
       "3075                       Markets lack Christmas cheer   \n",
       "3076  Cramer Remix: The biggest mistake you can make...   \n",
       "3077  Cramer says owning too many stocks and too lit...   \n",
       "3078  Cramer: I helped investors through the 2010 fl...   \n",
       "3079  Cramer: Never buy a stock all at once — you'll...   \n",
       "\n",
       "                                Time  \\\n",
       "0      7:51  PM ET Fri, 17 July 2020   \n",
       "1      7:33  PM ET Fri, 17 July 2020   \n",
       "3      7:25  PM ET Fri, 17 July 2020   \n",
       "4      4:24  PM ET Fri, 17 July 2020   \n",
       "5      7:36  PM ET Thu, 16 July 2020   \n",
       "...                              ...   \n",
       "3075   10:15  AM ET Tue, 26 Dec 2017   \n",
       "3076  11:12  AM ET Thu, 20 Sept 2018   \n",
       "3077    7:07  PM ET Fri, 22 Dec 2017   \n",
       "3078    7:07  PM ET Fri, 22 Dec 2017   \n",
       "3079    6:52  PM ET Fri, 22 Dec 2017   \n",
       "\n",
       "                                            Description  \n",
       "0     \"Mad Money\" host Jim Cramer recommended buying...  \n",
       "1     \"Mad Money\" host Jim Cramer rings the lightnin...  \n",
       "3     \"We'll pay more for the earnings of the non-Co...  \n",
       "4     Keith Bliss, IQ Capital CEO, joins \"Closing Be...  \n",
       "5     \"Look for the stocks of high-quality companies...  \n",
       "...                                                 ...  \n",
       "3075  According to Kensho, here's how markets have f...  \n",
       "3076  Jim Cramer revealed his top rule when it comes...  \n",
       "3077  Jim Cramer broke down why owning fewer stocks ...  \n",
       "3078  Jim Cramer built on his \"nobody ever made a di...  \n",
       "3079  Jim Cramer doubled down on his key investing r...  \n",
       "\n",
       "[2800 rows x 3 columns]"
      ]
     },
     "execution_count": 53,
     "metadata": {},
     "output_type": "execute_result"
    }
   ],
   "source": [
    "df_cnbc"
   ]
  },
  {
   "cell_type": "code",
   "execution_count": 54,
   "metadata": {
    "scrolled": true
   },
   "outputs": [
    {
     "data": {
      "text/html": [
       "<div>\n",
       "<style scoped>\n",
       "    .dataframe tbody tr th:only-of-type {\n",
       "        vertical-align: middle;\n",
       "    }\n",
       "\n",
       "    .dataframe tbody tr th {\n",
       "        vertical-align: top;\n",
       "    }\n",
       "\n",
       "    .dataframe thead th {\n",
       "        text-align: right;\n",
       "    }\n",
       "</style>\n",
       "<table border=\"1\" class=\"dataframe\">\n",
       "  <thead>\n",
       "    <tr style=\"text-align: right;\">\n",
       "      <th></th>\n",
       "      <th>Time</th>\n",
       "      <th>Info</th>\n",
       "    </tr>\n",
       "  </thead>\n",
       "  <tbody>\n",
       "    <tr>\n",
       "      <th>0</th>\n",
       "      <td>18-Jul-20</td>\n",
       "      <td>Johnson is asking Santa for a Christmas recovery</td>\n",
       "    </tr>\n",
       "    <tr>\n",
       "      <th>1</th>\n",
       "      <td>18-Jul-20</td>\n",
       "      <td>‘I now fear the worst’: four grim tales of wor...</td>\n",
       "    </tr>\n",
       "    <tr>\n",
       "      <th>2</th>\n",
       "      <td>18-Jul-20</td>\n",
       "      <td>Five key areas Sunak must tackle to serve up e...</td>\n",
       "    </tr>\n",
       "    <tr>\n",
       "      <th>3</th>\n",
       "      <td>18-Jul-20</td>\n",
       "      <td>Covid-19 leaves firms ‘fatally ill-prepared’ f...</td>\n",
       "    </tr>\n",
       "    <tr>\n",
       "      <th>4</th>\n",
       "      <td>18-Jul-20</td>\n",
       "      <td>The Week in Patriarchy  \\n\\n\\n  Bacardi's 'lad...</td>\n",
       "    </tr>\n",
       "    <tr>\n",
       "      <th>...</th>\n",
       "      <td>...</td>\n",
       "      <td>...</td>\n",
       "    </tr>\n",
       "    <tr>\n",
       "      <th>17795</th>\n",
       "      <td>17-Dec-17</td>\n",
       "      <td>How investing in solar energy can create a bri...</td>\n",
       "    </tr>\n",
       "    <tr>\n",
       "      <th>17796</th>\n",
       "      <td>17-Dec-17</td>\n",
       "      <td>Poundland suppliers hit by insurance downgrade</td>\n",
       "    </tr>\n",
       "    <tr>\n",
       "      <th>17797</th>\n",
       "      <td>17-Dec-17</td>\n",
       "      <td>Cryptocurrencies: City watchdog to investigate...</td>\n",
       "    </tr>\n",
       "    <tr>\n",
       "      <th>17798</th>\n",
       "      <td>17-Dec-17</td>\n",
       "      <td>Unilever sells household name spreads to KKR f...</td>\n",
       "    </tr>\n",
       "    <tr>\n",
       "      <th>17799</th>\n",
       "      <td>17-Dec-17</td>\n",
       "      <td>The Guardian view on Ryanair’s model: a union-...</td>\n",
       "    </tr>\n",
       "  </tbody>\n",
       "</table>\n",
       "<p>17800 rows × 2 columns</p>\n",
       "</div>"
      ],
      "text/plain": [
       "            Time                                               Info\n",
       "0      18-Jul-20   Johnson is asking Santa for a Christmas recovery\n",
       "1      18-Jul-20  ‘I now fear the worst’: four grim tales of wor...\n",
       "2      18-Jul-20  Five key areas Sunak must tackle to serve up e...\n",
       "3      18-Jul-20  Covid-19 leaves firms ‘fatally ill-prepared’ f...\n",
       "4      18-Jul-20  The Week in Patriarchy  \\n\\n\\n  Bacardi's 'lad...\n",
       "...          ...                                                ...\n",
       "17795  17-Dec-17  How investing in solar energy can create a bri...\n",
       "17796  17-Dec-17     Poundland suppliers hit by insurance downgrade\n",
       "17797  17-Dec-17  Cryptocurrencies: City watchdog to investigate...\n",
       "17798  17-Dec-17  Unilever sells household name spreads to KKR f...\n",
       "17799  17-Dec-17  The Guardian view on Ryanair’s model: a union-...\n",
       "\n",
       "[17800 rows x 2 columns]"
      ]
     },
     "execution_count": 54,
     "metadata": {},
     "output_type": "execute_result"
    }
   ],
   "source": [
    "df_gd.columns = ['Time', 'Info']\n",
    "df_gd"
   ]
  },
  {
   "cell_type": "code",
   "execution_count": 55,
   "metadata": {
    "scrolled": true
   },
   "outputs": [
    {
     "data": {
      "text/html": [
       "<div>\n",
       "<style scoped>\n",
       "    .dataframe tbody tr th:only-of-type {\n",
       "        vertical-align: middle;\n",
       "    }\n",
       "\n",
       "    .dataframe tbody tr th {\n",
       "        vertical-align: top;\n",
       "    }\n",
       "\n",
       "    .dataframe thead th {\n",
       "        text-align: right;\n",
       "    }\n",
       "</style>\n",
       "<table border=\"1\" class=\"dataframe\">\n",
       "  <thead>\n",
       "    <tr style=\"text-align: right;\">\n",
       "      <th></th>\n",
       "      <th>Headlines</th>\n",
       "      <th>Time</th>\n",
       "      <th>Description</th>\n",
       "    </tr>\n",
       "  </thead>\n",
       "  <tbody>\n",
       "    <tr>\n",
       "      <th>0</th>\n",
       "      <td>TikTok considers London and other locations fo...</td>\n",
       "      <td>Jul 18 2020</td>\n",
       "      <td>TikTok has been in discussions with the UK gov...</td>\n",
       "    </tr>\n",
       "    <tr>\n",
       "      <th>1</th>\n",
       "      <td>Disney cuts ad spending on Facebook amid growi...</td>\n",
       "      <td>Jul 18 2020</td>\n",
       "      <td>Walt Disney  has become the latest company to ...</td>\n",
       "    </tr>\n",
       "    <tr>\n",
       "      <th>2</th>\n",
       "      <td>Trail of missing Wirecard executive leads to B...</td>\n",
       "      <td>Jul 18 2020</td>\n",
       "      <td>Former Wirecard  chief operating officer Jan M...</td>\n",
       "    </tr>\n",
       "    <tr>\n",
       "      <th>3</th>\n",
       "      <td>Twitter says attackers downloaded data from up...</td>\n",
       "      <td>Jul 18 2020</td>\n",
       "      <td>Twitter Inc said on Saturday that hackers were...</td>\n",
       "    </tr>\n",
       "    <tr>\n",
       "      <th>4</th>\n",
       "      <td>U.S. Republicans seek liability protections as...</td>\n",
       "      <td>Jul 17 2020</td>\n",
       "      <td>A battle in the U.S. Congress over a new coron...</td>\n",
       "    </tr>\n",
       "    <tr>\n",
       "      <th>...</th>\n",
       "      <td>...</td>\n",
       "      <td>...</td>\n",
       "      <td>...</td>\n",
       "    </tr>\n",
       "    <tr>\n",
       "      <th>32765</th>\n",
       "      <td>Malaysia says never hired British data firm at...</td>\n",
       "      <td>Mar 20 2018</td>\n",
       "      <td>The Malaysian government and the ruling party ...</td>\n",
       "    </tr>\n",
       "    <tr>\n",
       "      <th>32766</th>\n",
       "      <td>Prosecutors search Volkswagen headquarters in ...</td>\n",
       "      <td>Mar 20 2018</td>\n",
       "      <td>German prosecutors said on Tuesday they had se...</td>\n",
       "    </tr>\n",
       "    <tr>\n",
       "      <th>32767</th>\n",
       "      <td>McDonald's sets greenhouse gas reduction targets</td>\n",
       "      <td>Mar 20 2018</td>\n",
       "      <td>McDonald's Corp on Tuesday announced an approv...</td>\n",
       "    </tr>\n",
       "    <tr>\n",
       "      <th>32768</th>\n",
       "      <td>Pratt &amp; Whitney to deliver spare A320neo engin...</td>\n",
       "      <td>Mar 20 2018</td>\n",
       "      <td>Pratt &amp; Whitney will soon begin deliveries of ...</td>\n",
       "    </tr>\n",
       "    <tr>\n",
       "      <th>32769</th>\n",
       "      <td>UK will always consider ways to improve data l...</td>\n",
       "      <td>Mar 20 2018</td>\n",
       "      <td>Britain will consider any suggestions to give ...</td>\n",
       "    </tr>\n",
       "  </tbody>\n",
       "</table>\n",
       "<p>32715 rows × 3 columns</p>\n",
       "</div>"
      ],
      "text/plain": [
       "                                               Headlines         Time  \\\n",
       "0      TikTok considers London and other locations fo...  Jul 18 2020   \n",
       "1      Disney cuts ad spending on Facebook amid growi...  Jul 18 2020   \n",
       "2      Trail of missing Wirecard executive leads to B...  Jul 18 2020   \n",
       "3      Twitter says attackers downloaded data from up...  Jul 18 2020   \n",
       "4      U.S. Republicans seek liability protections as...  Jul 17 2020   \n",
       "...                                                  ...          ...   \n",
       "32765  Malaysia says never hired British data firm at...  Mar 20 2018   \n",
       "32766  Prosecutors search Volkswagen headquarters in ...  Mar 20 2018   \n",
       "32767   McDonald's sets greenhouse gas reduction targets  Mar 20 2018   \n",
       "32768  Pratt & Whitney to deliver spare A320neo engin...  Mar 20 2018   \n",
       "32769  UK will always consider ways to improve data l...  Mar 20 2018   \n",
       "\n",
       "                                             Description  \n",
       "0      TikTok has been in discussions with the UK gov...  \n",
       "1      Walt Disney  has become the latest company to ...  \n",
       "2      Former Wirecard  chief operating officer Jan M...  \n",
       "3      Twitter Inc said on Saturday that hackers were...  \n",
       "4      A battle in the U.S. Congress over a new coron...  \n",
       "...                                                  ...  \n",
       "32765  The Malaysian government and the ruling party ...  \n",
       "32766  German prosecutors said on Tuesday they had se...  \n",
       "32767  McDonald's Corp on Tuesday announced an approv...  \n",
       "32768  Pratt & Whitney will soon begin deliveries of ...  \n",
       "32769  Britain will consider any suggestions to give ...  \n",
       "\n",
       "[32715 rows x 3 columns]"
      ]
     },
     "execution_count": 55,
     "metadata": {},
     "output_type": "execute_result"
    }
   ],
   "source": [
    "df_r"
   ]
  },
  {
   "cell_type": "code",
   "execution_count": 56,
   "metadata": {},
   "outputs": [
    {
     "data": {
      "text/html": [
       "<div>\n",
       "<style scoped>\n",
       "    .dataframe tbody tr th:only-of-type {\n",
       "        vertical-align: middle;\n",
       "    }\n",
       "\n",
       "    .dataframe tbody tr th {\n",
       "        vertical-align: top;\n",
       "    }\n",
       "\n",
       "    .dataframe thead th {\n",
       "        text-align: right;\n",
       "    }\n",
       "</style>\n",
       "<table border=\"1\" class=\"dataframe\">\n",
       "  <thead>\n",
       "    <tr style=\"text-align: right;\">\n",
       "      <th></th>\n",
       "      <th>Time</th>\n",
       "      <th>Info</th>\n",
       "    </tr>\n",
       "  </thead>\n",
       "  <tbody>\n",
       "    <tr>\n",
       "      <th>0</th>\n",
       "      <td>Jul 18 2020</td>\n",
       "      <td>TikTok considers London and other locations fo...</td>\n",
       "    </tr>\n",
       "    <tr>\n",
       "      <th>1</th>\n",
       "      <td>Jul 18 2020</td>\n",
       "      <td>Disney cuts ad spending on Facebook amid growi...</td>\n",
       "    </tr>\n",
       "    <tr>\n",
       "      <th>2</th>\n",
       "      <td>Jul 18 2020</td>\n",
       "      <td>Trail of missing Wirecard executive leads to B...</td>\n",
       "    </tr>\n",
       "    <tr>\n",
       "      <th>3</th>\n",
       "      <td>Jul 18 2020</td>\n",
       "      <td>Twitter says attackers downloaded data from up...</td>\n",
       "    </tr>\n",
       "    <tr>\n",
       "      <th>4</th>\n",
       "      <td>Jul 17 2020</td>\n",
       "      <td>U.S. Republicans seek liability protections as...</td>\n",
       "    </tr>\n",
       "    <tr>\n",
       "      <th>...</th>\n",
       "      <td>...</td>\n",
       "      <td>...</td>\n",
       "    </tr>\n",
       "    <tr>\n",
       "      <th>32765</th>\n",
       "      <td>Mar 20 2018</td>\n",
       "      <td>Malaysia says never hired British data firm at...</td>\n",
       "    </tr>\n",
       "    <tr>\n",
       "      <th>32766</th>\n",
       "      <td>Mar 20 2018</td>\n",
       "      <td>Prosecutors search Volkswagen headquarters in ...</td>\n",
       "    </tr>\n",
       "    <tr>\n",
       "      <th>32767</th>\n",
       "      <td>Mar 20 2018</td>\n",
       "      <td>McDonald's sets greenhouse gas reduction targe...</td>\n",
       "    </tr>\n",
       "    <tr>\n",
       "      <th>32768</th>\n",
       "      <td>Mar 20 2018</td>\n",
       "      <td>Pratt &amp; Whitney to deliver spare A320neo engin...</td>\n",
       "    </tr>\n",
       "    <tr>\n",
       "      <th>32769</th>\n",
       "      <td>Mar 20 2018</td>\n",
       "      <td>UK will always consider ways to improve data l...</td>\n",
       "    </tr>\n",
       "  </tbody>\n",
       "</table>\n",
       "<p>32715 rows × 2 columns</p>\n",
       "</div>"
      ],
      "text/plain": [
       "              Time                                               Info\n",
       "0      Jul 18 2020  TikTok considers London and other locations fo...\n",
       "1      Jul 18 2020  Disney cuts ad spending on Facebook amid growi...\n",
       "2      Jul 18 2020  Trail of missing Wirecard executive leads to B...\n",
       "3      Jul 18 2020  Twitter says attackers downloaded data from up...\n",
       "4      Jul 17 2020  U.S. Republicans seek liability protections as...\n",
       "...            ...                                                ...\n",
       "32765  Mar 20 2018  Malaysia says never hired British data firm at...\n",
       "32766  Mar 20 2018  Prosecutors search Volkswagen headquarters in ...\n",
       "32767  Mar 20 2018  McDonald's sets greenhouse gas reduction targe...\n",
       "32768  Mar 20 2018  Pratt & Whitney to deliver spare A320neo engin...\n",
       "32769  Mar 20 2018  UK will always consider ways to improve data l...\n",
       "\n",
       "[32715 rows x 2 columns]"
      ]
     },
     "execution_count": 56,
     "metadata": {},
     "output_type": "execute_result"
    }
   ],
   "source": [
    "df_r['Info'] = df_r['Headlines']+df_r['Description']\n",
    "df_r = df_r.drop(['Headlines', 'Description'], axis = 1)\n",
    "df_r"
   ]
  },
  {
   "cell_type": "markdown",
   "metadata": {
    "id": "LcDOjy2MfkG2"
   },
   "source": [
    "# Now working with headlines + description"
   ]
  },
  {
   "cell_type": "code",
   "execution_count": 57,
   "metadata": {
    "colab": {
     "base_uri": "https://localhost:8080/",
     "height": 202
    },
    "id": "HOSweU4mzTgq",
    "outputId": "ad66fc23-e9f7-473c-d7bb-5520937d7698"
   },
   "outputs": [
    {
     "data": {
      "text/html": [
       "<div>\n",
       "<style scoped>\n",
       "    .dataframe tbody tr th:only-of-type {\n",
       "        vertical-align: middle;\n",
       "    }\n",
       "\n",
       "    .dataframe tbody tr th {\n",
       "        vertical-align: top;\n",
       "    }\n",
       "\n",
       "    .dataframe thead th {\n",
       "        text-align: right;\n",
       "    }\n",
       "</style>\n",
       "<table border=\"1\" class=\"dataframe\">\n",
       "  <thead>\n",
       "    <tr style=\"text-align: right;\">\n",
       "      <th></th>\n",
       "      <th>Time</th>\n",
       "      <th>Info</th>\n",
       "    </tr>\n",
       "  </thead>\n",
       "  <tbody>\n",
       "    <tr>\n",
       "      <th>0</th>\n",
       "      <td>7:51  PM ET Fri, 17 July 2020</td>\n",
       "      <td>Jim Cramer: A better way to invest in the Covi...</td>\n",
       "    </tr>\n",
       "    <tr>\n",
       "      <th>1</th>\n",
       "      <td>7:33  PM ET Fri, 17 July 2020</td>\n",
       "      <td>Cramer's lightning round: I would own Teradyne...</td>\n",
       "    </tr>\n",
       "    <tr>\n",
       "      <th>3</th>\n",
       "      <td>7:25  PM ET Fri, 17 July 2020</td>\n",
       "      <td>Cramer's week ahead: Big week for earnings, ev...</td>\n",
       "    </tr>\n",
       "    <tr>\n",
       "      <th>4</th>\n",
       "      <td>4:24  PM ET Fri, 17 July 2020</td>\n",
       "      <td>IQ Capital CEO Keith Bliss says tech and healt...</td>\n",
       "    </tr>\n",
       "    <tr>\n",
       "      <th>5</th>\n",
       "      <td>7:36  PM ET Thu, 16 July 2020</td>\n",
       "      <td>Wall Street delivered the 'kind of pullback I'...</td>\n",
       "    </tr>\n",
       "    <tr>\n",
       "      <th>...</th>\n",
       "      <td>...</td>\n",
       "      <td>...</td>\n",
       "    </tr>\n",
       "    <tr>\n",
       "      <th>3075</th>\n",
       "      <td>10:15  AM ET Tue, 26 Dec 2017</td>\n",
       "      <td>Markets lack Christmas cheerAccording to Kensh...</td>\n",
       "    </tr>\n",
       "    <tr>\n",
       "      <th>3076</th>\n",
       "      <td>11:12  AM ET Thu, 20 Sept 2018</td>\n",
       "      <td>Cramer Remix: The biggest mistake you can make...</td>\n",
       "    </tr>\n",
       "    <tr>\n",
       "      <th>3077</th>\n",
       "      <td>7:07  PM ET Fri, 22 Dec 2017</td>\n",
       "      <td>Cramer says owning too many stocks and too lit...</td>\n",
       "    </tr>\n",
       "    <tr>\n",
       "      <th>3078</th>\n",
       "      <td>7:07  PM ET Fri, 22 Dec 2017</td>\n",
       "      <td>Cramer: I helped investors through the 2010 fl...</td>\n",
       "    </tr>\n",
       "    <tr>\n",
       "      <th>3079</th>\n",
       "      <td>6:52  PM ET Fri, 22 Dec 2017</td>\n",
       "      <td>Cramer: Never buy a stock all at once — you'll...</td>\n",
       "    </tr>\n",
       "  </tbody>\n",
       "</table>\n",
       "<p>2800 rows × 2 columns</p>\n",
       "</div>"
      ],
      "text/plain": [
       "                                Time  \\\n",
       "0      7:51  PM ET Fri, 17 July 2020   \n",
       "1      7:33  PM ET Fri, 17 July 2020   \n",
       "3      7:25  PM ET Fri, 17 July 2020   \n",
       "4      4:24  PM ET Fri, 17 July 2020   \n",
       "5      7:36  PM ET Thu, 16 July 2020   \n",
       "...                              ...   \n",
       "3075   10:15  AM ET Tue, 26 Dec 2017   \n",
       "3076  11:12  AM ET Thu, 20 Sept 2018   \n",
       "3077    7:07  PM ET Fri, 22 Dec 2017   \n",
       "3078    7:07  PM ET Fri, 22 Dec 2017   \n",
       "3079    6:52  PM ET Fri, 22 Dec 2017   \n",
       "\n",
       "                                                   Info  \n",
       "0     Jim Cramer: A better way to invest in the Covi...  \n",
       "1     Cramer's lightning round: I would own Teradyne...  \n",
       "3     Cramer's week ahead: Big week for earnings, ev...  \n",
       "4     IQ Capital CEO Keith Bliss says tech and healt...  \n",
       "5     Wall Street delivered the 'kind of pullback I'...  \n",
       "...                                                 ...  \n",
       "3075  Markets lack Christmas cheerAccording to Kensh...  \n",
       "3076  Cramer Remix: The biggest mistake you can make...  \n",
       "3077  Cramer says owning too many stocks and too lit...  \n",
       "3078  Cramer: I helped investors through the 2010 fl...  \n",
       "3079  Cramer: Never buy a stock all at once — you'll...  \n",
       "\n",
       "[2800 rows x 2 columns]"
      ]
     },
     "execution_count": 57,
     "metadata": {},
     "output_type": "execute_result"
    }
   ],
   "source": [
    "# merge headlines and description of new dataset and name it info\n",
    "df_cnbc['Info'] = df_cnbc['Headlines']+df_cnbc['Description']\n",
    "df_cnbc = df_cnbc.drop(['Headlines', 'Description'], axis = 1)\n",
    "df_cnbc"
   ]
  },
  {
   "cell_type": "code",
   "execution_count": 58,
   "metadata": {
    "colab": {
     "base_uri": "https://localhost:8080/",
     "height": 202
    },
    "id": "_ZTFzLcGzTb3",
    "outputId": "afd1bcb2-1616-46f3-9099-e3c48f246d50",
    "scrolled": true
   },
   "outputs": [
    {
     "data": {
      "text/html": [
       "<div>\n",
       "<style scoped>\n",
       "    .dataframe tbody tr th:only-of-type {\n",
       "        vertical-align: middle;\n",
       "    }\n",
       "\n",
       "    .dataframe tbody tr th {\n",
       "        vertical-align: top;\n",
       "    }\n",
       "\n",
       "    .dataframe thead th {\n",
       "        text-align: right;\n",
       "    }\n",
       "</style>\n",
       "<table border=\"1\" class=\"dataframe\">\n",
       "  <thead>\n",
       "    <tr style=\"text-align: right;\">\n",
       "      <th></th>\n",
       "      <th>Time</th>\n",
       "      <th>Info</th>\n",
       "    </tr>\n",
       "  </thead>\n",
       "  <tbody>\n",
       "    <tr>\n",
       "      <th>0</th>\n",
       "      <td>7:51  PM ET Fri, 17 July 2020</td>\n",
       "      <td>Jim Cramer: A better way to invest in the Covi...</td>\n",
       "    </tr>\n",
       "    <tr>\n",
       "      <th>1</th>\n",
       "      <td>7:33  PM ET Fri, 17 July 2020</td>\n",
       "      <td>Cramer's lightning round: I would own Teradyne...</td>\n",
       "    </tr>\n",
       "    <tr>\n",
       "      <th>3</th>\n",
       "      <td>7:25  PM ET Fri, 17 July 2020</td>\n",
       "      <td>Cramer's week ahead: Big week for earnings, ev...</td>\n",
       "    </tr>\n",
       "    <tr>\n",
       "      <th>4</th>\n",
       "      <td>4:24  PM ET Fri, 17 July 2020</td>\n",
       "      <td>IQ Capital CEO Keith Bliss says tech and healt...</td>\n",
       "    </tr>\n",
       "    <tr>\n",
       "      <th>5</th>\n",
       "      <td>7:36  PM ET Thu, 16 July 2020</td>\n",
       "      <td>Wall Street delivered the 'kind of pullback I'...</td>\n",
       "    </tr>\n",
       "    <tr>\n",
       "      <th>...</th>\n",
       "      <td>...</td>\n",
       "      <td>...</td>\n",
       "    </tr>\n",
       "    <tr>\n",
       "      <th>17795</th>\n",
       "      <td>17-Dec-17</td>\n",
       "      <td>How investing in solar energy can create a bri...</td>\n",
       "    </tr>\n",
       "    <tr>\n",
       "      <th>17796</th>\n",
       "      <td>17-Dec-17</td>\n",
       "      <td>Poundland suppliers hit by insurance downgrade</td>\n",
       "    </tr>\n",
       "    <tr>\n",
       "      <th>17797</th>\n",
       "      <td>17-Dec-17</td>\n",
       "      <td>Cryptocurrencies: City watchdog to investigate...</td>\n",
       "    </tr>\n",
       "    <tr>\n",
       "      <th>17798</th>\n",
       "      <td>17-Dec-17</td>\n",
       "      <td>Unilever sells household name spreads to KKR f...</td>\n",
       "    </tr>\n",
       "    <tr>\n",
       "      <th>17799</th>\n",
       "      <td>17-Dec-17</td>\n",
       "      <td>The Guardian view on Ryanair’s model: a union-...</td>\n",
       "    </tr>\n",
       "  </tbody>\n",
       "</table>\n",
       "<p>53315 rows × 2 columns</p>\n",
       "</div>"
      ],
      "text/plain": [
       "                                 Time  \\\n",
       "0       7:51  PM ET Fri, 17 July 2020   \n",
       "1       7:33  PM ET Fri, 17 July 2020   \n",
       "3       7:25  PM ET Fri, 17 July 2020   \n",
       "4       4:24  PM ET Fri, 17 July 2020   \n",
       "5       7:36  PM ET Thu, 16 July 2020   \n",
       "...                               ...   \n",
       "17795                       17-Dec-17   \n",
       "17796                       17-Dec-17   \n",
       "17797                       17-Dec-17   \n",
       "17798                       17-Dec-17   \n",
       "17799                       17-Dec-17   \n",
       "\n",
       "                                                    Info  \n",
       "0      Jim Cramer: A better way to invest in the Covi...  \n",
       "1      Cramer's lightning round: I would own Teradyne...  \n",
       "3      Cramer's week ahead: Big week for earnings, ev...  \n",
       "4      IQ Capital CEO Keith Bliss says tech and healt...  \n",
       "5      Wall Street delivered the 'kind of pullback I'...  \n",
       "...                                                  ...  \n",
       "17795  How investing in solar energy can create a bri...  \n",
       "17796     Poundland suppliers hit by insurance downgrade  \n",
       "17797  Cryptocurrencies: City watchdog to investigate...  \n",
       "17798  Unilever sells household name spreads to KKR f...  \n",
       "17799  The Guardian view on Ryanair’s model: a union-...  \n",
       "\n",
       "[53315 rows x 2 columns]"
      ]
     },
     "execution_count": 58,
     "metadata": {},
     "output_type": "execute_result"
    }
   ],
   "source": [
    "# only keep info and time column . drop all remaining columns\n",
    "df_new = pd.concat([df_cnbc, df_r, df_gd], axis = 0)\n",
    "df_new"
   ]
  },
  {
   "cell_type": "code",
   "execution_count": 59,
   "metadata": {},
   "outputs": [
    {
     "data": {
      "text/html": [
       "<div>\n",
       "<style scoped>\n",
       "    .dataframe tbody tr th:only-of-type {\n",
       "        vertical-align: middle;\n",
       "    }\n",
       "\n",
       "    .dataframe tbody tr th {\n",
       "        vertical-align: top;\n",
       "    }\n",
       "\n",
       "    .dataframe thead th {\n",
       "        text-align: right;\n",
       "    }\n",
       "</style>\n",
       "<table border=\"1\" class=\"dataframe\">\n",
       "  <thead>\n",
       "    <tr style=\"text-align: right;\">\n",
       "      <th></th>\n",
       "      <th>Time</th>\n",
       "      <th>Info</th>\n",
       "    </tr>\n",
       "  </thead>\n",
       "  <tbody>\n",
       "    <tr>\n",
       "      <th>0</th>\n",
       "      <td>7:51  PM ET Fri, 17 July 2020</td>\n",
       "      <td>Jim Cramer: A better way to invest in the Covi...</td>\n",
       "    </tr>\n",
       "    <tr>\n",
       "      <th>1</th>\n",
       "      <td>7:33  PM ET Fri, 17 July 2020</td>\n",
       "      <td>Cramer's lightning round: I would own Teradyne...</td>\n",
       "    </tr>\n",
       "    <tr>\n",
       "      <th>2</th>\n",
       "      <td>7:25  PM ET Fri, 17 July 2020</td>\n",
       "      <td>Cramer's week ahead: Big week for earnings, ev...</td>\n",
       "    </tr>\n",
       "    <tr>\n",
       "      <th>3</th>\n",
       "      <td>4:24  PM ET Fri, 17 July 2020</td>\n",
       "      <td>IQ Capital CEO Keith Bliss says tech and healt...</td>\n",
       "    </tr>\n",
       "    <tr>\n",
       "      <th>4</th>\n",
       "      <td>7:36  PM ET Thu, 16 July 2020</td>\n",
       "      <td>Wall Street delivered the 'kind of pullback I'...</td>\n",
       "    </tr>\n",
       "    <tr>\n",
       "      <th>...</th>\n",
       "      <td>...</td>\n",
       "      <td>...</td>\n",
       "    </tr>\n",
       "    <tr>\n",
       "      <th>53310</th>\n",
       "      <td>17-Dec-17</td>\n",
       "      <td>How investing in solar energy can create a bri...</td>\n",
       "    </tr>\n",
       "    <tr>\n",
       "      <th>53311</th>\n",
       "      <td>17-Dec-17</td>\n",
       "      <td>Poundland suppliers hit by insurance downgrade</td>\n",
       "    </tr>\n",
       "    <tr>\n",
       "      <th>53312</th>\n",
       "      <td>17-Dec-17</td>\n",
       "      <td>Cryptocurrencies: City watchdog to investigate...</td>\n",
       "    </tr>\n",
       "    <tr>\n",
       "      <th>53313</th>\n",
       "      <td>17-Dec-17</td>\n",
       "      <td>Unilever sells household name spreads to KKR f...</td>\n",
       "    </tr>\n",
       "    <tr>\n",
       "      <th>53314</th>\n",
       "      <td>17-Dec-17</td>\n",
       "      <td>The Guardian view on Ryanair’s model: a union-...</td>\n",
       "    </tr>\n",
       "  </tbody>\n",
       "</table>\n",
       "<p>53315 rows × 2 columns</p>\n",
       "</div>"
      ],
      "text/plain": [
       "                                 Time  \\\n",
       "0       7:51  PM ET Fri, 17 July 2020   \n",
       "1       7:33  PM ET Fri, 17 July 2020   \n",
       "2       7:25  PM ET Fri, 17 July 2020   \n",
       "3       4:24  PM ET Fri, 17 July 2020   \n",
       "4       7:36  PM ET Thu, 16 July 2020   \n",
       "...                               ...   \n",
       "53310                       17-Dec-17   \n",
       "53311                       17-Dec-17   \n",
       "53312                       17-Dec-17   \n",
       "53313                       17-Dec-17   \n",
       "53314                       17-Dec-17   \n",
       "\n",
       "                                                    Info  \n",
       "0      Jim Cramer: A better way to invest in the Covi...  \n",
       "1      Cramer's lightning round: I would own Teradyne...  \n",
       "2      Cramer's week ahead: Big week for earnings, ev...  \n",
       "3      IQ Capital CEO Keith Bliss says tech and healt...  \n",
       "4      Wall Street delivered the 'kind of pullback I'...  \n",
       "...                                                  ...  \n",
       "53310  How investing in solar energy can create a bri...  \n",
       "53311     Poundland suppliers hit by insurance downgrade  \n",
       "53312  Cryptocurrencies: City watchdog to investigate...  \n",
       "53313  Unilever sells household name spreads to KKR f...  \n",
       "53314  The Guardian view on Ryanair’s model: a union-...  \n",
       "\n",
       "[53315 rows x 2 columns]"
      ]
     },
     "execution_count": 59,
     "metadata": {},
     "output_type": "execute_result"
    }
   ],
   "source": [
    "df_new = df_new.reset_index()\n",
    "df_new = df_new.drop('index', axis = 1)\n",
    "df_new"
   ]
  },
  {
   "cell_type": "code",
   "execution_count": 60,
   "metadata": {
    "colab": {
     "base_uri": "https://localhost:8080/",
     "height": 662
    },
    "id": "iMOW0ljOzTaN",
    "outputId": "751af887-0be3-45e1-d2cf-8e503b6a9783"
   },
   "outputs": [
    {
     "data": {
      "text/html": [
       "<div>\n",
       "<style scoped>\n",
       "    .dataframe tbody tr th:only-of-type {\n",
       "        vertical-align: middle;\n",
       "    }\n",
       "\n",
       "    .dataframe tbody tr th {\n",
       "        vertical-align: top;\n",
       "    }\n",
       "\n",
       "    .dataframe thead th {\n",
       "        text-align: right;\n",
       "    }\n",
       "</style>\n",
       "<table border=\"1\" class=\"dataframe\">\n",
       "  <thead>\n",
       "    <tr style=\"text-align: right;\">\n",
       "      <th></th>\n",
       "      <th>Time</th>\n",
       "      <th>Info</th>\n",
       "    </tr>\n",
       "  </thead>\n",
       "  <tbody>\n",
       "    <tr>\n",
       "      <th>0</th>\n",
       "      <td>7:51  PM ET Fri, 17 July 2020</td>\n",
       "      <td>jim cramer better way invest covid 19 vaccine ...</td>\n",
       "    </tr>\n",
       "    <tr>\n",
       "      <th>1</th>\n",
       "      <td>7:33  PM ET Fri, 17 July 2020</td>\n",
       "      <td>cramer lightning round would teradyne mad mone...</td>\n",
       "    </tr>\n",
       "    <tr>\n",
       "      <th>2</th>\n",
       "      <td>7:25  PM ET Fri, 17 July 2020</td>\n",
       "      <td>cramer week ahead big week earnings even bigge...</td>\n",
       "    </tr>\n",
       "    <tr>\n",
       "      <th>3</th>\n",
       "      <td>4:24  PM ET Fri, 17 July 2020</td>\n",
       "      <td>iq capital ceo keith bliss say tech healthcare...</td>\n",
       "    </tr>\n",
       "    <tr>\n",
       "      <th>4</th>\n",
       "      <td>7:36  PM ET Thu, 16 July 2020</td>\n",
       "      <td>wall street delivered kind pullback waiting ji...</td>\n",
       "    </tr>\n",
       "    <tr>\n",
       "      <th>...</th>\n",
       "      <td>...</td>\n",
       "      <td>...</td>\n",
       "    </tr>\n",
       "    <tr>\n",
       "      <th>53310</th>\n",
       "      <td>17-Dec-17</td>\n",
       "      <td>investing solar energy create brighter future ...</td>\n",
       "    </tr>\n",
       "    <tr>\n",
       "      <th>53311</th>\n",
       "      <td>17-Dec-17</td>\n",
       "      <td>poundland supplier hit insurance downgrad</td>\n",
       "    </tr>\n",
       "    <tr>\n",
       "      <th>53312</th>\n",
       "      <td>17-Dec-17</td>\n",
       "      <td>cryptocurrencies city watchdog investigate new...</td>\n",
       "    </tr>\n",
       "    <tr>\n",
       "      <th>53313</th>\n",
       "      <td>17-Dec-17</td>\n",
       "      <td>unilever sell household name spread kkr 6bn</td>\n",
       "    </tr>\n",
       "    <tr>\n",
       "      <th>53314</th>\n",
       "      <td>17-Dec-17</td>\n",
       "      <td>guardian view ryanair model union friendly com...</td>\n",
       "    </tr>\n",
       "  </tbody>\n",
       "</table>\n",
       "<p>53315 rows × 2 columns</p>\n",
       "</div>"
      ],
      "text/plain": [
       "                                 Time  \\\n",
       "0       7:51  PM ET Fri, 17 July 2020   \n",
       "1       7:33  PM ET Fri, 17 July 2020   \n",
       "2       7:25  PM ET Fri, 17 July 2020   \n",
       "3       4:24  PM ET Fri, 17 July 2020   \n",
       "4       7:36  PM ET Thu, 16 July 2020   \n",
       "...                               ...   \n",
       "53310                       17-Dec-17   \n",
       "53311                       17-Dec-17   \n",
       "53312                       17-Dec-17   \n",
       "53313                       17-Dec-17   \n",
       "53314                       17-Dec-17   \n",
       "\n",
       "                                                    Info  \n",
       "0      jim cramer better way invest covid 19 vaccine ...  \n",
       "1      cramer lightning round would teradyne mad mone...  \n",
       "2      cramer week ahead big week earnings even bigge...  \n",
       "3      iq capital ceo keith bliss say tech healthcare...  \n",
       "4      wall street delivered kind pullback waiting ji...  \n",
       "...                                                  ...  \n",
       "53310  investing solar energy create brighter future ...  \n",
       "53311          poundland supplier hit insurance downgrad  \n",
       "53312  cryptocurrencies city watchdog investigate new...  \n",
       "53313        unilever sell household name spread kkr 6bn  \n",
       "53314  guardian view ryanair model union friendly com...  \n",
       "\n",
       "[53315 rows x 2 columns]"
      ]
     },
     "execution_count": 60,
     "metadata": {},
     "output_type": "execute_result"
    }
   ],
   "source": [
    "# apply preprocessing on info column\n",
    "df_new['Info'] = df_new['Info'].apply(lambda x: SentimentPreprocessing(x))\n",
    "df_new"
   ]
  },
  {
   "cell_type": "code",
   "execution_count": 61,
   "metadata": {
    "colab": {
     "base_uri": "https://localhost:8080/",
     "height": 414
    },
    "id": "Bww_M5RQzTXm",
    "outputId": "0c392b14-3bc2-4766-f51b-b14e3716638e"
   },
   "outputs": [],
   "source": [
    "# analyze polarity score of values in info and  add new column of it in dataset\n",
    "df_new['polarity score'] = df_new['Info'].apply(lambda x:SentimentDecision(x))"
   ]
  },
  {
   "cell_type": "code",
   "execution_count": 62,
   "metadata": {
    "colab": {
     "base_uri": "https://localhost:8080/",
     "height": 414
    },
    "id": "duwvemaLzTWh",
    "outputId": "f771aff0-a319-4c10-ce87-0f1088063d82"
   },
   "outputs": [
    {
     "data": {
      "text/html": [
       "<div>\n",
       "<style scoped>\n",
       "    .dataframe tbody tr th:only-of-type {\n",
       "        vertical-align: middle;\n",
       "    }\n",
       "\n",
       "    .dataframe tbody tr th {\n",
       "        vertical-align: top;\n",
       "    }\n",
       "\n",
       "    .dataframe thead th {\n",
       "        text-align: right;\n",
       "    }\n",
       "</style>\n",
       "<table border=\"1\" class=\"dataframe\">\n",
       "  <thead>\n",
       "    <tr style=\"text-align: right;\">\n",
       "      <th></th>\n",
       "      <th>Time</th>\n",
       "      <th>Info</th>\n",
       "      <th>polarity score</th>\n",
       "    </tr>\n",
       "  </thead>\n",
       "  <tbody>\n",
       "    <tr>\n",
       "      <th>0</th>\n",
       "      <td>7:51  PM ET Fri, 17 July 2020</td>\n",
       "      <td>jim cramer better way invest covid 19 vaccine ...</td>\n",
       "      <td>Positive</td>\n",
       "    </tr>\n",
       "    <tr>\n",
       "      <th>1</th>\n",
       "      <td>7:33  PM ET Fri, 17 July 2020</td>\n",
       "      <td>cramer lightning round would teradyne mad mone...</td>\n",
       "      <td>Negative</td>\n",
       "    </tr>\n",
       "    <tr>\n",
       "      <th>2</th>\n",
       "      <td>7:25  PM ET Fri, 17 July 2020</td>\n",
       "      <td>cramer week ahead big week earnings even bigge...</td>\n",
       "      <td>Positive</td>\n",
       "    </tr>\n",
       "    <tr>\n",
       "      <th>3</th>\n",
       "      <td>4:24  PM ET Fri, 17 July 2020</td>\n",
       "      <td>iq capital ceo keith bliss say tech healthcare...</td>\n",
       "      <td>Positive</td>\n",
       "    </tr>\n",
       "    <tr>\n",
       "      <th>4</th>\n",
       "      <td>7:36  PM ET Thu, 16 July 2020</td>\n",
       "      <td>wall street delivered kind pullback waiting ji...</td>\n",
       "      <td>Negative</td>\n",
       "    </tr>\n",
       "    <tr>\n",
       "      <th>...</th>\n",
       "      <td>...</td>\n",
       "      <td>...</td>\n",
       "      <td>...</td>\n",
       "    </tr>\n",
       "    <tr>\n",
       "      <th>53310</th>\n",
       "      <td>17-Dec-17</td>\n",
       "      <td>investing solar energy create brighter future ...</td>\n",
       "      <td>Positive</td>\n",
       "    </tr>\n",
       "    <tr>\n",
       "      <th>53311</th>\n",
       "      <td>17-Dec-17</td>\n",
       "      <td>poundland supplier hit insurance downgrad</td>\n",
       "      <td>Neutral</td>\n",
       "    </tr>\n",
       "    <tr>\n",
       "      <th>53312</th>\n",
       "      <td>17-Dec-17</td>\n",
       "      <td>cryptocurrencies city watchdog investigate new...</td>\n",
       "      <td>Neutral</td>\n",
       "    </tr>\n",
       "    <tr>\n",
       "      <th>53313</th>\n",
       "      <td>17-Dec-17</td>\n",
       "      <td>unilever sell household name spread kkr 6bn</td>\n",
       "      <td>Neutral</td>\n",
       "    </tr>\n",
       "    <tr>\n",
       "      <th>53314</th>\n",
       "      <td>17-Dec-17</td>\n",
       "      <td>guardian view ryanair model union friendly com...</td>\n",
       "      <td>Positive</td>\n",
       "    </tr>\n",
       "  </tbody>\n",
       "</table>\n",
       "<p>53315 rows × 3 columns</p>\n",
       "</div>"
      ],
      "text/plain": [
       "                                 Time  \\\n",
       "0       7:51  PM ET Fri, 17 July 2020   \n",
       "1       7:33  PM ET Fri, 17 July 2020   \n",
       "2       7:25  PM ET Fri, 17 July 2020   \n",
       "3       4:24  PM ET Fri, 17 July 2020   \n",
       "4       7:36  PM ET Thu, 16 July 2020   \n",
       "...                               ...   \n",
       "53310                       17-Dec-17   \n",
       "53311                       17-Dec-17   \n",
       "53312                       17-Dec-17   \n",
       "53313                       17-Dec-17   \n",
       "53314                       17-Dec-17   \n",
       "\n",
       "                                                    Info polarity score  \n",
       "0      jim cramer better way invest covid 19 vaccine ...       Positive  \n",
       "1      cramer lightning round would teradyne mad mone...       Negative  \n",
       "2      cramer week ahead big week earnings even bigge...       Positive  \n",
       "3      iq capital ceo keith bliss say tech healthcare...       Positive  \n",
       "4      wall street delivered kind pullback waiting ji...       Negative  \n",
       "...                                                  ...            ...  \n",
       "53310  investing solar energy create brighter future ...       Positive  \n",
       "53311          poundland supplier hit insurance downgrad        Neutral  \n",
       "53312  cryptocurrencies city watchdog investigate new...        Neutral  \n",
       "53313        unilever sell household name spread kkr 6bn        Neutral  \n",
       "53314  guardian view ryanair model union friendly com...       Positive  \n",
       "\n",
       "[53315 rows x 3 columns]"
      ]
     },
     "execution_count": 62,
     "metadata": {},
     "output_type": "execute_result"
    }
   ],
   "source": [
    "# apply the function  which decides sentiment to  polarity score column\n",
    "df_new"
   ]
  },
  {
   "cell_type": "code",
   "execution_count": 63,
   "metadata": {
    "colab": {
     "base_uri": "https://localhost:8080/",
     "height": 297
    },
    "id": "ohPDx_0glaeM",
    "outputId": "74fba960-52d3-4a2c-e952-8e5498b7fb61"
   },
   "outputs": [
    {
     "data": {
      "image/png": "[encoded data removed]",
      "text/plain": [
       "<Figure size 432x288 with 1 Axes>"
      ]
     },
     "metadata": {},
     "output_type": "display_data"
    }
   ],
   "source": [
    "# perform count plot on info_score column\n",
    "sns.countplot(x = df_new['polarity score'])\n",
    "plt.show()\n"
   ]
  },
  {
   "cell_type": "markdown",
   "metadata": {
    "id": "svGQaSfhl6_5"
   },
   "source": [
    "In the info\n",
    "\n",
    "there are approx\n",
    "\n",
    "15500 positive statment\n",
    "\n",
    "13000 negative statment\n",
    "\n",
    "6500 neutral statment"
   ]
  },
  {
   "cell_type": "code",
   "execution_count": 64,
   "metadata": {
    "colab": {
     "base_uri": "https://localhost:8080/",
     "height": 542
    },
    "id": "BNaH0yfFll7Z",
    "outputId": "25db852a-077a-486a-d810-b8d97fab4adc"
   },
   "outputs": [
    {
     "data": {
      "image/png": "[encoded data removed]",
      "text/plain": [
       "<Figure size 432x288 with 1 Axes>"
      ]
     },
     "metadata": {},
     "output_type": "display_data"
    }
   ],
   "source": [
    "# perform pie chart on info_score column\n",
    "palette_color = sns.color_palette('nipy_spectral_r')\n",
    "plt.pie(df_new['polarity score'].value_counts(), labels=df_new['polarity score'].value_counts().index, colors=palette_color, autopct='%.0f%%')\n",
    "plt.show()"
   ]
  },
  {
   "cell_type": "markdown",
   "metadata": {
    "id": "e0JsgArfmgi-"
   },
   "source": [
    "In the dataset\n",
    "\n",
    "info contains\n",
    "\n",
    "44.5% positive statments\n",
    "\n",
    "37.2% negtive statements\n",
    "\n",
    "18.3% neutral statments"
   ]
  },
  {
   "cell_type": "markdown",
   "metadata": {
    "id": "FDaguQJMfrML"
   },
   "source": [
    "# modeling on headlines + description"
   ]
  },
  {
   "cell_type": "code",
   "execution_count": 65,
   "metadata": {},
   "outputs": [
    {
     "data": {
      "text/html": [
       "<div>\n",
       "<style scoped>\n",
       "    .dataframe tbody tr th:only-of-type {\n",
       "        vertical-align: middle;\n",
       "    }\n",
       "\n",
       "    .dataframe tbody tr th {\n",
       "        vertical-align: top;\n",
       "    }\n",
       "\n",
       "    .dataframe thead th {\n",
       "        text-align: right;\n",
       "    }\n",
       "</style>\n",
       "<table border=\"1\" class=\"dataframe\">\n",
       "  <thead>\n",
       "    <tr style=\"text-align: right;\">\n",
       "      <th></th>\n",
       "      <th>Info</th>\n",
       "      <th>polarity score</th>\n",
       "    </tr>\n",
       "  </thead>\n",
       "  <tbody>\n",
       "    <tr>\n",
       "      <th>0</th>\n",
       "      <td>jim cramer better way invest covid 19 vaccine ...</td>\n",
       "      <td>Positive</td>\n",
       "    </tr>\n",
       "    <tr>\n",
       "      <th>1</th>\n",
       "      <td>cramer lightning round would teradyne mad mone...</td>\n",
       "      <td>Negative</td>\n",
       "    </tr>\n",
       "    <tr>\n",
       "      <th>2</th>\n",
       "      <td>cramer week ahead big week earnings even bigge...</td>\n",
       "      <td>Positive</td>\n",
       "    </tr>\n",
       "    <tr>\n",
       "      <th>3</th>\n",
       "      <td>iq capital ceo keith bliss say tech healthcare...</td>\n",
       "      <td>Positive</td>\n",
       "    </tr>\n",
       "    <tr>\n",
       "      <th>4</th>\n",
       "      <td>wall street delivered kind pullback waiting ji...</td>\n",
       "      <td>Negative</td>\n",
       "    </tr>\n",
       "    <tr>\n",
       "      <th>...</th>\n",
       "      <td>...</td>\n",
       "      <td>...</td>\n",
       "    </tr>\n",
       "    <tr>\n",
       "      <th>53310</th>\n",
       "      <td>investing solar energy create brighter future ...</td>\n",
       "      <td>Positive</td>\n",
       "    </tr>\n",
       "    <tr>\n",
       "      <th>53311</th>\n",
       "      <td>poundland supplier hit insurance downgrad</td>\n",
       "      <td>Neutral</td>\n",
       "    </tr>\n",
       "    <tr>\n",
       "      <th>53312</th>\n",
       "      <td>cryptocurrencies city watchdog investigate new...</td>\n",
       "      <td>Neutral</td>\n",
       "    </tr>\n",
       "    <tr>\n",
       "      <th>53313</th>\n",
       "      <td>unilever sell household name spread kkr 6bn</td>\n",
       "      <td>Neutral</td>\n",
       "    </tr>\n",
       "    <tr>\n",
       "      <th>53314</th>\n",
       "      <td>guardian view ryanair model union friendly com...</td>\n",
       "      <td>Positive</td>\n",
       "    </tr>\n",
       "  </tbody>\n",
       "</table>\n",
       "<p>53315 rows × 2 columns</p>\n",
       "</div>"
      ],
      "text/plain": [
       "                                                    Info polarity score\n",
       "0      jim cramer better way invest covid 19 vaccine ...       Positive\n",
       "1      cramer lightning round would teradyne mad mone...       Negative\n",
       "2      cramer week ahead big week earnings even bigge...       Positive\n",
       "3      iq capital ceo keith bliss say tech healthcare...       Positive\n",
       "4      wall street delivered kind pullback waiting ji...       Negative\n",
       "...                                                  ...            ...\n",
       "53310  investing solar energy create brighter future ...       Positive\n",
       "53311          poundland supplier hit insurance downgrad        Neutral\n",
       "53312  cryptocurrencies city watchdog investigate new...        Neutral\n",
       "53313        unilever sell household name spread kkr 6bn        Neutral\n",
       "53314  guardian view ryanair model union friendly com...       Positive\n",
       "\n",
       "[53315 rows x 2 columns]"
      ]
     },
     "execution_count": 65,
     "metadata": {},
     "output_type": "execute_result"
    }
   ],
   "source": [
    "df_new = df_new.drop('Time', axis = 1)\n",
    "df_new"
   ]
  },
  {
   "cell_type": "code",
   "execution_count": 66,
   "metadata": {
    "id": "U-sjg3NEzTRd"
   },
   "outputs": [],
   "source": [
    "# split the dataset  into test and train \n",
    "# 90% train , 10% test and random state 212\n",
    "X = df_new['Info']\n",
    "y = df_new['polarity score']\n",
    "X_train, X_test, y_train, y_test = train_test_split(X,y,train_size = 0.9, random_state = 212)"
   ]
  },
  {
   "cell_type": "markdown",
   "metadata": {
    "id": "h469Z39Zjjvn"
   },
   "source": [
    "LINEAR SUPPORT VECTOR MACHINE\n"
   ]
  },
  {
   "cell_type": "code",
   "execution_count": 67,
   "metadata": {
    "colab": {
     "base_uri": "https://localhost:8080/"
    },
    "id": "atnWirUQzTQI",
    "outputId": "bc1c5870-4985-4879-80f1-dc8928f98b4a"
   },
   "outputs": [
    {
     "name": "stdout",
     "output_type": "stream",
     "text": [
      "87.35933983495873\n",
      "[[1858  105  126]\n",
      " [ 110  709  137]\n",
      " [ 114   82 2091]]\n",
      "              precision    recall  f1-score   support\n",
      "\n",
      "    Negative       0.89      0.89      0.89      2089\n",
      "     Neutral       0.79      0.74      0.77       956\n",
      "    Positive       0.89      0.91      0.90      2287\n",
      "\n",
      "    accuracy                           0.87      5332\n",
      "   macro avg       0.86      0.85      0.85      5332\n",
      "weighted avg       0.87      0.87      0.87      5332\n",
      "\n",
      "Wall time: 3.77 s\n"
     ]
    }
   ],
   "source": [
    "\n",
    "%%time\n",
    "# pipeline creation\n",
    "# 1. tfidVectorization\n",
    "# 2. linearSVC model\n",
    "\n",
    "\n",
    "pipe_LinearSVC = Pipeline([('Vectorizer', TfidfVectorizer()), ('linearsvc', LinearSVC())])\n",
    "\n",
    "# Fit the pipeline to the data\n",
    "pipe_LinearSVC.fit(X_train, y_train)\n",
    "# predict on test dataset\n",
    "y_pred = pipe_LinearSVC.predict(X_test)\n",
    "# print accuracy score\n",
    "print(pipe_LinearSVC.score(y_test,y_pred)*100)\n",
    "#print confusion matrix\n",
    "cm = confusion_matrix(y_test,y_pred)\n",
    "print(cm)\n",
    "#print classification report\n",
    "print(classification_report(y_test,y_pred))\n",
    "\n"
   ]
  },
  {
   "cell_type": "markdown",
   "metadata": {
    "id": "ucmhtCoTjf7H"
   },
   "source": [
    "LOGISTIC REGRESSION\n"
   ]
  },
  {
   "cell_type": "code",
   "execution_count": 68,
   "metadata": {
    "colab": {
     "base_uri": "https://localhost:8080/"
    },
    "id": "UXsbyfc22sXR",
    "outputId": "8c47b13d-6bf9-4cf6-cbc6-4f6712f72db7"
   },
   "outputs": [
    {
     "name": "stdout",
     "output_type": "stream",
     "text": [
      "84.62115528882221\n",
      "[[1808  105  176]\n",
      " [ 131  647  178]\n",
      " [ 145   85 2057]]\n",
      "              precision    recall  f1-score   support\n",
      "\n",
      "    Negative       0.87      0.87      0.87      2089\n",
      "     Neutral       0.77      0.68      0.72       956\n",
      "    Positive       0.85      0.90      0.88      2287\n",
      "\n",
      "    accuracy                           0.85      5332\n",
      "   macro avg       0.83      0.81      0.82      5332\n",
      "weighted avg       0.84      0.85      0.84      5332\n",
      "\n",
      "Wall time: 9.89 s\n"
     ]
    }
   ],
   "source": [
    "%%time\n",
    "# pipeline creation \n",
    "# 1. CountVectorization\n",
    "# 2. TfidTransformer\n",
    "# 3. Logistic Regression\n",
    "\n",
    "\n",
    "\n",
    "pipe_LR = Pipeline([('countvectorizer', CountVectorizer()), ('transformer', TfidfTransformer()), ('linearsvc', LogisticRegression())])\n",
    "# fit the pipeline to the train data\n",
    "pipe_LR.fit(X_train, y_train)\n",
    "# predict on test dataset\n",
    "y_pred = pipe_LR.predict(X_test)\n",
    "# print accuracy score\n",
    "print(pipe_LR.score(y_test,y_pred)*100)\n",
    "#print confusion matrix\n",
    "cm = confusion_matrix(y_test,y_pred)\n",
    "print(cm)\n",
    "#print classification report\n",
    "print(classification_report(y_test,y_pred))\n",
    " "
   ]
  },
  {
   "cell_type": "markdown",
   "metadata": {
    "id": "ozLeBo9qjdNR"
   },
   "source": [
    "MULTINOMIAL NAIVE BAYES\n"
   ]
  },
  {
   "cell_type": "code",
   "execution_count": 69,
   "metadata": {
    "colab": {
     "base_uri": "https://localhost:8080/"
    },
    "id": "kxTsmokz2sVw",
    "outputId": "87aedc65-0edf-4775-a543-29617044ca95"
   },
   "outputs": [
    {
     "name": "stdout",
     "output_type": "stream",
     "text": [
      "76.78169542385596\n",
      "[[1539    2  548]\n",
      " [ 380   37  539]\n",
      " [ 270    1 2016]]\n",
      "              precision    recall  f1-score   support\n",
      "\n",
      "    Negative       0.70      0.74      0.72      2089\n",
      "     Neutral       0.93      0.04      0.07       956\n",
      "    Positive       0.65      0.88      0.75      2287\n",
      "\n",
      "    accuracy                           0.67      5332\n",
      "   macro avg       0.76      0.55      0.51      5332\n",
      "weighted avg       0.72      0.67      0.62      5332\n",
      "\n",
      "Wall time: 2.27 s\n"
     ]
    }
   ],
   "source": [
    "%%time\n",
    "# pipeline creation \n",
    "# 1. CountVectorizer\n",
    "# 2. TfidTransformer\n",
    "# 3. MultinomialNB\n",
    "\n",
    "\n",
    "pipe_Multi_NB = Pipeline([('countvectorizer', CountVectorizer()), ('transformer', TfidfTransformer()), ('MultinomialNB', MultinomialNB())])\n",
    "# fit the pipeline to the train data\n",
    "pipe_Multi_NB.fit(X_train, y_train)\n",
    "# predict on test dataset\n",
    "y_pred = pipe_Multi_NB.predict(X_test)\n",
    "# print accuracy score\n",
    "print(pipe_Multi_NB.score(y_test,y_pred)*100)\n",
    "#print confusion matrix\n",
    "cm = confusion_matrix(y_test,y_pred)\n",
    "print(cm)\n",
    "#print classification report\n",
    "print(classification_report(y_test,y_pred))\n",
    " "
   ]
  },
  {
   "cell_type": "markdown",
   "metadata": {
    "id": "91Ms-94_jaKm"
   },
   "source": [
    "BERNOULLI NAIVE BAYES\n"
   ]
  },
  {
   "cell_type": "code",
   "execution_count": 70,
   "metadata": {
    "colab": {
     "base_uri": "https://localhost:8080/"
    },
    "id": "Tx_-8y_x2sSO",
    "outputId": "131fa1a0-1fdc-46e0-8b22-9d6f77a01758"
   },
   "outputs": [
    {
     "name": "stdout",
     "output_type": "stream",
     "text": [
      "19.298574643660913\n",
      "[[1519  208  362]\n",
      " [ 167  542  247]\n",
      " [ 412  279 1596]]\n",
      "              precision    recall  f1-score   support\n",
      "\n",
      "    Negative       0.72      0.73      0.73      2089\n",
      "     Neutral       0.53      0.57      0.55       956\n",
      "    Positive       0.72      0.70      0.71      2287\n",
      "\n",
      "    accuracy                           0.69      5332\n",
      "   macro avg       0.66      0.66      0.66      5332\n",
      "weighted avg       0.69      0.69      0.69      5332\n",
      "\n",
      "Wall time: 2.3 s\n"
     ]
    }
   ],
   "source": [
    "%%time\n",
    "# pipeline creation \n",
    "# 1. CountVectorizer\n",
    "# 2. TfidTransformer\n",
    "# 3. BernoulliNB\n",
    "\n",
    "pipe_Bernoulli_NB = Pipeline([('countvectorizer', CountVectorizer()), ('transformer', TfidfTransformer()), ('BernoulliNB', BernoulliNB())])\n",
    "# fit the pipeline to the train data\n",
    "pipe_Bernoulli_NB.fit(X_train, y_train)\n",
    "# predict on test dataset\n",
    "y_pred = pipe_Bernoulli_NB.predict(X_test)\n",
    "# print accuracy score\n",
    "print(pipe_Bernoulli_NB.score(y_test,y_pred)*100)\n",
    "#print confusion matrix\n",
    "cm = confusion_matrix(y_test,y_pred)\n",
    "print(cm)\n",
    "#print classification report\n",
    "print(classification_report(y_test,y_pred))\n",
    " "
   ]
  },
  {
   "cell_type": "markdown",
   "metadata": {
    "id": "N1OOQeVmjWjx"
   },
   "source": [
    "GRADIENT BOOSTING CLASSIFICATION MODEL\n"
   ]
  },
  {
   "cell_type": "code",
   "execution_count": 71,
   "metadata": {
    "colab": {
     "base_uri": "https://localhost:8080/"
    },
    "id": "K_5dgcgS2sQj",
    "outputId": "962b1d1d-6623-4ba7-aa74-4efb47f9bac1"
   },
   "outputs": [
    {
     "name": "stdout",
     "output_type": "stream",
     "text": [
      "73.1245311327832\n",
      "[[1626   39  424]\n",
      " [ 539  142  275]\n",
      " [ 519   34 1734]]\n",
      "              precision    recall  f1-score   support\n",
      "\n",
      "    Negative       0.61      0.78      0.68      2089\n",
      "     Neutral       0.66      0.15      0.24       956\n",
      "    Positive       0.71      0.76      0.73      2287\n",
      "\n",
      "    accuracy                           0.66      5332\n",
      "   macro avg       0.66      0.56      0.55      5332\n",
      "weighted avg       0.66      0.66      0.63      5332\n",
      "\n",
      "Wall time: 2min 43s\n"
     ]
    }
   ],
   "source": [
    "%%time\n",
    "# pipeline creation \n",
    "# 1. CountVectorizer\n",
    "# 2. TfidTransformer\n",
    "# 3. GradientBoostingClassifier\n",
    "\n",
    "\n",
    "pipe_GradientBoostingClassifier = Pipeline([('countvectorizer', CountVectorizer()), ('transformer', TfidfTransformer()), ('GradientBoostingClassifier', GradientBoostingClassifier())])\n",
    "# fit the pipeline to the train data\n",
    "pipe_GradientBoostingClassifier.fit(X_train, y_train)\n",
    "# predict on test dataset\n",
    "y_pred = pipe_GradientBoostingClassifier.predict(X_test)\n",
    "# print accuracy score\n",
    "print(pipe_GradientBoostingClassifier.score(y_test,y_pred)*100)\n",
    "#print confusion matrix\n",
    "cm = confusion_matrix(y_test,y_pred)\n",
    "print(cm)\n",
    "#print classification report\n",
    "print(classification_report(y_test,y_pred))\n",
    " \n",
    " "
   ]
  },
  {
   "cell_type": "markdown",
   "metadata": {
    "id": "z7l-VmXKjTJP"
   },
   "source": [
    "XGBOOST CLASSIFICATION MODEL\n"
   ]
  },
  {
   "cell_type": "code",
   "execution_count": 72,
   "metadata": {
    "colab": {
     "base_uri": "https://localhost:8080/"
    },
    "id": "6koZzsSv2sM7",
    "outputId": "cb7b1e22-5edd-4dc2-a7df-ddb511ef749c"
   },
   "outputs": [
    {
     "name": "stdout",
     "output_type": "stream",
     "text": [
      "[16:28:43] WARNING: D:\\bld\\xgboost-split_1645118015404\\work\\src\\learner.cc:1115: Starting in XGBoost 1.3.0, the default evaluation metric used with the objective 'multi:softprob' was changed from 'merror' to 'mlogloss'. Explicitly set eval_metric if you'd like to restore the old behavior.\n",
      "79.87621905476368\n",
      "[[1622  223  244]\n",
      " [  80  757  119]\n",
      " [ 192  215 1880]]\n",
      "              precision    recall  f1-score   support\n",
      "\n",
      "    Negative       0.86      0.78      0.81      2089\n",
      "     Neutral       0.63      0.79      0.70       956\n",
      "    Positive       0.84      0.82      0.83      2287\n",
      "\n",
      "    accuracy                           0.80      5332\n",
      "   macro avg       0.78      0.80      0.78      5332\n",
      "weighted avg       0.81      0.80      0.80      5332\n",
      "\n",
      "Wall time: 1min 33s\n"
     ]
    }
   ],
   "source": [
    "%%time\n",
    "# pipeline creation \n",
    "# 1. CountVectorizer\n",
    "# 2. TfidTransformer\n",
    "# 3. XGBClassifier\n",
    "pipe_XGBClassifier = Pipeline([('countvectorizer', CountVectorizer()), ('transformer', TfidfTransformer()), ('XGBClassifier', XGBClassifier())])\n",
    "# fit the pipeline to the train data\n",
    "pipe_XGBClassifier.fit(X_train, y_train)\n",
    "# predict on test dataset\n",
    "y_pred = pipe_XGBClassifier.predict(X_test)\n",
    "# print accuracy score\n",
    "print(pipe_XGBClassifier.score(y_test,y_pred)*100)\n",
    "#print confusion matrix\n",
    "cm = confusion_matrix(y_test,y_pred)\n",
    "print(cm)\n",
    "#print classification report\n",
    "print(classification_report(y_test,y_pred))\n"
   ]
  },
  {
   "cell_type": "markdown",
   "metadata": {
    "id": "2SBHJMuyjPmm"
   },
   "source": [
    "DECISION TREE CLASSIFICATION MODEL\n"
   ]
  },
  {
   "cell_type": "code",
   "execution_count": 73,
   "metadata": {
    "colab": {
     "base_uri": "https://localhost:8080/"
    },
    "id": "EwiF9Pwj2sLZ",
    "outputId": "5663ea05-9a2b-4caf-fc9b-8d84c90d8d4d"
   },
   "outputs": [
    {
     "name": "stdout",
     "output_type": "stream",
     "text": [
      "74.13728432108027\n",
      "[[1544  154  391]\n",
      " [ 113  705  138]\n",
      " [ 420  163 1704]]\n",
      "              precision    recall  f1-score   support\n",
      "\n",
      "    Negative       0.74      0.74      0.74      2089\n",
      "     Neutral       0.69      0.74      0.71       956\n",
      "    Positive       0.76      0.75      0.75      2287\n",
      "\n",
      "    accuracy                           0.74      5332\n",
      "   macro avg       0.73      0.74      0.74      5332\n",
      "weighted avg       0.74      0.74      0.74      5332\n",
      "\n",
      "Wall time: 57.7 s\n"
     ]
    }
   ],
   "source": [
    "%%time\n",
    "# pipeline creation \n",
    "# 1. CountVectorizer\n",
    "# 2. TfidTransformer\n",
    "# 3. Decision tree classifier\n",
    "\n",
    "\n",
    "pipe_DecisionTreeClassifier = Pipeline([('countvectorizer', CountVectorizer()), ('transformer', TfidfTransformer()), ('DecisionTreeClassifier', DecisionTreeClassifier())])\n",
    "# fit the pipeline to the train data\n",
    "pipe_DecisionTreeClassifier.fit(X_train, y_train)\n",
    "# predict on test dataset\n",
    "y_pred = pipe_DecisionTreeClassifier.predict(X_test)\n",
    "# print accuracy score\n",
    "print(pipe_DecisionTreeClassifier.score(y_test,y_pred)*100)\n",
    "#print confusion matrix\n",
    "cm = confusion_matrix(y_test,y_pred)\n",
    "print(cm)\n",
    "#print classification report\n",
    "print(classification_report(y_test,y_pred))\n"
   ]
  },
  {
   "cell_type": "markdown",
   "metadata": {
    "id": "IPUcodK0jLVr"
   },
   "source": [
    "K- NEAREST NEIGHBOUR CLASSIFIER MODEL\n"
   ]
  },
  {
   "cell_type": "code",
   "execution_count": 74,
   "metadata": {
    "colab": {
     "base_uri": "https://localhost:8080/"
    },
    "id": "_8XjVbty2sIL",
    "outputId": "0f047183-29a5-4fcc-ca9c-6e5322ac49fc"
   },
   "outputs": [
    {
     "name": "stdout",
     "output_type": "stream",
     "text": [
      "55.64516129032258\n",
      "[[1373  259  457]\n",
      " [ 394  326  236]\n",
      " [ 714  305 1268]]\n",
      "              precision    recall  f1-score   support\n",
      "\n",
      "    Negative       0.55      0.66      0.60      2089\n",
      "     Neutral       0.37      0.34      0.35       956\n",
      "    Positive       0.65      0.55      0.60      2287\n",
      "\n",
      "    accuracy                           0.56      5332\n",
      "   macro avg       0.52      0.52      0.52      5332\n",
      "weighted avg       0.56      0.56      0.55      5332\n",
      "\n",
      "Wall time: 19.1 s\n"
     ]
    }
   ],
   "source": [
    "%%time\n",
    "# pipeline creation \n",
    "# 1. CountVectorizer\n",
    "# 2. TfidTransformer\n",
    "# 3. KNN classifier\n",
    "\n",
    "\n",
    "pipe_KNeighborsClassifier = Pipeline([('countvectorizer', CountVectorizer()), ('transformer', TfidfTransformer()), ('KNeighborsClassifier', KNeighborsClassifier())])\n",
    "# fit the pipeline to the train data\n",
    "pipe_KNeighborsClassifier.fit(X_train, y_train)\n",
    "# predict on test dataset\n",
    "y_pred = pipe_KNeighborsClassifier.predict(X_test)\n",
    "# print accuracy score\n",
    "print(pipe_KNeighborsClassifier.score(y_test,y_pred)*100)\n",
    "#print confusion matrix\n",
    "cm = confusion_matrix(y_test,y_pred)\n",
    "print(cm)\n",
    "#print classification report\n",
    "print(classification_report(y_test,y_pred))\n"
   ]
  },
  {
   "cell_type": "code",
   "execution_count": 75,
   "metadata": {
    "id": "yCooDdQ7yFdC"
   },
   "outputs": [
    {
     "name": "stdout",
     "output_type": "stream",
     "text": [
      "LinearSVC()\n",
      "87.35933983495873\n",
      "              precision    recall  f1-score   support\n",
      "\n",
      "    Negative       0.89      0.89      0.89      2089\n",
      "     Neutral       0.79      0.74      0.77       956\n",
      "    Positive       0.89      0.91      0.90      2287\n",
      "\n",
      "    accuracy                           0.87      5332\n",
      "   macro avg       0.86      0.85      0.85      5332\n",
      "weighted avg       0.87      0.87      0.87      5332\n",
      "\n",
      "---------------------------------------------------------------------------------------\n",
      "LogisticRegression()\n",
      "84.62115528882221\n",
      "              precision    recall  f1-score   support\n",
      "\n",
      "    Negative       0.87      0.87      0.87      2089\n",
      "     Neutral       0.77      0.68      0.72       956\n",
      "    Positive       0.85      0.90      0.88      2287\n",
      "\n",
      "    accuracy                           0.85      5332\n",
      "   macro avg       0.83      0.81      0.82      5332\n",
      "weighted avg       0.84      0.85      0.84      5332\n",
      "\n",
      "---------------------------------------------------------------------------------------\n",
      "MultinomialNB()\n",
      "76.78169542385596\n",
      "              precision    recall  f1-score   support\n",
      "\n",
      "    Negative       0.70      0.74      0.72      2089\n",
      "     Neutral       0.93      0.04      0.07       956\n",
      "    Positive       0.65      0.88      0.75      2287\n",
      "\n",
      "    accuracy                           0.67      5332\n",
      "   macro avg       0.76      0.55      0.51      5332\n",
      "weighted avg       0.72      0.67      0.62      5332\n",
      "\n",
      "---------------------------------------------------------------------------------------\n",
      "BernoulliNB()\n",
      "19.298574643660913\n",
      "              precision    recall  f1-score   support\n",
      "\n",
      "    Negative       0.72      0.73      0.73      2089\n",
      "     Neutral       0.53      0.57      0.55       956\n",
      "    Positive       0.72      0.70      0.71      2287\n",
      "\n",
      "    accuracy                           0.69      5332\n",
      "   macro avg       0.66      0.66      0.66      5332\n",
      "weighted avg       0.69      0.69      0.69      5332\n",
      "\n",
      "---------------------------------------------------------------------------------------\n",
      "GradientBoostingClassifier()\n",
      "73.10577644411103\n",
      "              precision    recall  f1-score   support\n",
      "\n",
      "    Negative       0.61      0.78      0.68      2089\n",
      "     Neutral       0.66      0.15      0.24       956\n",
      "    Positive       0.71      0.76      0.73      2287\n",
      "\n",
      "    accuracy                           0.66      5332\n",
      "   macro avg       0.66      0.56      0.55      5332\n",
      "weighted avg       0.66      0.66      0.63      5332\n",
      "\n",
      "---------------------------------------------------------------------------------------\n",
      "[16:34:05] WARNING: D:\\bld\\xgboost-split_1645118015404\\work\\src\\learner.cc:1115: Starting in XGBoost 1.3.0, the default evaluation metric used with the objective 'multi:softprob' was changed from 'merror' to 'mlogloss'. Explicitly set eval_metric if you'd like to restore the old behavior.\n",
      "XGBClassifier(base_score=0.5, booster='gbtree', colsample_bylevel=1,\n",
      "              colsample_bynode=1, colsample_bytree=1, enable_categorical=False,\n",
      "              gamma=0, gpu_id=-1, importance_type=None,\n",
      "              interaction_constraints='', learning_rate=0.300000012,\n",
      "              max_delta_step=0, max_depth=6, min_child_weight=1, missing=nan,\n",
      "              monotone_constraints='()', n_estimators=100, n_jobs=4,\n",
      "              num_parallel_tree=1, objective='multi:softprob', predictor='auto',\n",
      "              random_state=0, reg_alpha=0, reg_lambda=1, scale_pos_weight=None,\n",
      "              subsample=1, tree_method='exact', validate_parameters=1,\n",
      "              verbosity=None)\n",
      "79.87621905476368\n",
      "              precision    recall  f1-score   support\n",
      "\n",
      "    Negative       0.86      0.78      0.81      2089\n",
      "     Neutral       0.63      0.79      0.70       956\n",
      "    Positive       0.84      0.82      0.83      2287\n",
      "\n",
      "    accuracy                           0.80      5332\n",
      "   macro avg       0.78      0.80      0.78      5332\n",
      "weighted avg       0.81      0.80      0.80      5332\n",
      "\n",
      "---------------------------------------------------------------------------------------\n",
      "DecisionTreeClassifier()\n",
      "74.26856714178544\n",
      "              precision    recall  f1-score   support\n",
      "\n",
      "    Negative       0.74      0.74      0.74      2089\n",
      "     Neutral       0.69      0.75      0.72       956\n",
      "    Positive       0.77      0.74      0.76      2287\n",
      "\n",
      "    accuracy                           0.74      5332\n",
      "   macro avg       0.73      0.74      0.74      5332\n",
      "weighted avg       0.74      0.74      0.74      5332\n",
      "\n",
      "---------------------------------------------------------------------------------------\n",
      "KNeighborsClassifier()\n",
      "55.64516129032258\n",
      "              precision    recall  f1-score   support\n",
      "\n",
      "    Negative       0.55      0.66      0.60      2089\n",
      "     Neutral       0.37      0.34      0.35       956\n",
      "    Positive       0.65      0.55      0.60      2287\n",
      "\n",
      "    accuracy                           0.56      5332\n",
      "   macro avg       0.52      0.52      0.52      5332\n",
      "weighted avg       0.56      0.56      0.55      5332\n",
      "\n",
      "---------------------------------------------------------------------------------------\n"
     ]
    }
   ],
   "source": [
    "# helper function for comparing models matric\n",
    "\n",
    "    # the libraries we need\n",
    "\n",
    "    # create a dataframe with column matric and metric name as value\n",
    "\n",
    "    # then predict on the test set\n",
    "for j in object_list:\n",
    "    modelmetric(j)  \n",
    "    "
   ]
  },
  {
   "cell_type": "code",
   "execution_count": 76,
   "metadata": {
    "colab": {
     "base_uri": "https://localhost:8080/"
    },
    "id": "CQyOqutpyFYS",
    "outputId": "058cbc3e-15de-491b-ba9a-85009051eae3"
   },
   "outputs": [],
   "source": [
    "# list of model objects\n",
    "\n",
    "# list of model names\n",
    "\n",
    "# print the comparison of models\n"
   ]
  },
  {
   "cell_type": "markdown",
   "metadata": {
    "id": "urk4DVzslAXB"
   },
   "source": [
    "# Prediction with test data"
   ]
  },
  {
   "cell_type": "code",
   "execution_count": 77,
   "metadata": {
    "colab": {
     "base_uri": "https://localhost:8080/"
    },
    "id": "T7HvvBOW2sGj",
    "outputId": "44b79c1b-84ea-4b00-9200-d75f8d514603"
   },
   "outputs": [
    {
     "data": {
      "text/plain": [
       "array(['Positive', 'Negative', 'Positive', ..., 'Negative', 'Negative',\n",
       "       'Positive'], dtype=object)"
      ]
     },
     "execution_count": 77,
     "metadata": {},
     "output_type": "execute_result"
    }
   ],
   "source": [
    "# Perforn the prediction on the test dataset\n",
    "predictions = pipe_LinearSVC.predict(X_test)\n",
    "predictions"
   ]
  },
  {
   "cell_type": "code",
   "execution_count": 78,
   "metadata": {
    "id": "pOKTBCnPlD5J"
   },
   "outputs": [],
   "source": [
    "# creating a dataframe of predicted results \n",
    "predictions = pd.DataFrame(predictions)"
   ]
  },
  {
   "cell_type": "code",
   "execution_count": 79,
   "metadata": {
    "colab": {
     "base_uri": "https://localhost:8080/",
     "height": 202
    },
    "id": "XhfTaQoflEwZ",
    "outputId": "9a84c83e-77a2-4bc5-c829-de61e6a7ff3c",
    "scrolled": true
   },
   "outputs": [
    {
     "data": {
      "text/html": [
       "<div>\n",
       "<style scoped>\n",
       "    .dataframe tbody tr th:only-of-type {\n",
       "        vertical-align: middle;\n",
       "    }\n",
       "\n",
       "    .dataframe tbody tr th {\n",
       "        vertical-align: top;\n",
       "    }\n",
       "\n",
       "    .dataframe thead th {\n",
       "        text-align: right;\n",
       "    }\n",
       "</style>\n",
       "<table border=\"1\" class=\"dataframe\">\n",
       "  <thead>\n",
       "    <tr style=\"text-align: right;\">\n",
       "      <th></th>\n",
       "      <th>0</th>\n",
       "    </tr>\n",
       "  </thead>\n",
       "  <tbody>\n",
       "    <tr>\n",
       "      <th>0</th>\n",
       "      <td>Positive</td>\n",
       "    </tr>\n",
       "    <tr>\n",
       "      <th>1</th>\n",
       "      <td>Negative</td>\n",
       "    </tr>\n",
       "    <tr>\n",
       "      <th>2</th>\n",
       "      <td>Positive</td>\n",
       "    </tr>\n",
       "    <tr>\n",
       "      <th>3</th>\n",
       "      <td>Negative</td>\n",
       "    </tr>\n",
       "    <tr>\n",
       "      <th>4</th>\n",
       "      <td>Negative</td>\n",
       "    </tr>\n",
       "    <tr>\n",
       "      <th>...</th>\n",
       "      <td>...</td>\n",
       "    </tr>\n",
       "    <tr>\n",
       "      <th>5327</th>\n",
       "      <td>Negative</td>\n",
       "    </tr>\n",
       "    <tr>\n",
       "      <th>5328</th>\n",
       "      <td>Positive</td>\n",
       "    </tr>\n",
       "    <tr>\n",
       "      <th>5329</th>\n",
       "      <td>Negative</td>\n",
       "    </tr>\n",
       "    <tr>\n",
       "      <th>5330</th>\n",
       "      <td>Negative</td>\n",
       "    </tr>\n",
       "    <tr>\n",
       "      <th>5331</th>\n",
       "      <td>Positive</td>\n",
       "    </tr>\n",
       "  </tbody>\n",
       "</table>\n",
       "<p>5332 rows × 1 columns</p>\n",
       "</div>"
      ],
      "text/plain": [
       "             0\n",
       "0     Positive\n",
       "1     Negative\n",
       "2     Positive\n",
       "3     Negative\n",
       "4     Negative\n",
       "...        ...\n",
       "5327  Negative\n",
       "5328  Positive\n",
       "5329  Negative\n",
       "5330  Negative\n",
       "5331  Positive\n",
       "\n",
       "[5332 rows x 1 columns]"
      ]
     },
     "execution_count": 79,
     "metadata": {},
     "output_type": "execute_result"
    }
   ],
   "source": [
    "predictions"
   ]
  },
  {
   "cell_type": "code",
   "execution_count": 80,
   "metadata": {},
   "outputs": [
    {
     "data": {
      "text/plain": [
       "0.8735933983495874"
      ]
     },
     "execution_count": 80,
     "metadata": {},
     "output_type": "execute_result"
    }
   ],
   "source": [
    "from sklearn.metrics import accuracy_score\n",
    "accuracy_score(y_test,predictions)"
   ]
  },
  {
   "cell_type": "markdown",
   "metadata": {
    "id": "6ffMQY_00ufo"
   },
   "source": [
    "#  Explicit Prediction"
   ]
  },
  {
   "cell_type": "code",
   "execution_count": 81,
   "metadata": {
    "colab": {
     "base_uri": "https://localhost:8080/"
    },
    "id": "uRUtaAhZ0wwU",
    "outputId": "946e8f9c-6fdc-4d7f-b2a4-72ed559a470c"
   },
   "outputs": [
    {
     "data": {
      "text/plain": [
       "array(['Negative'], dtype=object)"
      ]
     },
     "execution_count": 81,
     "metadata": {},
     "output_type": "execute_result"
    }
   ],
   "source": [
    "sent1 = ['GST officers detect Rs 4,000 crore of ITC fraud in April-June']\n",
    "y_predict = pipe_LinearSVC.predict(sent1)\n",
    "y_predict"
   ]
  },
  {
   "cell_type": "code",
   "execution_count": 82,
   "metadata": {
    "colab": {
     "base_uri": "https://localhost:8080/"
    },
    "id": "_YJqDGt71DGn",
    "outputId": "8265f9b2-4c84-4ada-876e-4b2f3eb1989a"
   },
   "outputs": [
    {
     "data": {
      "text/plain": [
       "array(['Positive'], dtype=object)"
      ]
     },
     "execution_count": 82,
     "metadata": {},
     "output_type": "execute_result"
    }
   ],
   "source": [
    "sent2 = [\"Finance Ministry releases Rs 9,871 crore to 17 states as grant\"]\n",
    "y_predict = pipe_LinearSVC.predict(sent2)\n",
    "y_predict"
   ]
  },
  {
   "cell_type": "code",
   "execution_count": 83,
   "metadata": {},
   "outputs": [
    {
     "name": "stdout",
     "output_type": "stream",
     "text": [
      "Positive\n"
     ]
    }
   ],
   "source": [
    "sent3 = [\"Indian Rupee support at 78.80-78.50 against US Dollar; ECB, BoJ monetary policies to guide currency movement\"]\n",
    "y_predict = pipe_LinearSVC.predict(sent3)\n",
    "print(y_predict[0])"
   ]
  }
 ],
 "metadata": {
  "colab": {
   "collapsed_sections": [],
   "name": "financial_news_without_code.ipynb",
   "provenance": []
  },
  "kernelspec": {
   "display_name": "Python 3",
   "language": "python",
   "name": "python3"
  },
  "language_info": {
   "codemirror_mode": {
    "name": "ipython",
    "version": 3
   },
   "file_extension": ".py",
   "mimetype": "text/x-python",
   "name": "python",
   "nbconvert_exporter": "python",
   "pygments_lexer": "ipython3",
   "version": "3.8.5"
  }
 },
 "nbformat": 4,
 "nbformat_minor": 1
}
