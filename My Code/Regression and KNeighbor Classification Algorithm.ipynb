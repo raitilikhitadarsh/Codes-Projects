{
 "cells": [
  {
   "cell_type": "markdown",
   "metadata": {},
   "source": [
    "# Regression and Classification Algorithms\n",
    "\n",
    "Dataset Source - 1. Provided in this course by Coursera (For regression, classification and gradient descent without                                 Tensorflow)\n",
    " \n",
    "              2. Link - https://www.tensorflow.org/datasets/catalog/imdb_reviews (Classification using Tensorflow)\n",
    "\n",
    "Dataset Format - JSON, TFRECORD\n",
    "\n",
    "Analysis by - RAITI LIKHIT ADARSH\n",
    "\n",
    "Comments - 1. Predicting labels by deploying ML Algorithms by implementing both traditional as well as libraries\n",
    "\n",
    "           2. Text Classification - To predict whether a movie has positive or negative reviews (1 & 0 respectively) by it's                   user reviews"
   ]
  },
  {
   "cell_type": "markdown",
   "metadata": {},
   "source": [
    "# Regression"
   ]
  },
  {
   "cell_type": "markdown",
   "metadata": {},
   "source": [
    "## 1. Linear Regression"
   ]
  },
  {
   "cell_type": "code",
   "execution_count": 1,
   "metadata": {
    "scrolled": true
   },
   "outputs": [],
   "source": [
    "import urllib.request # read and open URLs\n",
    "from sklearn import linear_model\n",
    "import numpy"
   ]
  },
  {
   "cell_type": "code",
   "execution_count": 2,
   "metadata": {},
   "outputs": [
    {
     "name": "stdout",
     "output_type": "stream",
     "text": [
      "Reading data...\n",
      "Done!\n"
     ]
    },
    {
     "data": {
      "text/plain": [
       "{'business_id': '1SWheh84yJXfytovILXOAQ',\n",
       " 'name': 'Arizona Biltmore Golf Club',\n",
       " 'address': '2818 E Camino Acequia Drive',\n",
       " 'city': 'Phoenix',\n",
       " 'state': 'AZ',\n",
       " 'postal_code': '85016',\n",
       " 'latitude': 33.5221425,\n",
       " 'longitude': -112.0184807,\n",
       " 'stars': 3.0,\n",
       " 'review_count': 5,\n",
       " 'is_open': 0,\n",
       " 'attributes': {'GoodForKids': 'False'},\n",
       " 'categories': 'Golf, Active Life',\n",
       " 'hours': ''}"
      ]
     },
     "execution_count": 2,
     "metadata": {},
     "output_type": "execute_result"
    }
   ],
   "source": [
    "def parseData(filename):\n",
    "  for line in urllib.request.urlopen(filename):\n",
    "    yield eval(line)\n",
    "\n",
    "# Processing the data\n",
    "print (\"Reading data...\")\n",
    "data = list(parseData(\"file:/C:/Users/KIIT/Desktop/AI & Data Science/Coursera Data Science 2/Final_Course2/datasets/business.json\"))\n",
    "print (\"Done!\")\n",
    "\n",
    "# To see how our features look like\n",
    "data[0]"
   ]
  },
  {
   "cell_type": "code",
   "execution_count": 3,
   "metadata": {},
   "outputs": [],
   "source": [
    "# creating a feature vector\n",
    "def feature(datum):\n",
    "    feat = [1, datum['stars'], datum['review_count']]\n",
    "    return feat"
   ]
  },
  {
   "cell_type": "code",
   "execution_count": 4,
   "metadata": {},
   "outputs": [
    {
     "name": "stdout",
     "output_type": "stream",
     "text": [
      "Label:  [0, 1, 1, 1, 1, 1, 1, 1, 0, 1] \n",
      "Features: [[1, 3.0, 5], [1, 2.5, 128], [1, 4.0, 170], [1, 5.0, 3], [1, 4.0, 4], [1, 2.5, 3], [1, 3.5, 7], [1, 3.5, 3], [1, 5.0, 8], [1, 4.5, 8]]\n"
     ]
    }
   ],
   "source": [
    "X = [feature(d) for d in data]\n",
    "y = [d['is_open'] for d in data]\n",
    "\n",
    "# printing first 10 rows of labels and features\n",
    "print(\"Label: \", y[:10], \"\\nFeatures:\", X[:10])"
   ]
  },
  {
   "cell_type": "code",
   "execution_count": 5,
   "metadata": {},
   "outputs": [
    {
     "data": {
      "text/plain": [
       "array([7.45643273e-01, 1.97216675e-02, 1.16052841e-04])"
      ]
     },
     "execution_count": 5,
     "metadata": {},
     "output_type": "execute_result"
    }
   ],
   "source": [
    "# using numpy to compute the inverse of the matrix of features and multiply to label matrix to get the values of parameters\n",
    "\n",
    "theta,residuals,rank,s = numpy.linalg.lstsq(X, y, rcond=None)\n",
    "theta"
   ]
  },
  {
   "cell_type": "markdown",
   "metadata": {},
   "source": [
    "## 2. Autoregression"
   ]
  },
  {
   "cell_type": "code",
   "execution_count": 6,
   "metadata": {},
   "outputs": [],
   "source": [
    "# setting up a group of features with size of 24\n",
    "\n",
    "def feature(data, index, windowSize):\n",
    "    feat = [1]\n",
    "    previousValues_stars = [d['stars'] for d in data[index - windowSize:index]]\n",
    "    previousValues_review_count = [d['review_count'] for d in data[index - windowSize:index]]\n",
    "    return feat + previousValues_stars + previousValues_review_count\n",
    "\n",
    "windowSize = 24;      # Window = one day\n",
    "N = len(data)      # defines limit of features"
   ]
  },
  {
   "cell_type": "code",
   "execution_count": 7,
   "metadata": {},
   "outputs": [
    {
     "name": "stdout",
     "output_type": "stream",
     "text": [
      "Features:  [1, 3.0, 2.5, 4.0, 5.0, 4.0, 2.5, 3.5, 3.5, 5.0, 4.5, 2.0, 3.0, 3.5, 4.0, 3.0, 4.0, 5.0, 4.0, 5.0, 4.0, 4.5, 3.5, 4.0, 4.0, 5, 128, 170, 3, 4, 3, 7, 3, 8, 8, 5, 18, 9, 16, 7, 4, 5, 40, 21, 23, 38, 3, 107, 35] \n",
      "Labels:  1\n"
     ]
    }
   ],
   "source": [
    "X1 = [feature(data, index, windowSize) for index in range(windowSize, N)]\n",
    "y1 = [d['is_open'] for d in data[windowSize:]]\n",
    "\n",
    "# checking how our features and labels look like.\n",
    "print(\"Features: \", X1[0], \"\\nLabels: \", y1[0])"
   ]
  },
  {
   "cell_type": "code",
   "execution_count": 8,
   "metadata": {},
   "outputs": [
    {
     "data": {
      "text/plain": [
       "array([ 9.65076608e-01, -5.87902764e-03, -1.06559261e-03,  1.08438561e-03,\n",
       "       -2.69895991e-03,  6.89204031e-03,  5.61208730e-03, -4.65594763e-03,\n",
       "        3.74048971e-03, -4.76569972e-03, -2.19269326e-03, -5.55376891e-04,\n",
       "        2.60470267e-03,  2.26551687e-03, -5.08398160e-03, -5.76443526e-03,\n",
       "        2.93587467e-03, -5.76692329e-03, -8.26645402e-03, -4.80394296e-03,\n",
       "        1.22147445e-03, -5.70325858e-03,  3.72575297e-03, -5.98411304e-03,\n",
       "       -8.83806763e-03,  3.15459134e-05,  1.71887675e-06,  2.93341974e-05,\n",
       "       -4.26314962e-05,  2.78894595e-05,  6.53801408e-06,  1.73375147e-05,\n",
       "        2.31356361e-05, -8.62298825e-06,  2.96233449e-05,  1.37953101e-05,\n",
       "       -2.30419474e-05,  4.02874776e-06, -1.15050697e-05, -2.92215176e-05,\n",
       "        4.38447794e-06,  1.35651053e-05,  2.20669073e-05,  2.03442396e-05,\n",
       "        7.63518335e-05, -2.26207444e-05,  2.08075308e-05,  1.67948802e-05,\n",
       "       -2.83917584e-05])"
      ]
     },
     "execution_count": 8,
     "metadata": {},
     "output_type": "execute_result"
    }
   ],
   "source": [
    "theta,residuals,rank,s = numpy.linalg.lstsq(X1, y1, rcond=None)\n",
    "theta"
   ]
  },
  {
   "cell_type": "markdown",
   "metadata": {},
   "source": [
    "# Classification"
   ]
  },
  {
   "cell_type": "markdown",
   "metadata": {},
   "source": [
    "## 1. Classification using sklearn module (Logistic Regression)"
   ]
  },
  {
   "cell_type": "code",
   "execution_count": 9,
   "metadata": {},
   "outputs": [],
   "source": [
    "model = linear_model.LogisticRegression()"
   ]
  },
  {
   "cell_type": "code",
   "execution_count": 10,
   "metadata": {},
   "outputs": [
    {
     "data": {
      "text/plain": [
       "LogisticRegression()"
      ]
     },
     "execution_count": 10,
     "metadata": {},
     "output_type": "execute_result"
    }
   ],
   "source": [
    "model.fit(X,y)"
   ]
  },
  {
   "cell_type": "code",
   "execution_count": 11,
   "metadata": {},
   "outputs": [
    {
     "data": {
      "text/plain": [
       "array([1, 1, 1, ..., 1, 1, 1])"
      ]
     },
     "execution_count": 11,
     "metadata": {},
     "output_type": "execute_result"
    }
   ],
   "source": [
    "predictions = model.predict(X) # at this stage predictions will be made on the basis of provided features\n",
    "predictions"
   ]
  },
  {
   "cell_type": "code",
   "execution_count": 12,
   "metadata": {},
   "outputs": [
    {
     "data": {
      "text/plain": [
       "array([False,  True,  True, ...,  True,  True, False])"
      ]
     },
     "execution_count": 12,
     "metadata": {},
     "output_type": "execute_result"
    }
   ],
   "source": [
    "correctPredictions = predictions == y # here our predictions are verified with the actual labels\n",
    "correctPredictions"
   ]
  },
  {
   "cell_type": "code",
   "execution_count": 13,
   "metadata": {},
   "outputs": [
    {
     "data": {
      "text/plain": [
       "0.8204"
      ]
     },
     "execution_count": 13,
     "metadata": {},
     "output_type": "execute_result"
    }
   ],
   "source": [
    "sum(correctPredictions)/len(correctPredictions) # here we compute our efficiency, which is well over 83%"
   ]
  },
  {
   "cell_type": "markdown",
   "metadata": {},
   "source": [
    "## 2. Nearest neighbours (randomized dataset initialisation with training and testing sets)"
   ]
  },
  {
   "cell_type": "code",
   "execution_count": 14,
   "metadata": {},
   "outputs": [],
   "source": [
    "from sklearn.neighbors import KNeighborsClassifier\n",
    "import random"
   ]
  },
  {
   "cell_type": "code",
   "execution_count": 15,
   "metadata": {},
   "outputs": [
    {
     "data": {
      "text/plain": [
       "[1, 3.0, 5, 0]"
      ]
     },
     "execution_count": 15,
     "metadata": {},
     "output_type": "execute_result"
    }
   ],
   "source": [
    "def feature_nn(datum):\n",
    "    feat = [1, datum['stars'], datum['review_count'], datum['is_open']] #keeping both features and labels together so that shuffling can be done conveniently\n",
    "    return feat\n",
    "\n",
    "dataset = [feature_nn(d) for d in data]\n",
    "dataset[0]"
   ]
  },
  {
   "cell_type": "code",
   "execution_count": 16,
   "metadata": {},
   "outputs": [],
   "source": [
    "random.shuffle(dataset)"
   ]
  },
  {
   "cell_type": "code",
   "execution_count": 17,
   "metadata": {},
   "outputs": [],
   "source": [
    "X_nn = [values[:-1] for values in dataset]\n",
    "y_nn = [values[-1] for values in dataset]"
   ]
  },
  {
   "cell_type": "code",
   "execution_count": 18,
   "metadata": {},
   "outputs": [
    {
     "data": {
      "text/plain": [
       "(10000, 5000, 5000)"
      ]
     },
     "execution_count": 18,
     "metadata": {},
     "output_type": "execute_result"
    }
   ],
   "source": [
    "# creating training and testing datasets with half of the total datasets\n",
    "N = len(X_nn)\n",
    "X_nn_train = X[:N//2]\n",
    "X_nn_test = X[N//2:]\n",
    "y_nn_train = y[:N//2]\n",
    "y_nn_test = y[N//2:]\n",
    "\n",
    "len(X_nn), len(X_nn_train), len(X_nn_test)"
   ]
  },
  {
   "cell_type": "code",
   "execution_count": 19,
   "metadata": {},
   "outputs": [
    {
     "data": {
      "text/plain": [
       "KNeighborsClassifier(n_neighbors=19)"
      ]
     },
     "execution_count": 19,
     "metadata": {},
     "output_type": "execute_result"
    }
   ],
   "source": [
    "neigh = KNeighborsClassifier(n_neighbors=19) # we can modify the n_neighbors values to get different accuracy. For this example, 19 suits the best\n",
    "neigh.fit(X_nn_train, y_nn_train) "
   ]
  },
  {
   "cell_type": "code",
   "execution_count": 20,
   "metadata": {},
   "outputs": [
    {
     "name": "stdout",
     "output_type": "stream",
     "text": [
      "Training Accuracy:  0.8154\n",
      "Testing Accuracy:  0.825\n"
     ]
    }
   ],
   "source": [
    "# Model's predictions\n",
    "predictionsTrain_nn = neigh.predict(X_nn_train)\n",
    "predictionsTest_nn = neigh.predict(X_nn_test)\n",
    "\n",
    "# Whether model prediction was correct\n",
    "correctPredictionsTrain_nn = predictionsTrain_nn == y_nn_train\n",
    "correctPredictionsTest_nn = predictionsTest_nn == y_nn_test\n",
    "\n",
    "print(\"Training Accuracy: \", sum(correctPredictionsTrain_nn) / len(correctPredictionsTrain_nn)) # Training accuracy\n",
    "print(\"Testing Accuracy: \", sum(correctPredictionsTest_nn) / len(correctPredictionsTest_nn)) # Test accuracy"
   ]
  },
  {
   "cell_type": "markdown",
   "metadata": {},
   "source": [
    "# Gradient Descent"
   ]
  },
  {
   "cell_type": "markdown",
   "metadata": {},
   "source": [
    "## 1. without Tensorflow"
   ]
  },
  {
   "cell_type": "code",
   "execution_count": 21,
   "metadata": {},
   "outputs": [
    {
     "data": {
      "text/plain": [
       "0.8204"
      ]
     },
     "execution_count": 21,
     "metadata": {},
     "output_type": "execute_result"
    }
   ],
   "source": [
    "K = len(X[0])\n",
    "theta = [0.0]*K\n",
    "theta[0] = sum(y)/len(y)\n",
    "theta[0]"
   ]
  },
  {
   "cell_type": "code",
   "execution_count": 22,
   "metadata": {},
   "outputs": [],
   "source": [
    "#Defining the inner product of a vector\n",
    "def inner(x,y):\n",
    "    return sum([a*b for (a,b) in zip(x,y)])\n",
    "\n",
    "#Defining the 2-norm of a vector\n",
    "def norm(x):\n",
    "    return sum([a*a for a in x])"
   ]
  },
  {
   "cell_type": "code",
   "execution_count": 23,
   "metadata": {},
   "outputs": [],
   "source": [
    "def derivative(X, y, theta):\n",
    "    dtheta = [0.0]*len(theta) # Initialize the derivative vector to be a vector of zeros\n",
    "    K = len(theta)\n",
    "    N = len(X)\n",
    "    MSE = 0 # Compute the MSE as we go\n",
    "    for i in range(N):\n",
    "        error = inner(X[i],theta) - y[i]\n",
    "        for k in range(K):\n",
    "            dtheta[k] += 2*X[i][k]*error/N\n",
    "        MSE += error*error/N\n",
    "    return dtheta, MSE"
   ]
  },
  {
   "cell_type": "code",
   "execution_count": 24,
   "metadata": {},
   "outputs": [],
   "source": [
    "learningRate = 0.01"
   ]
  },
  {
   "cell_type": "code",
   "execution_count": 25,
   "metadata": {},
   "outputs": [
    {
     "name": "stdout",
     "output_type": "stream",
     "text": [
      "norm(dtheta) = 7.2223843458204335 MSE = 0.14734383999997866\n",
      "norm(dtheta) = 409184.07184693025 MSE = 8.706558902734299\n",
      "norm(dtheta) = 23183086660.908123 MSE = 484947.12356932246\n",
      "norm(dtheta) = 1313481008522558.8 MSE = 27475575316.451622\n",
      "norm(dtheta) = 7.441771602650993e+19 MSE = 1556679958284007.8\n",
      "norm(dtheta) = 4.2162744818300776e+24 MSE = 8.819660606287831e+19\n",
      "norm(dtheta) = 2.3888089362753165e+29 MSE = 4.996943192861162e+24\n",
      "norm(dtheta) = 1.3534242513432216e+34 MSE = 2.831111353069549e+29\n",
      "norm(dtheta) = 7.668077493799638e+38 MSE = 1.6040189340014617e+34\n",
      "norm(dtheta) = 4.3444923048009444e+43 MSE = 9.087868401381243e+38\n",
      "norm(dtheta) = 2.4614531349920208e+48 MSE = 5.148901320933365e+43\n",
      "norm(dtheta) = 1.394582176855688e+53 MSE = 2.9172060643703755e+48\n",
      "norm(dtheta) = 7.90126539626263e+57 MSE = 1.6527974982548564e+53\n",
      "norm(dtheta) = 4.476609259623338e+62 MSE = 9.364232453790814e+57\n",
      "norm(dtheta) = 2.5363064595736454e+67 MSE = 5.305480528692776e+62\n",
      "norm(dtheta) = 1.4369917238244556e+72 MSE = 3.005918934545982e+67\n",
      "norm(dtheta) = 8.141544593499359e+76 MSE = 1.7030594292441329e+72\n",
      "norm(dtheta) = 4.612743919744285e+81 MSE = 9.649000797074127e+76\n",
      "norm(dtheta) = 2.61343609001742e+86 MSE = 5.466821344176937e+81\n",
      "norm(dtheta) = 1.480690954329924e+91 MSE = 3.0973295823761903e+86\n",
      "norm(dtheta) = 8.38913073332457e+95 MSE = 1.7548498364742168e+91\n",
      "norm(dtheta) = 4.753018464454638e+100 MSE = 9.942429007542441e+95\n",
      "norm(dtheta) = 2.6929112492792855e+105 MSE = 5.6330685689111705e+100\n",
      "norm(dtheta) = 1.5257190879286203e+110 MSE = 3.1915200478656016e+105\n",
      "norm(dtheta) = 8.644246021448647e+114 MSE = 1.8082152012394343e+110\n",
      "norm(dtheta) = 4.897558788543404e+119 MSE = 1.0244780433636864e+115\n",
      "norm(dtheta) = 2.7748032654002296e+124 MSE = 5.8043714078658444e+119\n",
      "norm(dtheta) = 1.5721165368524042e+129 MSE = 3.2885748658734615e+124\n",
      "norm(dtheta) = 8.907119420908983e+133 MSE = 1.8632034183408106e+129\n",
      "norm(dtheta) = 5.04649461528949e+138 MSE = 1.0556326432285383e+134\n",
      "norm(dtheta) = 2.8591856355225924e+143 MSE = 5.980883603369186e+138\n",
      "norm(dtheta) = 1.6199249422778947e+148 MSE = 3.388581141982321e+143\n",
      "norm(dtheta) = 9.177986857556542e+152 MSE = 1.919863839070519e+148\n",
      "norm(dtheta) = 5.1999596128833733e+157 MSE = 1.0877346612436658e+153\n",
      "norm(dtheta) = 2.946134091852107e+162 MSE = 6.162763573084885e+157\n",
      "norm(dtheta) = 1.669187211698467e+167 MSE = 3.491628630673578e+162\n",
      "norm(dtheta) = 9.457091431796462e+171 MSE = 1.9782473155038164e+167\n",
      "norm(dtheta) = 5.358091514393616e+176 MSE = 1.1208129086004866e+172\n",
      "norm(dtheta) = 3.035726669628048e+181 MSE = 6.350174552192526e+176\n",
      "norm(dtheta) = 1.7199475574343646e+186 MSE = 3.5978098158829126e+181\n",
      "norm(dtheta) = 9.74468363677482e+190 MSE = 2.0384062461392033e+186\n",
      "norm(dtheta) = 5.521032241382723e+195 MSE = 1.1548970726457558e+191\n",
      "norm(dtheta) = 3.128043777157854e+200 MSE = 6.543284739889402e+195\n",
      "norm(dtheta) = 1.772251536311653e+205 MSE = 3.707219994001936e+200\n",
      "norm(dtheta) = 1.0041021583185176e+210 MSE = 2.1003946229246047e+205\n",
      "norm(dtheta) = 5.688928031278088e+214 MSE = 1.1900177435243935e+210\n",
      "norm(dtheta) = 3.223168267983708e+219 MSE = 6.742267450347014e+214\n",
      "norm(dtheta) = 1.8261460905495532e+224 MSE = 3.8199573594070656e+219\n",
      "norm(dtheta) = 1.0346371230924936e+229 MSE = 2.164268079714941e+224\n",
      "norm(dtheta) = 5.861929568619286e+233 MSE = 1.2262064416343437e+229\n",
      "norm(dtheta) = 3.32118551524089e+238 MSE = 6.947301268258203e+233\n",
      "norm(dtheta) = 1.8816795898903224e+243 MSE = 3.9361230925857556e+238\n",
      "norm(dtheta) = 1.066100662778857e+248 MSE = 2.230083942202647e+243\n",
      "norm(dtheta) = 6.040192120294913e+252 MSE = 1.2634956459156553e+248\n",
      "norm(dtheta) = 3.422183488281087e+257 MSE = 7.158570209114888e+252\n",
      "norm(dtheta) = 1.9389018750105374e+262 MSE = 4.0558214509472237e+257\n",
      "norm(dtheta) = 1.098521015542548e+267 MSE = 2.2979012793669062e+262\n",
      "norm(dtheta) = 6.223875674894897e+271 MSE = 1.3019188230002244e+267\n",
      "norm(dtheta) = 3.526252831623572e+276 MSE = 7.376263884361696e+271\n",
      "norm(dtheta) = 1.9978643022528723e+281 MSE = 4.179159862391238e+276\n",
      "norm(dtheta) = 1.1319272782770926e+286 MSE = 2.3677809564878514e+281\n",
      "norm(dtheta) = 6.413145086295282e+290 MSE = 1.3415104572474128e+286\n",
      "norm(dtheta) = 3.6334869463058447e+295 MSE = 7.600577671566688e+290\n",
      "norm(dtheta) = 2.0586197897171644e+300 MSE = 4.30624902172212e+295\n",
      "norm(dtheta) = 1.1663494327188299e+305 MSE = 2.4397856897711218e+300\n",
      "norm(dtheta) = inf MSE = inf\n"
     ]
    }
   ],
   "source": [
    "while (True):\n",
    "    dtheta,MSE = derivative(X, y, theta)\n",
    "    m = norm(dtheta)\n",
    "    print(\"norm(dtheta) = \" + str(m) + \" MSE = \" + str(MSE))\n",
    "    for k in range(K):\n",
    "        theta[k] -= learningRate * dtheta[k]\n",
    "    if m < 0.01 or str(m) == 'inf': break"
   ]
  },
  {
   "cell_type": "code",
   "execution_count": 26,
   "metadata": {},
   "outputs": [
    {
     "data": {
      "text/plain": [
       "[-2.184756638873396e+150, -8.133107410175173e+150, -8.094618232776827e+152]"
      ]
     },
     "execution_count": 26,
     "metadata": {},
     "output_type": "execute_result"
    }
   ],
   "source": [
    "theta"
   ]
  },
  {
   "cell_type": "markdown",
   "metadata": {},
   "source": [
    "## 2. with Tensorflow (Classification with Tensorflow)"
   ]
  },
  {
   "cell_type": "code",
   "execution_count": 27,
   "metadata": {},
   "outputs": [],
   "source": [
    "!pip install -q tensorflow-hub\n",
    "!pip install -q tensorflow-datasets"
   ]
  },
  {
   "cell_type": "code",
   "execution_count": 28,
   "metadata": {},
   "outputs": [],
   "source": [
    "import tensorflow as tf\n",
    "import tensorflow_hub as hub\n",
    "import tensorflow_datasets as tfds\n",
    "import os"
   ]
  },
  {
   "cell_type": "code",
   "execution_count": 29,
   "metadata": {},
   "outputs": [],
   "source": [
    "# Split the training set into 60% and 40%, so we'll end up with 15,000 examples\n",
    "# for training, 10,000 examples for validation and 25,000 examples for testing.\n",
    "train_data, validation_data, test_data = tfds.load(\n",
    "    name=\"imdb_reviews\", \n",
    "    split=('train[:60%]', 'train[60%:]', 'test'),\n",
    "    as_supervised=True)"
   ]
  },
  {
   "cell_type": "code",
   "execution_count": 30,
   "metadata": {},
   "outputs": [
    {
     "data": {
      "text/plain": [
       "<tf.Tensor: shape=(10,), dtype=string, numpy=\n",
       "array([b\"This was an absolutely terrible movie. Don't be lured in by Christopher Walken or Michael Ironside. Both are great actors, but this must simply be their worst role in history. Even their great acting could not redeem this movie's ridiculous storyline. This movie is an early nineties US propaganda piece. The most pathetic scenes were those when the Columbian rebels were making their cases for revolutions. Maria Conchita Alonso appeared phony, and her pseudo-love affair with Walken was nothing but a pathetic emotional plug in a movie that was devoid of any real meaning. I am disappointed that there are movies like this, ruining actor's like Christopher Walken's good name. I could barely sit through it.\",\n",
       "       b'I have been known to fall asleep during films, but this is usually due to a combination of things including, really tired, being warm and comfortable on the sette and having just eaten a lot. However on this occasion I fell asleep because the film was rubbish. The plot development was constant. Constantly slow and boring. Things seemed to happen, but with no explanation of what was causing them or why. I admit, I may have missed part of the film, but i watched the majority of it and everything just seemed to happen of its own accord without any real concern for anything else. I cant recommend this film at all.',\n",
       "       b'Mann photographs the Alberta Rocky Mountains in a superb fashion, and Jimmy Stewart and Walter Brennan give enjoyable performances as they always seem to do. <br /><br />But come on Hollywood - a Mountie telling the people of Dawson City, Yukon to elect themselves a marshal (yes a marshal!) and to enforce the law themselves, then gunfighters battling it out on the streets for control of the town? <br /><br />Nothing even remotely resembling that happened on the Canadian side of the border during the Klondike gold rush. Mr. Mann and company appear to have mistaken Dawson City for Deadwood, the Canadian North for the American Wild West.<br /><br />Canadian viewers be prepared for a Reefer Madness type of enjoyable howl with this ludicrous plot, or, to shake your head in disgust.',\n",
       "       b'This is the kind of film for a snowy Sunday afternoon when the rest of the world can go ahead with its own business as you descend into a big arm-chair and mellow for a couple of hours. Wonderful performances from Cher and Nicolas Cage (as always) gently row the plot along. There are no rapids to cross, no dangerous waters, just a warm and witty paddle through New York life at its best. A family film in every sense and one that deserves the praise it received.',\n",
       "       b'As others have mentioned, all the women that go nude in this film are mostly absolutely gorgeous. The plot very ably shows the hypocrisy of the female libido. When men are around they want to be pursued, but when no \"men\" are around, they become the pursuers of a 14 year old boy. And the boy becomes a man really fast (we should all be so lucky at this age!). He then gets up the courage to pursue his true love.',\n",
       "       b\"This is a film which should be seen by anybody interested in, effected by, or suffering from an eating disorder. It is an amazingly accurate and sensitive portrayal of bulimia in a teenage girl, its causes and its symptoms. The girl is played by one of the most brilliant young actresses working in cinema today, Alison Lohman, who was later so spectacular in 'Where the Truth Lies'. I would recommend that this film be shown in all schools, as you will never see a better on this subject. Alison Lohman is absolutely outstanding, and one marvels at her ability to convey the anguish of a girl suffering from this compulsive disorder. If barometers tell us the air pressure, Alison Lohman tells us the emotional pressure with the same degree of accuracy. Her emotional range is so precise, each scene could be measured microscopically for its gradations of trauma, on a scale of rising hysteria and desperation which reaches unbearable intensity. Mare Winningham is the perfect choice to play her mother, and does so with immense sympathy and a range of emotions just as finely tuned as Lohman's. Together, they make a pair of sensitive emotional oscillators vibrating in resonance with one another. This film is really an astonishing achievement, and director Katt Shea should be proud of it. The only reason for not seeing it is if you are not interested in people. But even if you like nature films best, this is after all animal behaviour at the sharp edge. Bulimia is an extreme version of how a tormented soul can destroy her own body in a frenzy of despair. And if we don't sympathise with people suffering from the depths of despair, then we are dead inside.\",\n",
       "       b'Okay, you have:<br /><br />Penelope Keith as Miss Herringbone-Tweed, B.B.E. (Backbone of England.) She\\'s killed off in the first scene - that\\'s right, folks; this show has no backbone!<br /><br />Peter O\\'Toole as Ol\\' Colonel Cricket from The First War and now the emblazered Lord of the Manor.<br /><br />Joanna Lumley as the ensweatered Lady of the Manor, 20 years younger than the colonel and 20 years past her own prime but still glamourous (Brit spelling, not mine) enough to have a toy-boy on the side. It\\'s alright, they have Col. Cricket\\'s full knowledge and consent (they guy even comes \\'round for Christmas!) Still, she\\'s considerate of the colonel enough to have said toy-boy her own age (what a gal!)<br /><br />David McCallum as said toy-boy, equally as pointlessly glamourous as his squeeze. Pilcher couldn\\'t come up with any cover for him within the story, so she gave him a hush-hush job at the Circus.<br /><br />and finally:<br /><br />Susan Hampshire as Miss Polonia Teacups, Venerable Headmistress of the Venerable Girls\\' Boarding-School, serving tea in her office with a dash of deep, poignant advice for life in the outside world just before graduation. Her best bit of advice: \"I\\'ve only been to Nancherrow (the local Stately Home of England) once. I thought it was very beautiful but, somehow, not part of the real world.\" Well, we can\\'t say they didn\\'t warn us.<br /><br />Ah, Susan - time was, your character would have been running the whole show. They don\\'t write \\'em like that any more. Our loss, not yours.<br /><br />So - with a cast and setting like this, you have the re-makings of \"Brideshead Revisited,\" right?<br /><br />Wrong! They took these 1-dimensional supporting roles because they paid so well. After all, acting is one of the oldest temp-jobs there is (YOU name another!)<br /><br />First warning sign: lots and lots of backlighting. They get around it by shooting outdoors - \"hey, it\\'s just the sunlight!\"<br /><br />Second warning sign: Leading Lady cries a lot. When not crying, her eyes are moist. That\\'s the law of romance novels: Leading Lady is \"dewy-eyed.\"<br /><br />Henceforth, Leading Lady shall be known as L.L.<br /><br />Third warning sign: L.L. actually has stars in her eyes when she\\'s in love. Still, I\\'ll give Emily Mortimer an award just for having to act with that spotlight in her eyes (I wonder . did they use contacts?)<br /><br />And lastly, fourth warning sign: no on-screen female character is \"Mrs.\" She\\'s either \"Miss\" or \"Lady.\"<br /><br />When all was said and done, I still couldn\\'t tell you who was pursuing whom and why. I couldn\\'t even tell you what was said and done.<br /><br />To sum up: they all live through World War II without anything happening to them at all.<br /><br />OK, at the end, L.L. finds she\\'s lost her parents to the Japanese prison camps and baby sis comes home catatonic. Meanwhile (there\\'s always a \"meanwhile,\") some young guy L.L. had a crush on (when, I don\\'t know) comes home from some wartime tough spot and is found living on the street by Lady of the Manor (must be some street if SHE\\'s going to find him there.) Both war casualties are whisked away to recover at Nancherrow (SOMEBODY has to be \"whisked away\" SOMEWHERE in these romance stories!)<br /><br />Great drama.',\n",
       "       b'The film is based on a genuine 1950s novel.<br /><br />Journalist Colin McInnes wrote a set of three \"London novels\": \"Absolute Beginners\", \"City of Spades\" and \"Mr Love and Justice\". I have read all three. The first two are excellent. The last, perhaps an experiment that did not come off. But McInnes\\'s work is highly acclaimed; and rightly so. This musical is the novelist\\'s ultimate nightmare - to see the fruits of one\\'s mind being turned into a glitzy, badly-acted, soporific one-dimensional apology of a film that says it captures the spirit of 1950s London, and does nothing of the sort.<br /><br />Thank goodness Colin McInnes wasn\\'t alive to witness it.',\n",
       "       b'I really love the sexy action and sci-fi films of the sixties and its because of the actress\\'s that appeared in them. They found the sexiest women to be in these films and it didn\\'t matter if they could act (Remember \"Candy\"?). The reason I was disappointed by this film was because it wasn\\'t nostalgic enough. The story here has a European sci-fi film called \"Dragonfly\" being made and the director is fired. So the producers decide to let a young aspiring filmmaker (Jeremy Davies) to complete the picture. They\\'re is one real beautiful woman in the film who plays Dragonfly but she\\'s barely in it. Film is written and directed by Roman Coppola who uses some of his fathers exploits from his early days and puts it into the script. I wish the film could have been an homage to those early films. They could have lots of cameos by actors who appeared in them. There is one actor in this film who was popular from the sixties and its John Phillip Law (Barbarella). Gerard Depardieu, Giancarlo Giannini and Dean Stockwell appear as well. I guess I\\'m going to have to continue waiting for a director to make a good homage to the films of the sixties. If any are reading this, \"Make it as sexy as you can\"! I\\'ll be waiting!',\n",
       "       b'Sure, this one isn\\'t really a blockbuster, nor does it target such a position. \"Dieter\" is the first name of a quite popular German musician, who is either loved or hated for his kind of acting and thats exactly what this movie is about. It is based on the autobiography \"Dieter Bohlen\" wrote a few years ago but isn\\'t meant to be accurate on that. The movie is filled with some sexual offensive content (at least for American standard) which is either amusing (not for the other \"actors\" of course) or dumb - it depends on your individual kind of humor or on you being a \"Bohlen\"-Fan or not. Technically speaking there isn\\'t much to criticize. Speaking of me I find this movie to be an OK-movie.'],\n",
       "      dtype=object)>"
      ]
     },
     "execution_count": 30,
     "metadata": {},
     "output_type": "execute_result"
    }
   ],
   "source": [
    "train_examples_batch, train_labels_batch = next(iter(train_data.batch(10)))\n",
    "train_examples_batch"
   ]
  },
  {
   "cell_type": "code",
   "execution_count": 31,
   "metadata": {},
   "outputs": [
    {
     "data": {
      "text/plain": [
       "<tf.Tensor: shape=(10,), dtype=int64, numpy=array([0, 0, 0, 1, 1, 1, 0, 0, 0, 0], dtype=int64)>"
      ]
     },
     "execution_count": 31,
     "metadata": {},
     "output_type": "execute_result"
    }
   ],
   "source": [
    "train_labels_batch"
   ]
  },
  {
   "cell_type": "markdown",
   "metadata": {},
   "source": [
    "#### Here the input to our model is a text. To process text is to convert it into an embedding vector as the first input layer to our model"
   ]
  },
  {
   "cell_type": "code",
   "execution_count": 32,
   "metadata": {},
   "outputs": [
    {
     "data": {
      "text/plain": [
       "<tf.Tensor: shape=(3, 50), dtype=float32, numpy=\n",
       "array([[ 0.5423195 , -0.0119017 ,  0.06337538,  0.06862972, -0.16776837,\n",
       "        -0.10581174,  0.16865303, -0.04998824, -0.31148055,  0.07910346,\n",
       "         0.15442263,  0.01488662,  0.03930153,  0.19772711, -0.12215476,\n",
       "        -0.04120981, -0.2704109 , -0.21922152,  0.26517662, -0.80739075,\n",
       "         0.25833532, -0.3100421 ,  0.28683215,  0.1943387 , -0.29036492,\n",
       "         0.03862849, -0.7844411 , -0.0479324 ,  0.4110299 , -0.36388892,\n",
       "        -0.58034706,  0.30269456,  0.3630897 , -0.15227164, -0.44391504,\n",
       "         0.19462997,  0.19528408,  0.05666234,  0.2890704 , -0.28468323,\n",
       "        -0.00531206,  0.0571938 , -0.3201318 , -0.04418665, -0.08550783,\n",
       "        -0.55847436, -0.23336391, -0.20782952, -0.03543064, -0.17533456],\n",
       "       [ 0.56338924, -0.12339553, -0.10862679,  0.7753425 , -0.07667089,\n",
       "        -0.15752277,  0.01872335, -0.08169781, -0.3521876 ,  0.4637341 ,\n",
       "        -0.08492756,  0.07166859, -0.00670817,  0.12686075, -0.19326553,\n",
       "        -0.52626437, -0.3295823 ,  0.14394785,  0.09043556, -0.5417555 ,\n",
       "         0.02468163, -0.15456742,  0.68333143,  0.09068331, -0.45327246,\n",
       "         0.23180096, -0.8615696 ,  0.34480393,  0.12838456, -0.58759046,\n",
       "        -0.4071231 ,  0.23061076,  0.48426893, -0.27128142, -0.5380916 ,\n",
       "         0.47016326,  0.22572741, -0.00830663,  0.2846242 , -0.304985  ,\n",
       "         0.04400365,  0.25025874,  0.14867121,  0.40717036, -0.15422426,\n",
       "        -0.06878027, -0.40825695, -0.3149215 ,  0.09283665, -0.20183425],\n",
       "       [ 0.7456154 ,  0.21256861,  0.14400336,  0.5233862 ,  0.11032254,\n",
       "         0.00902788, -0.3667802 , -0.08938274, -0.24165542,  0.33384594,\n",
       "        -0.11194605, -0.01460047, -0.0071645 ,  0.19562712,  0.00685216,\n",
       "        -0.24886718, -0.42796347,  0.18620004, -0.05241098, -0.66462487,\n",
       "         0.13449019, -0.22205497,  0.08633006,  0.43685386,  0.2972681 ,\n",
       "         0.36140734, -0.7196889 ,  0.05291241, -0.14316116, -0.1573394 ,\n",
       "        -0.15056328, -0.05988009, -0.08178931, -0.15569411, -0.09303783,\n",
       "        -0.18971172,  0.07620788, -0.02541647, -0.27134508, -0.3392682 ,\n",
       "        -0.10296468, -0.27275252, -0.34078008,  0.20083304, -0.26644835,\n",
       "         0.00655449, -0.05141488, -0.04261917, -0.45413622,  0.20023568]],\n",
       "      dtype=float32)>"
      ]
     },
     "execution_count": 32,
     "metadata": {},
     "output_type": "execute_result"
    }
   ],
   "source": [
    "embedding = \"https://tfhub.dev/google/nnlm-en-dim50/2\" #this contains pre-trained texts as inputs for this model\n",
    "hub_layer = hub.KerasLayer(embedding, input_shape=[], \n",
    "                           dtype=tf.string, trainable=True)\n",
    "hub_layer(train_examples_batch[:3])"
   ]
  },
  {
   "cell_type": "code",
   "execution_count": 33,
   "metadata": {},
   "outputs": [
    {
     "name": "stdout",
     "output_type": "stream",
     "text": [
      "WARNING:tensorflow:AutoGraph could not transform <bound method KerasLayer.call of <tensorflow_hub.keras_layer.KerasLayer object at 0x00000260FD322D00>> and will run it as-is.\n",
      "Please report this to the TensorFlow team. When filing the bug, set the verbosity to 10 (on Linux, `export AUTOGRAPH_VERBOSITY=10`) and attach the full output.\n",
      "Cause: module 'gast' has no attribute 'Index'\n",
      "To silence this warning, decorate the function with @tf.autograph.experimental.do_not_convert\n"
     ]
    },
    {
     "name": "stderr",
     "output_type": "stream",
     "text": [
      "WARNING:tensorflow:AutoGraph could not transform <bound method KerasLayer.call of <tensorflow_hub.keras_layer.KerasLayer object at 0x00000260FD322D00>> and will run it as-is.\n",
      "Please report this to the TensorFlow team. When filing the bug, set the verbosity to 10 (on Linux, `export AUTOGRAPH_VERBOSITY=10`) and attach the full output.\n",
      "Cause: module 'gast' has no attribute 'Index'\n",
      "To silence this warning, decorate the function with @tf.autograph.experimental.do_not_convert\n"
     ]
    },
    {
     "name": "stdout",
     "output_type": "stream",
     "text": [
      "WARNING: AutoGraph could not transform <bound method KerasLayer.call of <tensorflow_hub.keras_layer.KerasLayer object at 0x00000260FD322D00>> and will run it as-is.\n",
      "Please report this to the TensorFlow team. When filing the bug, set the verbosity to 10 (on Linux, `export AUTOGRAPH_VERBOSITY=10`) and attach the full output.\n",
      "Cause: module 'gast' has no attribute 'Index'\n",
      "To silence this warning, decorate the function with @tf.autograph.experimental.do_not_convert\n",
      "Model: \"sequential\"\n",
      "_________________________________________________________________\n",
      "Layer (type)                 Output Shape              Param #   \n",
      "=================================================================\n",
      "keras_layer (KerasLayer)     (None, 50)                48190600  \n",
      "_________________________________________________________________\n",
      "dense (Dense)                (None, 16)                816       \n",
      "_________________________________________________________________\n",
      "dense_1 (Dense)              (None, 1)                 17        \n",
      "=================================================================\n",
      "Total params: 48,191,433\n",
      "Trainable params: 48,191,433\n",
      "Non-trainable params: 0\n",
      "_________________________________________________________________\n"
     ]
    }
   ],
   "source": [
    "model = tf.keras.Sequential()\n",
    "model.add(hub_layer)\n",
    "model.add(tf.keras.layers.Dense(16, activation='relu')) # using rectified linear unit (RELU) as our activation function\n",
    "model.add(tf.keras.layers.Dense(1))\n",
    "\n",
    "model.summary()"
   ]
  },
  {
   "cell_type": "code",
   "execution_count": 34,
   "metadata": {},
   "outputs": [],
   "source": [
    "model.compile(optimizer='adam',\n",
    "              loss=tf.keras.losses.BinaryCrossentropy(from_logits=True),\n",
    "              metrics=['accuracy'])"
   ]
  },
  {
   "cell_type": "code",
   "execution_count": 35,
   "metadata": {},
   "outputs": [
    {
     "name": "stdout",
     "output_type": "stream",
     "text": [
      "Epoch 1/10\n",
      "30/30 [==============================] - 25s 830ms/step - loss: 0.6717 - accuracy: 0.5351 - val_loss: 0.6239 - val_accuracy: 0.6258\n",
      "Epoch 2/10\n",
      "30/30 [==============================] - 20s 667ms/step - loss: 0.5587 - accuracy: 0.7051 - val_loss: 0.5180 - val_accuracy: 0.7395\n",
      "Epoch 3/10\n",
      "30/30 [==============================] - 20s 664ms/step - loss: 0.4288 - accuracy: 0.8199 - val_loss: 0.4179 - val_accuracy: 0.8136\n",
      "Epoch 4/10\n",
      "30/30 [==============================] - 20s 661ms/step - loss: 0.3100 - accuracy: 0.8831 - val_loss: 0.3522 - val_accuracy: 0.8439\n",
      "Epoch 5/10\n",
      "30/30 [==============================] - 20s 661ms/step - loss: 0.2233 - accuracy: 0.9224 - val_loss: 0.3204 - val_accuracy: 0.8575\n",
      "Epoch 6/10\n",
      "30/30 [==============================] - 20s 658ms/step - loss: 0.1626 - accuracy: 0.9495 - val_loss: 0.3087 - val_accuracy: 0.8656\n",
      "Epoch 7/10\n",
      "30/30 [==============================] - 20s 665ms/step - loss: 0.1184 - accuracy: 0.9670 - val_loss: 0.3075 - val_accuracy: 0.8666\n",
      "Epoch 8/10\n",
      "30/30 [==============================] - 20s 677ms/step - loss: 0.0857 - accuracy: 0.9802 - val_loss: 0.3127 - val_accuracy: 0.8675\n",
      "Epoch 9/10\n",
      "30/30 [==============================] - 21s 690ms/step - loss: 0.0622 - accuracy: 0.9875 - val_loss: 0.3252 - val_accuracy: 0.8690\n",
      "Epoch 10/10\n",
      "30/30 [==============================] - 20s 665ms/step - loss: 0.0453 - accuracy: 0.9933 - val_loss: 0.3323 - val_accuracy: 0.8667\n"
     ]
    }
   ],
   "source": [
    "history = model.fit(train_data.shuffle(10000).batch(512),\n",
    "                    epochs=10,\n",
    "                    validation_data=validation_data.batch(512), # there are 10 epochs with 512 samples tested for each epoch\n",
    "                    verbose=1)"
   ]
  },
  {
   "cell_type": "code",
   "execution_count": 36,
   "metadata": {},
   "outputs": [
    {
     "name": "stdout",
     "output_type": "stream",
     "text": [
      "49/49 - 2s - loss: 0.3553 - accuracy: 0.8546\n",
      "loss: 0.355\n",
      "accuracy: 0.855\n"
     ]
    }
   ],
   "source": [
    "results = model.evaluate(test_data.batch(512), verbose=2)\n",
    "\n",
    "for name, value in zip(model.metrics_names, results):\n",
    "  print(\"%s: %.3f\" % (name, value))"
   ]
  },
  {
   "cell_type": "markdown",
   "metadata": {},
   "source": [
    "#### hence we have achieved an accuracy of fairly 86% of predicting whether a movie is a hit or miss by training the data with all the texts provided by users and to use that pre-trained text to predict whether the next movie is a hit or not with the information we gathered so far."
   ]
  }
 ],
 "metadata": {
  "kernelspec": {
   "display_name": "Python 3",
   "language": "python",
   "name": "python3"
  },
  "language_info": {
   "codemirror_mode": {
    "name": "ipython",
    "version": 3
   },
   "file_extension": ".py",
   "mimetype": "text/x-python",
   "name": "python",
   "nbconvert_exporter": "python",
   "pygments_lexer": "ipython3",
   "version": "3.8.5"
  }
 },
 "nbformat": 4,
 "nbformat_minor": 4
}
