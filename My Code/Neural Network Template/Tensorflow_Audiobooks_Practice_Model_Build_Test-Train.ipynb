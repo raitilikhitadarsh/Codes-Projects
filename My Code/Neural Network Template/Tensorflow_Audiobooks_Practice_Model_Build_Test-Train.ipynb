{
 "cells": [
  {
   "cell_type": "code",
   "execution_count": 1,
   "metadata": {},
   "outputs": [],
   "source": [
    "import numpy as np\n",
    "import tensorflow as tf"
   ]
  },
  {
   "cell_type": "code",
   "execution_count": 2,
   "metadata": {},
   "outputs": [],
   "source": [
    "npz = np.load('Audiobooks_data_train.npz')\n",
    "\n",
    "train_inputs, train_targets = npz['inputs'].astype(np.float), npz['targets'].astype(np.int)\n",
    "\n",
    "npz = np.load('Audiobooks_data_validation.npz')\n",
    "\n",
    "validation_inputs, validation_targets = npz['inputs'].astype(np.float), npz['targets'].astype(np.int)\n",
    "\n",
    "npz = np.load('Audiobooks_data_test.npz')\n",
    "\n",
    "test_inputs, test_targets = npz['inputs'].astype(np.float), npz['targets'].astype(np.int)"
   ]
  },
  {
   "cell_type": "markdown",
   "metadata": {},
   "source": [
    "## Model"
   ]
  },
  {
   "cell_type": "markdown",
   "metadata": {},
   "source": [
    "### Outlining the model"
   ]
  },
  {
   "cell_type": "code",
   "execution_count": 3,
   "metadata": {},
   "outputs": [],
   "source": [
    "input_size = 10\n",
    "output_size = 2\n",
    "\n",
    "hidden_layer_size = 50\n",
    "\n",
    "model = tf.keras.Sequential([\n",
    "                            tf.keras.layers.Dense(hidden_layer_size, activation = 'relu'),\n",
    "                            tf.keras.layers.Dense(hidden_layer_size, activation = 'relu'),\n",
    "                            tf.keras.layers.Dense(output_size, activation = 'softmax')\n",
    "    \n",
    "                            ])"
   ]
  },
  {
   "cell_type": "markdown",
   "metadata": {},
   "source": [
    "### Optimizer"
   ]
  },
  {
   "cell_type": "code",
   "execution_count": 4,
   "metadata": {},
   "outputs": [],
   "source": [
    "model.compile(optimizer = 'adam', loss = 'sparse_categorical_crossentropy', metrics = ['accuracy'])"
   ]
  },
  {
   "cell_type": "markdown",
   "metadata": {},
   "source": [
    "### Batching and Training"
   ]
  },
  {
   "cell_type": "code",
   "execution_count": 5,
   "metadata": {},
   "outputs": [
    {
     "name": "stdout",
     "output_type": "stream",
     "text": [
      "Epoch 1/100\n",
      "36/36 - 0s - loss: 0.5363 - accuracy: 0.7863 - val_loss: 0.4068 - val_accuracy: 0.8591\n",
      "Epoch 2/100\n",
      "36/36 - 0s - loss: 0.3642 - accuracy: 0.8740 - val_loss: 0.3361 - val_accuracy: 0.8747\n",
      "Epoch 3/100\n",
      "36/36 - 0s - loss: 0.3195 - accuracy: 0.8824 - val_loss: 0.3032 - val_accuracy: 0.8837\n",
      "Epoch 4/100\n",
      "36/36 - 0s - loss: 0.2974 - accuracy: 0.8894 - val_loss: 0.2879 - val_accuracy: 0.8881\n",
      "Epoch 5/100\n",
      "36/36 - 0s - loss: 0.2831 - accuracy: 0.8949 - val_loss: 0.2816 - val_accuracy: 0.8926\n",
      "Epoch 6/100\n",
      "36/36 - 0s - loss: 0.2735 - accuracy: 0.9000 - val_loss: 0.2768 - val_accuracy: 0.8926\n",
      "Epoch 7/100\n",
      "36/36 - 0s - loss: 0.2649 - accuracy: 0.9000 - val_loss: 0.2718 - val_accuracy: 0.8926\n",
      "Epoch 8/100\n",
      "36/36 - 0s - loss: 0.2593 - accuracy: 0.9064 - val_loss: 0.2737 - val_accuracy: 0.8881\n",
      "Epoch 9/100\n",
      "36/36 - 0s - loss: 0.2543 - accuracy: 0.9061 - val_loss: 0.2616 - val_accuracy: 0.8993\n",
      "Epoch 10/100\n",
      "36/36 - 0s - loss: 0.2505 - accuracy: 0.9056 - val_loss: 0.2668 - val_accuracy: 0.8971\n",
      "Epoch 11/100\n",
      "36/36 - 0s - loss: 0.2460 - accuracy: 0.9103 - val_loss: 0.2620 - val_accuracy: 0.8993\n"
     ]
    },
    {
     "data": {
      "text/plain": [
       "<tensorflow.python.keras.callbacks.History at 0x1a5afdf08e0>"
      ]
     },
     "execution_count": 5,
     "metadata": {},
     "output_type": "execute_result"
    }
   ],
   "source": [
    "batch_size = 100\n",
    "max_epochs = 100\n",
    "\n",
    "# we found that in some instances validation loss is increasing i.e. we overfitted the model. To counter that we \n",
    "# need to introduce early_stopping which will stop the training when the model isn't improving (i.e. validation loss\n",
    "# has increased for the very first time)\n",
    "\n",
    "early_stopping = tf.keras.callbacks.EarlyStopping(patience=2)\n",
    "\n",
    "# we define patience to not to be too strict when validation loss has increased. Here we gave the model 2 chances\n",
    "# where the validation loss can increase. By default the value of patience is set to 0.\n",
    "\n",
    "model.fit(train_inputs,\n",
    "         train_targets,\n",
    "         batch_size = batch_size,\n",
    "         epochs = max_epochs,\n",
    "         callbacks = [early_stopping],\n",
    "         validation_data = (validation_inputs,validation_targets),\n",
    "         verbose = 2)"
   ]
  },
  {
   "cell_type": "markdown",
   "metadata": {},
   "source": [
    "## Testing"
   ]
  },
  {
   "cell_type": "code",
   "execution_count": 6,
   "metadata": {},
   "outputs": [
    {
     "name": "stdout",
     "output_type": "stream",
     "text": [
      "14/14 [==============================] - 0s 1ms/step - loss: 0.2731 - accuracy: 0.8862\n"
     ]
    }
   ],
   "source": [
    "test_loss, test_accuracy = model.evaluate(test_inputs, test_targets)"
   ]
  },
  {
   "cell_type": "code",
   "execution_count": 7,
   "metadata": {},
   "outputs": [
    {
     "name": "stdout",
     "output_type": "stream",
     "text": [
      "Test loss :0.27. Test accuracy: 88.62%\n"
     ]
    }
   ],
   "source": [
    "print('Test loss :{0:.2f}. Test accuracy: {1:.2f}%'.format(test_loss, test_accuracy*100.))"
   ]
  },
  {
   "cell_type": "code",
   "execution_count": null,
   "metadata": {},
   "outputs": [],
   "source": []
  }
 ],
 "metadata": {
  "kernelspec": {
   "display_name": "Python 3",
   "language": "python",
   "name": "python3"
  },
  "language_info": {
   "codemirror_mode": {
    "name": "ipython",
    "version": 3
   },
   "file_extension": ".py",
   "mimetype": "text/x-python",
   "name": "python",
   "nbconvert_exporter": "python",
   "pygments_lexer": "ipython3",
   "version": "3.8.5"
  }
 },
 "nbformat": 4,
 "nbformat_minor": 4
}
