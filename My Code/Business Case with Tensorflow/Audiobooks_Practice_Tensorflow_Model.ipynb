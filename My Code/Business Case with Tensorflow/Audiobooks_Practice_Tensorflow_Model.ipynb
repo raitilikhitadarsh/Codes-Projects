{
 "cells": [
  {
   "cell_type": "code",
   "execution_count": 1,
   "metadata": {},
   "outputs": [],
   "source": [
    "import numpy as np\n",
    "import tensorflow as tf"
   ]
  },
  {
   "cell_type": "code",
   "execution_count": 2,
   "metadata": {},
   "outputs": [],
   "source": [
    "npz = np.load('Audiobooks_data_train.npz')\n",
    "\n",
    "train_inputs, train_targets = npz['inputs'].astype(np.float), npz['targets'].astype(np.int)\n",
    "\n",
    "npz = np.load('Audiobooks_data_validation.npz')\n",
    "\n",
    "validation_inputs, validation_targets = npz['inputs'].astype(np.float), npz['targets'].astype(np.int)\n",
    "\n",
    "npz = np.load('Audiobooks_data_test.npz')\n",
    "\n",
    "test_inputs, test_targets = npz['inputs'].astype(np.float), npz['targets'].astype(np.int)"
   ]
  },
  {
   "cell_type": "markdown",
   "metadata": {},
   "source": [
    "## Model"
   ]
  },
  {
   "cell_type": "markdown",
   "metadata": {},
   "source": [
    "### Outlining the model"
   ]
  },
  {
   "cell_type": "code",
   "execution_count": 3,
   "metadata": {},
   "outputs": [],
   "source": [
    "input_size = 10\n",
    "output_size = 2\n",
    "\n",
    "hidden_layer_size = 50\n",
    "\n",
    "model = tf.keras.Sequential([\n",
    "                            tf.keras.layers.Dense(hidden_layer_size, activation = 'relu'),\n",
    "                            tf.keras.layers.Dense(hidden_layer_size, activation = 'relu'),\n",
    "                            tf.keras.layers.Dense(output_size, activation = 'softmax')\n",
    "    \n",
    "                            ])"
   ]
  },
  {
   "cell_type": "markdown",
   "metadata": {},
   "source": [
    "### Optimizer"
   ]
  },
  {
   "cell_type": "code",
   "execution_count": 4,
   "metadata": {},
   "outputs": [],
   "source": [
    "model.compile(optimizer = 'adam', loss = 'sparse_categorical_crossentropy', metrics = ['accuracy'])"
   ]
  },
  {
   "cell_type": "markdown",
   "metadata": {},
   "source": [
    "### Batching and Training"
   ]
  },
  {
   "cell_type": "code",
   "execution_count": 5,
   "metadata": {},
   "outputs": [
    {
     "name": "stdout",
     "output_type": "stream",
     "text": [
      "Epoch 1/100\n",
      "36/36 - 0s - loss: 0.5459 - accuracy: 0.7871 - val_loss: 0.4260 - val_accuracy: 0.8635\n",
      "Epoch 2/100\n",
      "36/36 - 0s - loss: 0.3657 - accuracy: 0.8751 - val_loss: 0.3471 - val_accuracy: 0.8658\n",
      "Epoch 3/100\n",
      "36/36 - 0s - loss: 0.3129 - accuracy: 0.8835 - val_loss: 0.3217 - val_accuracy: 0.8814\n",
      "Epoch 4/100\n",
      "36/36 - 0s - loss: 0.2930 - accuracy: 0.8885 - val_loss: 0.3079 - val_accuracy: 0.8814\n",
      "Epoch 5/100\n",
      "36/36 - 0s - loss: 0.2809 - accuracy: 0.8924 - val_loss: 0.2913 - val_accuracy: 0.8859\n",
      "Epoch 6/100\n",
      "36/36 - 0s - loss: 0.2738 - accuracy: 0.8952 - val_loss: 0.2885 - val_accuracy: 0.8904\n",
      "Epoch 7/100\n",
      "36/36 - 0s - loss: 0.2656 - accuracy: 0.8991 - val_loss: 0.2825 - val_accuracy: 0.8904\n",
      "Epoch 8/100\n",
      "36/36 - 0s - loss: 0.2602 - accuracy: 0.9008 - val_loss: 0.2747 - val_accuracy: 0.8904\n",
      "Epoch 9/100\n",
      "36/36 - 0s - loss: 0.2563 - accuracy: 0.9019 - val_loss: 0.2701 - val_accuracy: 0.8971\n",
      "Epoch 10/100\n",
      "36/36 - 0s - loss: 0.2515 - accuracy: 0.9028 - val_loss: 0.2707 - val_accuracy: 0.8993\n",
      "Epoch 11/100\n",
      "36/36 - 0s - loss: 0.2484 - accuracy: 0.9022 - val_loss: 0.2682 - val_accuracy: 0.8971\n",
      "Epoch 12/100\n",
      "36/36 - 0s - loss: 0.2458 - accuracy: 0.9039 - val_loss: 0.2644 - val_accuracy: 0.8949\n",
      "Epoch 13/100\n",
      "36/36 - 0s - loss: 0.2431 - accuracy: 0.9042 - val_loss: 0.2589 - val_accuracy: 0.9038\n",
      "Epoch 14/100\n",
      "36/36 - 0s - loss: 0.2423 - accuracy: 0.9067 - val_loss: 0.2586 - val_accuracy: 0.9060\n",
      "Epoch 15/100\n",
      "36/36 - 0s - loss: 0.2405 - accuracy: 0.9064 - val_loss: 0.2562 - val_accuracy: 0.9060\n",
      "Epoch 16/100\n",
      "36/36 - 0s - loss: 0.2381 - accuracy: 0.9078 - val_loss: 0.2553 - val_accuracy: 0.9083\n",
      "Epoch 17/100\n",
      "36/36 - 0s - loss: 0.2370 - accuracy: 0.9089 - val_loss: 0.2507 - val_accuracy: 0.9060\n",
      "Epoch 18/100\n",
      "36/36 - 0s - loss: 0.2344 - accuracy: 0.9098 - val_loss: 0.2474 - val_accuracy: 0.9150\n",
      "Epoch 19/100\n",
      "36/36 - 0s - loss: 0.2376 - accuracy: 0.9098 - val_loss: 0.2682 - val_accuracy: 0.9060\n",
      "Epoch 20/100\n",
      "36/36 - 0s - loss: 0.2319 - accuracy: 0.9114 - val_loss: 0.2440 - val_accuracy: 0.9105\n",
      "Epoch 21/100\n",
      "36/36 - 0s - loss: 0.2314 - accuracy: 0.9131 - val_loss: 0.2581 - val_accuracy: 0.9128\n",
      "Epoch 22/100\n",
      "36/36 - 0s - loss: 0.2312 - accuracy: 0.9106 - val_loss: 0.2496 - val_accuracy: 0.9128\n"
     ]
    },
    {
     "data": {
      "text/plain": [
       "<tensorflow.python.keras.callbacks.History at 0x288012308b0>"
      ]
     },
     "execution_count": 5,
     "metadata": {},
     "output_type": "execute_result"
    }
   ],
   "source": [
    "batch_size = 100\n",
    "max_epochs = 100\n",
    "\n",
    "# we found that in some instances validation loss is increasing i.e. we overfitted the model. To counter that we \n",
    "# need to introduce early_stopping which will stop the training when the model isn't improving (i.e. validation loss\n",
    "# has increased for the very first time)\n",
    "\n",
    "early_stopping = tf.keras.callbacks.EarlyStopping(patience=2)\n",
    "\n",
    "# we define patience to not to be too strict when validation loss has increased. Here we gave the model 2 chances\n",
    "# where the validation loss can increase. By default the value of patience is set to 0.\n",
    "\n",
    "model.fit(train_inputs,\n",
    "         train_targets,\n",
    "         batch_size = batch_size,\n",
    "         epochs = max_epochs,\n",
    "         callbacks = [early_stopping],\n",
    "         validation_data = (validation_inputs,validation_targets),\n",
    "         verbose = 2)"
   ]
  },
  {
   "cell_type": "markdown",
   "metadata": {},
   "source": [
    "## Testing"
   ]
  },
  {
   "cell_type": "code",
   "execution_count": 6,
   "metadata": {},
   "outputs": [
    {
     "name": "stdout",
     "output_type": "stream",
     "text": [
      "14/14 [==============================] - 0s 2ms/step - loss: 0.2305 - accuracy: 0.9196\n"
     ]
    }
   ],
   "source": [
    "test_loss, test_accuracy = model.evaluate(test_inputs, test_targets)"
   ]
  },
  {
   "cell_type": "code",
   "execution_count": 7,
   "metadata": {},
   "outputs": [
    {
     "name": "stdout",
     "output_type": "stream",
     "text": [
      "Test loss :0.23. Test accuracy: 91.96%\n"
     ]
    }
   ],
   "source": [
    "print('Test loss :{0:.2f}. Test accuracy: {1:.2f}%'.format(test_loss, test_accuracy*100.))"
   ]
  },
  {
   "cell_type": "code",
   "execution_count": null,
   "metadata": {},
   "outputs": [],
   "source": []
  }
 ],
 "metadata": {
  "kernelspec": {
   "display_name": "Python 3",
   "language": "python",
   "name": "python3"
  },
  "language_info": {
   "codemirror_mode": {
    "name": "ipython",
    "version": 3
   },
   "file_extension": ".py",
   "mimetype": "text/x-python",
   "name": "python",
   "nbconvert_exporter": "python",
   "pygments_lexer": "ipython3",
   "version": "3.8.5"
  }
 },
 "nbformat": 4,
 "nbformat_minor": 4
}
