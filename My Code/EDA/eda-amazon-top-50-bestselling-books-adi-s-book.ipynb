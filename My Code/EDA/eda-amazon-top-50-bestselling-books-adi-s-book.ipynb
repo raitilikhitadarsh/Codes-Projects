{
 "cells": [
  {
   "cell_type": "code",
   "execution_count": 1,
   "metadata": {
    "_cell_guid": "b1076dfc-b9ad-4769-8c92-a6c4dae69d19",
    "_uuid": "8f2839f25d086af736a60e9eeb907d3b93b6e0e5",
    "execution": {
     "iopub.execute_input": "2022-01-21T18:07:31.396104Z",
     "iopub.status.busy": "2022-01-21T18:07:31.395317Z",
     "iopub.status.idle": "2022-01-21T18:07:31.43288Z",
     "shell.execute_reply": "2022-01-21T18:07:31.431982Z",
     "shell.execute_reply.started": "2022-01-21T18:07:31.395962Z"
    }
   },
   "outputs": [],
   "source": [
    "# This Python 3 environment comes with many helpful analytics libraries installed\n",
    "# It is defined by the kaggle/python Docker image: https://github.com/kaggle/docker-python\n",
    "# For example, here's several helpful packages to load\n",
    "\n",
    "import numpy as np # linear algebra\n",
    "import pandas as pd # data processing, CSV file I/O (e.g. pd.read_csv)\n",
    "\n",
    "# Input data files are available in the read-only \"../input/\" directory\n",
    "# For example, running this (by clicking run or pressing Shift+Enter) will list all files under the input directory\n",
    "\n",
    "import os\n",
    "for dirname, _, filenames in os.walk('/kaggle/input'):\n",
    "    for filename in filenames:\n",
    "        print(os.path.join(dirname, filename))\n",
    "\n",
    "# You can write up to 20GB to the current directory (/kaggle/working/) that gets preserved as output when you create a version using \"Save & Run All\" \n",
    "# You can also write temporary files to /kaggle/temp/, but they won't be saved outside of the current session"
   ]
  },
  {
   "cell_type": "markdown",
   "metadata": {},
   "source": [
    "# **Basic EDA: Amazon Top 50 Bestselling Books [Adi's Book]**"
   ]
  },
  {
   "cell_type": "markdown",
   "metadata": {},
   "source": [
    "![https://i.guim.co.uk/img/media/c72db316049112ebb6c4997889a15c5b7706a861/0_182_5472_3283/master/5472.jpg?width=620&quality=85&auto=format&fit=max&s=49220534c638eafbc34e5aa07de0a240](http://)"
   ]
  },
  {
   "cell_type": "markdown",
   "metadata": {},
   "source": [
    "# Table of contents:\n",
    "    1. Data Insights\n",
    "    2. Questions to address            \n",
    "    3. Importing relevant libraries and data\n",
    "    4. Data cleaning/manipulation\n",
    "    5. Exploratory Data Analytics\n",
    "    6. Correlation Testing\n",
    "    7. References"
   ]
  },
  {
   "cell_type": "markdown",
   "metadata": {},
   "source": [
    "# ***Dataset Insights***"
   ]
  },
  {
   "cell_type": "markdown",
   "metadata": {},
   "source": [
    "**Source-** https://www.kaggle.com/sootersaalu/amazon-top-50-bestselling-books-2009-2019\n",
    "\n",
    "**Description-** Dataset on Amazon's Top 50 bestselling books from 2009 to 2019. Contains 550 books, data has been categorized into fiction and non-fiction using Goodreads\n",
    "\n",
    "**Columns- **\n",
    "1. Name\n",
    "2. Author\n",
    "3. User Rating\n",
    "4. Reviews\n",
    "5. Price\n",
    "6. Year\n",
    "7. Genre\n"
   ]
  },
  {
   "cell_type": "markdown",
   "metadata": {},
   "source": [
    "# ***Questions to address***\n",
    "\n",
    "1.) What are the Top 20 Bestselling Authors having highest bestselling books? (genre wise)\n",
    "\n",
    "2.) Which book has the most reviews? (top 10 books, genre wise)\n",
    "\n",
    "3.) Which book has the most reviews? (overall)\n",
    "\n",
    "4.) Which Genre sold the most between 2009-2019?\n",
    "\n",
    "5.) Which Year saw the most reviews?\n",
    "\n",
    "(Correlation Testing)\n",
    "\n",
    "6.) Are user rating and reviews related?\n",
    "\n",
    "7.) Are user rating and price related?"
   ]
  },
  {
   "cell_type": "markdown",
   "metadata": {},
   "source": [
    "# ***Importing relevant libraries and data***"
   ]
  },
  {
   "cell_type": "code",
   "execution_count": 2,
   "metadata": {
    "execution": {
     "iopub.execute_input": "2022-01-21T18:07:31.437396Z",
     "iopub.status.busy": "2022-01-21T18:07:31.437148Z",
     "iopub.status.idle": "2022-01-21T18:07:32.50167Z",
     "shell.execute_reply": "2022-01-21T18:07:32.500642Z",
     "shell.execute_reply.started": "2022-01-21T18:07:31.437365Z"
    }
   },
   "outputs": [],
   "source": [
    "import pandas as pd #reading files, dealing with tabular representation of data\n",
    "import numpy as np #dealing with numpy array functions\n",
    "import seaborn as sns #visualisation\n",
    "import matplotlib.pyplot as plt #visualisation\n",
    "import missingno as msno # visualisation of missing values in the form of visual matrix\n",
    "%matplotlib inline \n",
    "sns.set(color_codes=True)\n",
    "\n",
    "# Manage warnings\n",
    "import warnings\n",
    "warnings.filterwarnings('ignore')"
   ]
  },
  {
   "cell_type": "code",
   "execution_count": 3,
   "metadata": {
    "execution": {
     "iopub.execute_input": "2022-01-21T18:07:32.503338Z",
     "iopub.status.busy": "2022-01-21T18:07:32.503121Z",
     "iopub.status.idle": "2022-01-21T18:07:32.546675Z",
     "shell.execute_reply": "2022-01-21T18:07:32.542686Z",
     "shell.execute_reply.started": "2022-01-21T18:07:32.503311Z"
    }
   },
   "outputs": [
    {
     "ename": "FileNotFoundError",
     "evalue": "[Errno 2] No such file or directory: '../input/amazon-top-50-bestselling-books-2009-2019/bestsellers with categories.csv'",
     "output_type": "error",
     "traceback": [
      "\u001b[1;31m---------------------------------------------------------------------------\u001b[0m",
      "\u001b[1;31mFileNotFoundError\u001b[0m                         Traceback (most recent call last)",
      "\u001b[1;32m<ipython-input-3-28425a411dc0>\u001b[0m in \u001b[0;36m<module>\u001b[1;34m\u001b[0m\n\u001b[1;32m----> 1\u001b[1;33m \u001b[0mdf\u001b[0m \u001b[1;33m=\u001b[0m \u001b[0mpd\u001b[0m\u001b[1;33m.\u001b[0m\u001b[0mread_csv\u001b[0m\u001b[1;33m(\u001b[0m\u001b[1;34m'../input/amazon-top-50-bestselling-books-2009-2019/bestsellers with categories.csv'\u001b[0m\u001b[1;33m)\u001b[0m\u001b[1;33m\u001b[0m\u001b[1;33m\u001b[0m\u001b[0m\n\u001b[0m\u001b[0;32m      2\u001b[0m \u001b[1;31m# To display the top 5 rows\u001b[0m\u001b[1;33m\u001b[0m\u001b[1;33m\u001b[0m\u001b[1;33m\u001b[0m\u001b[0m\n\u001b[0;32m      3\u001b[0m \u001b[0mdf\u001b[0m\u001b[1;33m.\u001b[0m\u001b[0mhead\u001b[0m\u001b[1;33m(\u001b[0m\u001b[1;36m5\u001b[0m\u001b[1;33m)\u001b[0m\u001b[1;33m\u001b[0m\u001b[1;33m\u001b[0m\u001b[0m\n",
      "\u001b[1;32mD:\\Softwares\\Anaconda\\lib\\site-packages\\pandas\\io\\parsers.py\u001b[0m in \u001b[0;36mread_csv\u001b[1;34m(filepath_or_buffer, sep, delimiter, header, names, index_col, usecols, squeeze, prefix, mangle_dupe_cols, dtype, engine, converters, true_values, false_values, skipinitialspace, skiprows, skipfooter, nrows, na_values, keep_default_na, na_filter, verbose, skip_blank_lines, parse_dates, infer_datetime_format, keep_date_col, date_parser, dayfirst, cache_dates, iterator, chunksize, compression, thousands, decimal, lineterminator, quotechar, quoting, doublequote, escapechar, comment, encoding, dialect, error_bad_lines, warn_bad_lines, delim_whitespace, low_memory, memory_map, float_precision)\u001b[0m\n\u001b[0;32m    684\u001b[0m     )\n\u001b[0;32m    685\u001b[0m \u001b[1;33m\u001b[0m\u001b[0m\n\u001b[1;32m--> 686\u001b[1;33m     \u001b[1;32mreturn\u001b[0m \u001b[0m_read\u001b[0m\u001b[1;33m(\u001b[0m\u001b[0mfilepath_or_buffer\u001b[0m\u001b[1;33m,\u001b[0m \u001b[0mkwds\u001b[0m\u001b[1;33m)\u001b[0m\u001b[1;33m\u001b[0m\u001b[1;33m\u001b[0m\u001b[0m\n\u001b[0m\u001b[0;32m    687\u001b[0m \u001b[1;33m\u001b[0m\u001b[0m\n\u001b[0;32m    688\u001b[0m \u001b[1;33m\u001b[0m\u001b[0m\n",
      "\u001b[1;32mD:\\Softwares\\Anaconda\\lib\\site-packages\\pandas\\io\\parsers.py\u001b[0m in \u001b[0;36m_read\u001b[1;34m(filepath_or_buffer, kwds)\u001b[0m\n\u001b[0;32m    450\u001b[0m \u001b[1;33m\u001b[0m\u001b[0m\n\u001b[0;32m    451\u001b[0m     \u001b[1;31m# Create the parser.\u001b[0m\u001b[1;33m\u001b[0m\u001b[1;33m\u001b[0m\u001b[1;33m\u001b[0m\u001b[0m\n\u001b[1;32m--> 452\u001b[1;33m     \u001b[0mparser\u001b[0m \u001b[1;33m=\u001b[0m \u001b[0mTextFileReader\u001b[0m\u001b[1;33m(\u001b[0m\u001b[0mfp_or_buf\u001b[0m\u001b[1;33m,\u001b[0m \u001b[1;33m**\u001b[0m\u001b[0mkwds\u001b[0m\u001b[1;33m)\u001b[0m\u001b[1;33m\u001b[0m\u001b[1;33m\u001b[0m\u001b[0m\n\u001b[0m\u001b[0;32m    453\u001b[0m \u001b[1;33m\u001b[0m\u001b[0m\n\u001b[0;32m    454\u001b[0m     \u001b[1;32mif\u001b[0m \u001b[0mchunksize\u001b[0m \u001b[1;32mor\u001b[0m \u001b[0miterator\u001b[0m\u001b[1;33m:\u001b[0m\u001b[1;33m\u001b[0m\u001b[1;33m\u001b[0m\u001b[0m\n",
      "\u001b[1;32mD:\\Softwares\\Anaconda\\lib\\site-packages\\pandas\\io\\parsers.py\u001b[0m in \u001b[0;36m__init__\u001b[1;34m(self, f, engine, **kwds)\u001b[0m\n\u001b[0;32m    934\u001b[0m             \u001b[0mself\u001b[0m\u001b[1;33m.\u001b[0m\u001b[0moptions\u001b[0m\u001b[1;33m[\u001b[0m\u001b[1;34m\"has_index_names\"\u001b[0m\u001b[1;33m]\u001b[0m \u001b[1;33m=\u001b[0m \u001b[0mkwds\u001b[0m\u001b[1;33m[\u001b[0m\u001b[1;34m\"has_index_names\"\u001b[0m\u001b[1;33m]\u001b[0m\u001b[1;33m\u001b[0m\u001b[1;33m\u001b[0m\u001b[0m\n\u001b[0;32m    935\u001b[0m \u001b[1;33m\u001b[0m\u001b[0m\n\u001b[1;32m--> 936\u001b[1;33m         \u001b[0mself\u001b[0m\u001b[1;33m.\u001b[0m\u001b[0m_make_engine\u001b[0m\u001b[1;33m(\u001b[0m\u001b[0mself\u001b[0m\u001b[1;33m.\u001b[0m\u001b[0mengine\u001b[0m\u001b[1;33m)\u001b[0m\u001b[1;33m\u001b[0m\u001b[1;33m\u001b[0m\u001b[0m\n\u001b[0m\u001b[0;32m    937\u001b[0m \u001b[1;33m\u001b[0m\u001b[0m\n\u001b[0;32m    938\u001b[0m     \u001b[1;32mdef\u001b[0m \u001b[0mclose\u001b[0m\u001b[1;33m(\u001b[0m\u001b[0mself\u001b[0m\u001b[1;33m)\u001b[0m\u001b[1;33m:\u001b[0m\u001b[1;33m\u001b[0m\u001b[1;33m\u001b[0m\u001b[0m\n",
      "\u001b[1;32mD:\\Softwares\\Anaconda\\lib\\site-packages\\pandas\\io\\parsers.py\u001b[0m in \u001b[0;36m_make_engine\u001b[1;34m(self, engine)\u001b[0m\n\u001b[0;32m   1166\u001b[0m     \u001b[1;32mdef\u001b[0m \u001b[0m_make_engine\u001b[0m\u001b[1;33m(\u001b[0m\u001b[0mself\u001b[0m\u001b[1;33m,\u001b[0m \u001b[0mengine\u001b[0m\u001b[1;33m=\u001b[0m\u001b[1;34m\"c\"\u001b[0m\u001b[1;33m)\u001b[0m\u001b[1;33m:\u001b[0m\u001b[1;33m\u001b[0m\u001b[1;33m\u001b[0m\u001b[0m\n\u001b[0;32m   1167\u001b[0m         \u001b[1;32mif\u001b[0m \u001b[0mengine\u001b[0m \u001b[1;33m==\u001b[0m \u001b[1;34m\"c\"\u001b[0m\u001b[1;33m:\u001b[0m\u001b[1;33m\u001b[0m\u001b[1;33m\u001b[0m\u001b[0m\n\u001b[1;32m-> 1168\u001b[1;33m             \u001b[0mself\u001b[0m\u001b[1;33m.\u001b[0m\u001b[0m_engine\u001b[0m \u001b[1;33m=\u001b[0m \u001b[0mCParserWrapper\u001b[0m\u001b[1;33m(\u001b[0m\u001b[0mself\u001b[0m\u001b[1;33m.\u001b[0m\u001b[0mf\u001b[0m\u001b[1;33m,\u001b[0m \u001b[1;33m**\u001b[0m\u001b[0mself\u001b[0m\u001b[1;33m.\u001b[0m\u001b[0moptions\u001b[0m\u001b[1;33m)\u001b[0m\u001b[1;33m\u001b[0m\u001b[1;33m\u001b[0m\u001b[0m\n\u001b[0m\u001b[0;32m   1169\u001b[0m         \u001b[1;32melse\u001b[0m\u001b[1;33m:\u001b[0m\u001b[1;33m\u001b[0m\u001b[1;33m\u001b[0m\u001b[0m\n\u001b[0;32m   1170\u001b[0m             \u001b[1;32mif\u001b[0m \u001b[0mengine\u001b[0m \u001b[1;33m==\u001b[0m \u001b[1;34m\"python\"\u001b[0m\u001b[1;33m:\u001b[0m\u001b[1;33m\u001b[0m\u001b[1;33m\u001b[0m\u001b[0m\n",
      "\u001b[1;32mD:\\Softwares\\Anaconda\\lib\\site-packages\\pandas\\io\\parsers.py\u001b[0m in \u001b[0;36m__init__\u001b[1;34m(self, src, **kwds)\u001b[0m\n\u001b[0;32m   1996\u001b[0m         \u001b[0mkwds\u001b[0m\u001b[1;33m[\u001b[0m\u001b[1;34m\"usecols\"\u001b[0m\u001b[1;33m]\u001b[0m \u001b[1;33m=\u001b[0m \u001b[0mself\u001b[0m\u001b[1;33m.\u001b[0m\u001b[0musecols\u001b[0m\u001b[1;33m\u001b[0m\u001b[1;33m\u001b[0m\u001b[0m\n\u001b[0;32m   1997\u001b[0m \u001b[1;33m\u001b[0m\u001b[0m\n\u001b[1;32m-> 1998\u001b[1;33m         \u001b[0mself\u001b[0m\u001b[1;33m.\u001b[0m\u001b[0m_reader\u001b[0m \u001b[1;33m=\u001b[0m \u001b[0mparsers\u001b[0m\u001b[1;33m.\u001b[0m\u001b[0mTextReader\u001b[0m\u001b[1;33m(\u001b[0m\u001b[0msrc\u001b[0m\u001b[1;33m,\u001b[0m \u001b[1;33m**\u001b[0m\u001b[0mkwds\u001b[0m\u001b[1;33m)\u001b[0m\u001b[1;33m\u001b[0m\u001b[1;33m\u001b[0m\u001b[0m\n\u001b[0m\u001b[0;32m   1999\u001b[0m         \u001b[0mself\u001b[0m\u001b[1;33m.\u001b[0m\u001b[0munnamed_cols\u001b[0m \u001b[1;33m=\u001b[0m \u001b[0mself\u001b[0m\u001b[1;33m.\u001b[0m\u001b[0m_reader\u001b[0m\u001b[1;33m.\u001b[0m\u001b[0munnamed_cols\u001b[0m\u001b[1;33m\u001b[0m\u001b[1;33m\u001b[0m\u001b[0m\n\u001b[0;32m   2000\u001b[0m \u001b[1;33m\u001b[0m\u001b[0m\n",
      "\u001b[1;32mpandas\\_libs\\parsers.pyx\u001b[0m in \u001b[0;36mpandas._libs.parsers.TextReader.__cinit__\u001b[1;34m()\u001b[0m\n",
      "\u001b[1;32mpandas\\_libs\\parsers.pyx\u001b[0m in \u001b[0;36mpandas._libs.parsers.TextReader._setup_parser_source\u001b[1;34m()\u001b[0m\n",
      "\u001b[1;31mFileNotFoundError\u001b[0m: [Errno 2] No such file or directory: '../input/amazon-top-50-bestselling-books-2009-2019/bestsellers with categories.csv'"
     ]
    }
   ],
   "source": [
    "df = pd.read_csv('../input/amazon-top-50-bestselling-books-2009-2019/bestsellers with categories.csv')\n",
    "# To display the top 5 rows\n",
    "df.head(5)"
   ]
  },
  {
   "cell_type": "code",
   "execution_count": null,
   "metadata": {
    "execution": {
     "iopub.execute_input": "2022-01-21T18:07:32.548694Z",
     "iopub.status.busy": "2022-01-21T18:07:32.548085Z",
     "iopub.status.idle": "2022-01-21T18:07:32.555178Z",
     "shell.execute_reply": "2022-01-21T18:07:32.554467Z",
     "shell.execute_reply.started": "2022-01-21T18:07:32.548654Z"
    }
   },
   "outputs": [],
   "source": [
    "# checking the datatypes\n",
    "df.dtypes"
   ]
  },
  {
   "cell_type": "code",
   "execution_count": null,
   "metadata": {
    "execution": {
     "iopub.execute_input": "2022-01-21T18:07:32.557315Z",
     "iopub.status.busy": "2022-01-21T18:07:32.556835Z",
     "iopub.status.idle": "2022-01-21T18:07:32.584784Z",
     "shell.execute_reply": "2022-01-21T18:07:32.583874Z",
     "shell.execute_reply.started": "2022-01-21T18:07:32.557284Z"
    }
   },
   "outputs": [],
   "source": [
    "print('-----------------------------------------------------------------------------------------------------------')\n",
    "print(f'This dataset contains Bestselling Books from {df.Year.min()} to {df.Year.max()}.')\n",
    "print('-----------------------------------------------------------------------------------------------------------\\n')\n",
    "df.info()"
   ]
  },
  {
   "cell_type": "markdown",
   "metadata": {},
   "source": [
    "# ***Data cleaning/manipulation***"
   ]
  },
  {
   "cell_type": "code",
   "execution_count": null,
   "metadata": {
    "execution": {
     "iopub.execute_input": "2022-01-21T18:07:32.586743Z",
     "iopub.status.busy": "2022-01-21T18:07:32.586397Z",
     "iopub.status.idle": "2022-01-21T18:07:32.986975Z",
     "shell.execute_reply": "2022-01-21T18:07:32.986183Z",
     "shell.execute_reply.started": "2022-01-21T18:07:32.586689Z"
    }
   },
   "outputs": [],
   "source": [
    "print(df.isnull().sum()) #summing up all the rows having missing values corresponding to their columns\n",
    "msno.matrix(df, figsize=(12,6))\n",
    "plt.show"
   ]
  },
  {
   "cell_type": "markdown",
   "metadata": {},
   "source": [
    "So no data cleaning is required"
   ]
  },
  {
   "cell_type": "code",
   "execution_count": null,
   "metadata": {
    "execution": {
     "iopub.execute_input": "2022-01-21T18:07:32.988921Z",
     "iopub.status.busy": "2022-01-21T18:07:32.988236Z",
     "iopub.status.idle": "2022-01-21T18:07:33.011351Z",
     "shell.execute_reply": "2022-01-21T18:07:33.01053Z",
     "shell.execute_reply.started": "2022-01-21T18:07:32.988875Z"
    }
   },
   "outputs": [],
   "source": [
    "df.describe(include='O')"
   ]
  },
  {
   "cell_type": "code",
   "execution_count": null,
   "metadata": {
    "execution": {
     "iopub.execute_input": "2022-01-21T18:07:33.012822Z",
     "iopub.status.busy": "2022-01-21T18:07:33.012495Z",
     "iopub.status.idle": "2022-01-21T18:07:33.022838Z",
     "shell.execute_reply": "2022-01-21T18:07:33.021717Z",
     "shell.execute_reply.started": "2022-01-21T18:07:33.012789Z"
    }
   },
   "outputs": [],
   "source": [
    "# But a same book could be sold at a different price in the coming years. So we must keep the final values.\n",
    "print(f'Before: {df.shape}')\n",
    "df=df.drop_duplicates(subset='Name',keep='last')\n",
    "print(f'After: {df.shape}')"
   ]
  },
  {
   "cell_type": "markdown",
   "metadata": {},
   "source": [
    "# ***Exploratory Data Analytics***"
   ]
  },
  {
   "cell_type": "markdown",
   "metadata": {},
   "source": [
    "Checking the distribution of various parameters"
   ]
  },
  {
   "cell_type": "code",
   "execution_count": null,
   "metadata": {
    "execution": {
     "iopub.execute_input": "2022-01-21T18:07:33.024802Z",
     "iopub.status.busy": "2022-01-21T18:07:33.024192Z",
     "iopub.status.idle": "2022-01-21T18:07:33.411798Z",
     "shell.execute_reply": "2022-01-21T18:07:33.411096Z",
     "shell.execute_reply.started": "2022-01-21T18:07:33.024758Z"
    }
   },
   "outputs": [],
   "source": [
    "sns.distplot(df['User Rating'])"
   ]
  },
  {
   "cell_type": "code",
   "execution_count": null,
   "metadata": {
    "execution": {
     "iopub.execute_input": "2022-01-21T18:07:33.413378Z",
     "iopub.status.busy": "2022-01-21T18:07:33.413001Z",
     "iopub.status.idle": "2022-01-21T18:07:33.816219Z",
     "shell.execute_reply": "2022-01-21T18:07:33.815539Z",
     "shell.execute_reply.started": "2022-01-21T18:07:33.413329Z"
    }
   },
   "outputs": [],
   "source": [
    "sns.distplot(df['Reviews'])"
   ]
  },
  {
   "cell_type": "code",
   "execution_count": null,
   "metadata": {
    "execution": {
     "iopub.execute_input": "2022-01-21T18:07:33.819042Z",
     "iopub.status.busy": "2022-01-21T18:07:33.818645Z",
     "iopub.status.idle": "2022-01-21T18:07:34.218335Z",
     "shell.execute_reply": "2022-01-21T18:07:34.217393Z",
     "shell.execute_reply.started": "2022-01-21T18:07:33.818991Z"
    }
   },
   "outputs": [],
   "source": [
    "sns.distplot(df['Price'])"
   ]
  },
  {
   "cell_type": "markdown",
   "metadata": {},
   "source": [
    "# 1. What are the Top 10 Bestselling Authors having highest bestselling books? (genre wise)"
   ]
  },
  {
   "cell_type": "code",
   "execution_count": null,
   "metadata": {
    "execution": {
     "iopub.execute_input": "2022-01-21T18:07:34.220161Z",
     "iopub.status.busy": "2022-01-21T18:07:34.219907Z",
     "iopub.status.idle": "2022-01-21T18:07:34.227523Z",
     "shell.execute_reply": "2022-01-21T18:07:34.226516Z",
     "shell.execute_reply.started": "2022-01-21T18:07:34.220122Z"
    }
   },
   "outputs": [],
   "source": [
    "# Splitting the data into Fiction and Non-Fiction\n",
    "Fiction = df[df['Genre'] == 'Fiction']\n",
    "Non_Fiction = df[df['Genre'] == 'Non Fiction']"
   ]
  },
  {
   "cell_type": "code",
   "execution_count": null,
   "metadata": {
    "execution": {
     "iopub.execute_input": "2022-01-21T18:07:34.229946Z",
     "iopub.status.busy": "2022-01-21T18:07:34.229617Z",
     "iopub.status.idle": "2022-01-21T18:07:34.251744Z",
     "shell.execute_reply": "2022-01-21T18:07:34.250938Z",
     "shell.execute_reply.started": "2022-01-21T18:07:34.2299Z"
    }
   },
   "outputs": [],
   "source": [
    "Top_Fiction = Fiction.groupby('Author')[['Name']].count().sort_values(by='Name', ascending=False).reset_index()\n",
    "Top_10_Fiction_Auth = Top_Fiction.head(10)\n",
    "Top_10_Fiction_Auth"
   ]
  },
  {
   "cell_type": "code",
   "execution_count": null,
   "metadata": {
    "execution": {
     "iopub.execute_input": "2022-01-21T18:07:34.253533Z",
     "iopub.status.busy": "2022-01-21T18:07:34.252711Z",
     "iopub.status.idle": "2022-01-21T18:07:34.274871Z",
     "shell.execute_reply": "2022-01-21T18:07:34.273949Z",
     "shell.execute_reply.started": "2022-01-21T18:07:34.253495Z"
    }
   },
   "outputs": [],
   "source": [
    "Top_Non_Fiction = Non_Fiction.groupby('Author')[['Name']].count().sort_values(by='Name', ascending=False).reset_index()\n",
    "Top_10_Non_Fiction_Auth = Top_Non_Fiction.head(10)\n",
    "Top_10_Non_Fiction_Auth"
   ]
  },
  {
   "cell_type": "code",
   "execution_count": null,
   "metadata": {
    "execution": {
     "iopub.execute_input": "2022-01-21T18:07:34.27627Z",
     "iopub.status.busy": "2022-01-21T18:07:34.276053Z",
     "iopub.status.idle": "2022-01-21T18:07:34.960897Z",
     "shell.execute_reply": "2022-01-21T18:07:34.959936Z",
     "shell.execute_reply.started": "2022-01-21T18:07:34.276244Z"
    }
   },
   "outputs": [],
   "source": [
    "plt.figure(figsize=(28,7))\n",
    "plt.subplot(1,2,1)\n",
    "plt.barh(Top_10_Fiction_Auth['Author'], Top_10_Fiction_Auth['Name'])\n",
    "plt.title('Top 10 books by # of best-sellers (Fiction)',fontweight='bold',fontsize=18)\n",
    "plt.xlabel('No. of Bestsellers',fontweight='bold')\n",
    "plt.ylabel('Authors',fontweight='bold')\n",
    "plt.subplot(1,2,2)\n",
    "plt.barh(Top_10_Non_Fiction_Auth['Author'], Top_10_Non_Fiction_Auth['Name'])\n",
    "plt.ylabel('Authors',fontweight='bold')\n",
    "plt.xlabel('No. of Bestsellers',fontweight='bold')\n",
    "plt.title('Top 10 books by # of best-sellers (Non-Fiction)',fontweight='bold',fontsize=18)\n",
    "plt.show"
   ]
  },
  {
   "cell_type": "markdown",
   "metadata": {},
   "source": [
    "# 2.) Which book has the most reviews? (top 10 books, genre wise)"
   ]
  },
  {
   "cell_type": "code",
   "execution_count": null,
   "metadata": {
    "execution": {
     "iopub.execute_input": "2022-01-21T18:07:34.962533Z",
     "iopub.status.busy": "2022-01-21T18:07:34.96224Z",
     "iopub.status.idle": "2022-01-21T18:07:34.986283Z",
     "shell.execute_reply": "2022-01-21T18:07:34.984659Z",
     "shell.execute_reply.started": "2022-01-21T18:07:34.962493Z"
    }
   },
   "outputs": [],
   "source": [
    "Top_Review_Book_Fiction = Fiction.groupby('Name')[['Reviews']].agg(np.mean).sort_values(by='Reviews',ascending=False).reset_index()\n",
    "Top_10_Review_Book_Fiction = Top_Review_Book_Fiction.head(10)\n",
    "Top_10_Review_Book_Fiction"
   ]
  },
  {
   "cell_type": "code",
   "execution_count": null,
   "metadata": {
    "execution": {
     "iopub.execute_input": "2022-01-21T18:07:34.990146Z",
     "iopub.status.busy": "2022-01-21T18:07:34.989473Z",
     "iopub.status.idle": "2022-01-21T18:07:35.011507Z",
     "shell.execute_reply": "2022-01-21T18:07:35.010279Z",
     "shell.execute_reply.started": "2022-01-21T18:07:34.990018Z"
    }
   },
   "outputs": [],
   "source": [
    "Top_Review_Book_Non_Fiction = Non_Fiction.groupby('Name')[['Reviews']].agg(np.mean).sort_values(by='Reviews',ascending=False).reset_index()\n",
    "Top_10_Review_Book_Non_Fiction = Top_Review_Book_Non_Fiction.head(10)\n",
    "Top_10_Review_Book_Non_Fiction"
   ]
  },
  {
   "cell_type": "code",
   "execution_count": null,
   "metadata": {
    "execution": {
     "iopub.execute_input": "2022-01-21T18:07:35.013002Z",
     "iopub.status.busy": "2022-01-21T18:07:35.012539Z",
     "iopub.status.idle": "2022-01-21T18:07:35.914017Z",
     "shell.execute_reply": "2022-01-21T18:07:35.91302Z",
     "shell.execute_reply.started": "2022-01-21T18:07:35.012964Z"
    }
   },
   "outputs": [],
   "source": [
    "plt.figure(figsize=(15,20))\n",
    "plt.subplot(2,1,1)\n",
    "plt.barh(Top_10_Review_Book_Fiction['Name'], Top_10_Review_Book_Fiction['Reviews'])\n",
    "plt.title('Top 10 books by # of best-sellers (Fiction)',fontweight='bold',fontsize=18)\n",
    "plt.xlabel('No. of Reviews',fontweight='bold')\n",
    "plt.ylabel('Book Name',fontweight='bold')\n",
    "plt.subplot(2,1,2)\n",
    "plt.barh(Top_10_Review_Book_Non_Fiction['Name'], Top_10_Review_Book_Non_Fiction['Reviews'])\n",
    "plt.ylabel('Book Name',fontweight='bold')\n",
    "plt.xlabel('No. of Reviews',fontweight='bold')\n",
    "plt.title('Top 10 books by # of best-sellers (Non-Fiction)',fontweight='bold',fontsize=18)\n",
    "plt.show"
   ]
  },
  {
   "cell_type": "markdown",
   "metadata": {},
   "source": [
    "# 3.) Which book has the most reviews? (overall)"
   ]
  },
  {
   "cell_type": "code",
   "execution_count": null,
   "metadata": {
    "execution": {
     "iopub.execute_input": "2022-01-21T18:07:35.915558Z",
     "iopub.status.busy": "2022-01-21T18:07:35.91504Z",
     "iopub.status.idle": "2022-01-21T18:07:35.931782Z",
     "shell.execute_reply": "2022-01-21T18:07:35.931009Z",
     "shell.execute_reply.started": "2022-01-21T18:07:35.915526Z"
    }
   },
   "outputs": [],
   "source": [
    "Top_Review_Book = df.groupby('Name')[['Reviews']].agg(np.mean).sort_values(by='Reviews',ascending=False).reset_index()\n",
    "Top_10_Review_Book = Top_Review_Book.head(10)\n",
    "Top_10_Review_Book"
   ]
  },
  {
   "cell_type": "code",
   "execution_count": null,
   "metadata": {
    "execution": {
     "iopub.execute_input": "2022-01-21T18:07:35.933223Z",
     "iopub.status.busy": "2022-01-21T18:07:35.932888Z",
     "iopub.status.idle": "2022-01-21T18:07:36.266284Z",
     "shell.execute_reply": "2022-01-21T18:07:36.265369Z",
     "shell.execute_reply.started": "2022-01-21T18:07:35.933181Z"
    }
   },
   "outputs": [],
   "source": [
    "plt.barh(Top_10_Review_Book['Name'], Top_10_Review_Book['Reviews'])\n",
    "plt.title('Top 10 books by # of reviews (Overall)',fontweight='bold',fontsize=18)\n",
    "plt.xlabel('No. of Reviews',fontweight='bold')\n",
    "plt.ylabel('Authors',fontweight='bold')"
   ]
  },
  {
   "cell_type": "markdown",
   "metadata": {},
   "source": [
    "Clearly the book ***\"Where the Crawdads Sing\"*** with ***87841 reviews*** has the highest number of reviews overall."
   ]
  },
  {
   "cell_type": "markdown",
   "metadata": {},
   "source": [
    "# 4.) Which Genre sold the most between 2009-2019?"
   ]
  },
  {
   "cell_type": "code",
   "execution_count": null,
   "metadata": {
    "execution": {
     "iopub.execute_input": "2022-01-21T18:07:36.267829Z",
     "iopub.status.busy": "2022-01-21T18:07:36.267612Z",
     "iopub.status.idle": "2022-01-21T18:07:36.379747Z",
     "shell.execute_reply": "2022-01-21T18:07:36.378532Z",
     "shell.execute_reply.started": "2022-01-21T18:07:36.267801Z"
    }
   },
   "outputs": [],
   "source": [
    "plt.pie(df['Genre'].value_counts(),labels=['Non Fiction','Fiction'],autopct='%.1f%%')"
   ]
  },
  {
   "cell_type": "markdown",
   "metadata": {},
   "source": [
    "***Non-Fiction*** genre sold the most books from 2009-2019 ***by 54.4%.***"
   ]
  },
  {
   "cell_type": "markdown",
   "metadata": {},
   "source": [
    "# 5.) Which Year saw the most reviews?"
   ]
  },
  {
   "cell_type": "code",
   "execution_count": null,
   "metadata": {
    "execution": {
     "iopub.execute_input": "2022-01-21T18:07:36.382154Z",
     "iopub.status.busy": "2022-01-21T18:07:36.38182Z",
     "iopub.status.idle": "2022-01-21T18:07:36.842498Z",
     "shell.execute_reply": "2022-01-21T18:07:36.841563Z",
     "shell.execute_reply.started": "2022-01-21T18:07:36.382111Z"
    }
   },
   "outputs": [],
   "source": [
    "sns.boxplot(df['Year'],df['Reviews'])"
   ]
  },
  {
   "cell_type": "markdown",
   "metadata": {},
   "source": [
    "Year ***2014*** saw the ***most number of reviews.***"
   ]
  },
  {
   "cell_type": "markdown",
   "metadata": {},
   "source": [
    "# ***Correlation Testing***"
   ]
  },
  {
   "cell_type": "markdown",
   "metadata": {},
   "source": [
    "# 6.) Are user rating and reviews related?"
   ]
  },
  {
   "cell_type": "code",
   "execution_count": null,
   "metadata": {
    "execution": {
     "iopub.execute_input": "2022-01-21T18:07:36.844932Z",
     "iopub.status.busy": "2022-01-21T18:07:36.844441Z",
     "iopub.status.idle": "2022-01-21T18:07:36.855736Z",
     "shell.execute_reply": "2022-01-21T18:07:36.85437Z",
     "shell.execute_reply.started": "2022-01-21T18:07:36.844876Z"
    }
   },
   "outputs": [],
   "source": [
    "# Kendall's Rank Correlation for User Rating and Reviews\n",
    "from scipy.stats import kendalltau\n",
    "stat, p = kendalltau(df['User Rating'],df['Reviews'])\n",
    "print('stat=%.3f, p=%.3f' % (stat, p))\n",
    "if p > 0.05:\n",
    "    print('Probably User Rating and Reviews are independent')\n",
    "else:\n",
    "    print('Probably User Rating and Reviews are dependent')"
   ]
  },
  {
   "cell_type": "markdown",
   "metadata": {},
   "source": [
    "# 7.) Are user rating and price related?"
   ]
  },
  {
   "cell_type": "code",
   "execution_count": null,
   "metadata": {
    "execution": {
     "iopub.execute_input": "2022-01-21T18:07:36.858006Z",
     "iopub.status.busy": "2022-01-21T18:07:36.857342Z",
     "iopub.status.idle": "2022-01-21T18:07:36.866089Z",
     "shell.execute_reply": "2022-01-21T18:07:36.864879Z",
     "shell.execute_reply.started": "2022-01-21T18:07:36.857965Z"
    }
   },
   "outputs": [],
   "source": [
    "# Kendall's Rank Correlation for User Rating and Price\n",
    "from scipy.stats import kendalltau\n",
    "stat, p = kendalltau(df['User Rating'],df['Price'])\n",
    "print('stat=%.3f, p=%.3f' % (stat, p))\n",
    "if p > 0.05:\n",
    "    print('Probably User Rating and Price are independent')\n",
    "else:\n",
    "    print('Probably User Rating and Price are dependent')"
   ]
  },
  {
   "cell_type": "markdown",
   "metadata": {},
   "source": [
    "# ***References***"
   ]
  },
  {
   "cell_type": "markdown",
   "metadata": {},
   "source": [
    "# Useful Links to visit.\n",
    "\n",
    "1. https://www.kaggle.com/muladpham/amazon-top-50-bestselling-books-moransbook/notebook\n",
    "\n",
    "2. https://www.kaggle.com/ivannatarov/amazon-s-books-eda-plotly-hypothesis-test/notebook\n",
    "\n",
    "3. https://www.python-graph-gallery.com/\n",
    "\n",
    "4. https://machinelearningmastery.com/statistical-hypothesis-tests-in-python-cheat-sheet/"
   ]
  }
 ],
 "metadata": {
  "kernelspec": {
   "display_name": "Python 3",
   "language": "python",
   "name": "python3"
  },
  "language_info": {
   "codemirror_mode": {
    "name": "ipython",
    "version": 3
   },
   "file_extension": ".py",
   "mimetype": "text/x-python",
   "name": "python",
   "nbconvert_exporter": "python",
   "pygments_lexer": "ipython3",
   "version": "3.8.5"
  }
 },
 "nbformat": 4,
 "nbformat_minor": 4
}
